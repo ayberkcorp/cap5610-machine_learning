{
  "nbformat": 4,
  "nbformat_minor": 0,
  "metadata": {
    "colab": {
      "name": "code.ipynb",
      "provenance": [],
      "collapsed_sections": [],
      "authorship_tag": "ABX9TyMeZIValZvc4QRLttrzs3Yn",
      "include_colab_link": true
    },
    "kernelspec": {
      "name": "python3",
      "display_name": "Python 3"
    },
    "accelerator": "GPU"
  },
  "cells": [
    {
      "cell_type": "markdown",
      "metadata": {
        "id": "view-in-github",
        "colab_type": "text"
      },
      "source": [
        "<a href=\"https://colab.research.google.com/github/ayberkcorp/cap5610-machine_learning/blob/master/hw6/code.ipynb\" target=\"_parent\"><img src=\"https://colab.research.google.com/assets/colab-badge.svg\" alt=\"Open In Colab\"/></a>"
      ]
    },
    {
      "cell_type": "code",
      "metadata": {
        "colab": {
          "base_uri": "https://localhost:8080/"
        },
        "id": "BhNXGUq2MUaI",
        "outputId": "666949cc-1fee-468d-fff3-709e53a57735"
      },
      "source": [
        "!pip install surprise"
      ],
      "execution_count": 1,
      "outputs": [
        {
          "output_type": "stream",
          "text": [
            "Collecting surprise\n",
            "  Downloading https://files.pythonhosted.org/packages/61/de/e5cba8682201fcf9c3719a6fdda95693468ed061945493dea2dd37c5618b/surprise-0.1-py2.py3-none-any.whl\n",
            "Collecting scikit-surprise\n",
            "\u001b[?25l  Downloading https://files.pythonhosted.org/packages/97/37/5d334adaf5ddd65da99fc65f6507e0e4599d092ba048f4302fe8775619e8/scikit-surprise-1.1.1.tar.gz (11.8MB)\n",
            "\u001b[K     |████████████████████████████████| 11.8MB 8.8MB/s \n",
            "\u001b[?25hRequirement already satisfied: joblib>=0.11 in /usr/local/lib/python3.6/dist-packages (from scikit-surprise->surprise) (0.17.0)\n",
            "Requirement already satisfied: numpy>=1.11.2 in /usr/local/lib/python3.6/dist-packages (from scikit-surprise->surprise) (1.18.5)\n",
            "Requirement already satisfied: scipy>=1.0.0 in /usr/local/lib/python3.6/dist-packages (from scikit-surprise->surprise) (1.4.1)\n",
            "Requirement already satisfied: six>=1.10.0 in /usr/local/lib/python3.6/dist-packages (from scikit-surprise->surprise) (1.15.0)\n",
            "Building wheels for collected packages: scikit-surprise\n",
            "  Building wheel for scikit-surprise (setup.py) ... \u001b[?25l\u001b[?25hdone\n",
            "  Created wheel for scikit-surprise: filename=scikit_surprise-1.1.1-cp36-cp36m-linux_x86_64.whl size=1670920 sha256=fc1725e69cf5113a38b28d1e9570a503d9a3a9ee597c694c80a85f5d6455f31e\n",
            "  Stored in directory: /root/.cache/pip/wheels/78/9c/3d/41b419c9d2aff5b6e2b4c0fc8d25c538202834058f9ed110d0\n",
            "Successfully built scikit-surprise\n",
            "Installing collected packages: scikit-surprise, surprise\n",
            "Successfully installed scikit-surprise-1.1.1 surprise-0.1\n"
          ],
          "name": "stdout"
        }
      ]
    },
    {
      "cell_type": "markdown",
      "metadata": {
        "id": "5Ngp1OCXUVG9"
      },
      "source": [
        "### Read data from “ratings.csv” with line format: 'userID movieID rating timestamp'."
      ]
    },
    {
      "cell_type": "code",
      "metadata": {
        "colab": {
          "resources": {
            "http://localhost:8080/nbextensions/google.colab/files.js": {
              "data": "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",
              "ok": true,
              "headers": [
                [
                  "content-type",
                  "application/javascript"
                ]
              ],
              "status": 200,
              "status_text": ""
            }
          },
          "base_uri": "https://localhost:8080/",
          "height": 72
        },
        "id": "Sla9M1f0QIek",
        "outputId": "627123ac-d02e-4f0b-d171-ee3b21a073a7"
      },
      "source": [
        "from google.colab import files\n",
        "import io\n",
        "import pandas as pd\n",
        "from surprise import Reader, Dataset\n",
        "\n",
        "# Using ratings_small.csv instead\n",
        "data_to_load = files.upload()\n",
        "ratings_df = pd.read_csv(io.BytesIO(data_to_load['ratings_small.csv']))\n",
        "\n",
        "reader = Reader(rating_scale=(1, 5))\n",
        "ratings_data = Dataset.load_from_df(ratings_df[['userId', 'movieId', 'rating']], reader)"
      ],
      "execution_count": 2,
      "outputs": [
        {
          "output_type": "display_data",
          "data": {
            "text/html": [
              "\n",
              "     <input type=\"file\" id=\"files-d2bb671d-2797-432e-8716-adf6fb092258\" name=\"files[]\" multiple disabled\n",
              "        style=\"border:none\" />\n",
              "     <output id=\"result-d2bb671d-2797-432e-8716-adf6fb092258\">\n",
              "      Upload widget is only available when the cell has been executed in the\n",
              "      current browser session. Please rerun this cell to enable.\n",
              "      </output>\n",
              "      <script src=\"/nbextensions/google.colab/files.js\"></script> "
            ],
            "text/plain": [
              "<IPython.core.display.HTML object>"
            ]
          },
          "metadata": {
            "tags": []
          }
        },
        {
          "output_type": "stream",
          "text": [
            "Saving ratings_small.csv to ratings_small.csv\n"
          ],
          "name": "stdout"
        }
      ]
    },
    {
      "cell_type": "markdown",
      "metadata": {
        "id": "x1qiRayeOPzG"
      },
      "source": [
        "### Compute the average MAE and RMSE of the Probabilistic Matrix Factorization (PMF), User based Collaborative Filtering, Item based Collaborative Filtering, under the 5-folds cross-validation"
      ]
    },
    {
      "cell_type": "code",
      "metadata": {
        "colab": {
          "base_uri": "https://localhost:8080/"
        },
        "id": "jdSrNyA7K1q_",
        "outputId": "7cd679cc-a8d5-452a-fabe-8308999bfc38"
      },
      "source": [
        "from surprise import SVD\n",
        "from surprise.model_selection import cross_validate\n",
        "\n",
        "algo = SVD(biased=False)\n",
        "pmf_results = cross_validate(algo, ratings_data, measures=['MAE', 'RMSE'], cv=5, verbose=True)"
      ],
      "execution_count": 3,
      "outputs": [
        {
          "output_type": "stream",
          "text": [
            "Evaluating MAE, RMSE of algorithm SVD on 5 split(s).\n",
            "\n",
            "                  Fold 1  Fold 2  Fold 3  Fold 4  Fold 5  Mean    Std     \n",
            "MAE (testset)     0.7763  0.7813  0.7819  0.7841  0.7826  0.7812  0.0026  \n",
            "RMSE (testset)    1.0092  1.0137  1.0135  1.0086  1.0111  1.0112  0.0021  \n",
            "Fit time          4.29    4.23    4.31    4.27    4.25    4.27    0.03    \n",
            "Test time         0.17    0.16    0.11    0.10    0.18    0.14    0.03    \n"
          ],
          "name": "stdout"
        }
      ]
    },
    {
      "cell_type": "code",
      "metadata": {
        "colab": {
          "base_uri": "https://localhost:8080/"
        },
        "id": "c3imTeDrMNk_",
        "outputId": "97e9da75-e0b0-4e04-f48e-c9405d04d9b1"
      },
      "source": [
        "from surprise import KNNWithMeans\n",
        "\n",
        "algo = KNNWithMeans(sim_options={'name': 'MSD', 'user_based': True}, verbose=False)\n",
        "user_results_msd = cross_validate(algo, ratings_data, measures=['MAE', 'RMSE'], cv=5, verbose=True)"
      ],
      "execution_count": 4,
      "outputs": [
        {
          "output_type": "stream",
          "text": [
            "Evaluating MAE, RMSE of algorithm KNNWithMeans on 5 split(s).\n",
            "\n",
            "                  Fold 1  Fold 2  Fold 3  Fold 4  Fold 5  Mean    Std     \n",
            "MAE (testset)     0.7079  0.7015  0.7043  0.6996  0.7034  0.7033  0.0028  \n",
            "RMSE (testset)    0.9246  0.9147  0.9189  0.9166  0.9194  0.9189  0.0033  \n",
            "Fit time          0.11    0.13    0.13    0.13    0.13    0.13    0.01    \n",
            "Test time         1.51    1.43    1.50    1.39    1.46    1.46    0.05    \n"
          ],
          "name": "stdout"
        }
      ]
    },
    {
      "cell_type": "code",
      "metadata": {
        "colab": {
          "base_uri": "https://localhost:8080/"
        },
        "id": "efRdlrMxO19-",
        "outputId": "50191e75-663f-4db1-867e-2d7d20eef214"
      },
      "source": [
        "algo_CF_item_msd = KNNWithMeans(sim_options={'name': 'MSD', 'user_based': False}, verbose=False)\n",
        "item_results_msd = cross_validate(algo, ratings_data, measures=['MAE', 'RMSE'], cv=5, verbose=True)"
      ],
      "execution_count": 5,
      "outputs": [
        {
          "output_type": "stream",
          "text": [
            "Evaluating MAE, RMSE of algorithm KNNWithMeans on 5 split(s).\n",
            "\n",
            "                  Fold 1  Fold 2  Fold 3  Fold 4  Fold 5  Mean    Std     \n",
            "MAE (testset)     0.7069  0.7040  0.7029  0.6977  0.7091  0.7041  0.0039  \n",
            "RMSE (testset)    0.9216  0.9219  0.9183  0.9139  0.9259  0.9203  0.0040  \n",
            "Fit time          0.14    0.13    0.13    0.13    0.13    0.13    0.00    \n",
            "Test time         1.47    1.44    1.39    1.46    1.48    1.45    0.03    \n"
          ],
          "name": "stdout"
        }
      ]
    },
    {
      "cell_type": "markdown",
      "metadata": {
        "id": "weMnFq6fUYEq"
      },
      "source": [
        "### Compare the average (mean) performances of User-based collaborative filtering, item-based collaborative filtering, PMF with respect to RMSE and MAE."
      ]
    },
    {
      "cell_type": "code",
      "metadata": {
        "colab": {
          "base_uri": "https://localhost:8080/"
        },
        "id": "pS8c5DzMUdsL",
        "outputId": "fdc39f69-533f-4300-88ed-7058ddac4a98"
      },
      "source": [
        "from statistics import mean\n",
        "\n",
        "print('RMSE Performances:')\n",
        "print('User-based:', mean(user_results_msd['test_rmse']))\n",
        "print('Item-based:', mean(item_results_msd['test_rmse']))\n",
        "print('PMF:', mean(pmf_results['test_rmse']))\n",
        "\n",
        "print('\\nMAE Performances:')\n",
        "print('User-based:', mean(user_results_msd['test_mae']))\n",
        "print('Item-based:', mean(item_results_msd['test_mae']))\n",
        "print('PMF:', mean(pmf_results['test_mae']))"
      ],
      "execution_count": 6,
      "outputs": [
        {
          "output_type": "stream",
          "text": [
            "RMSE Performances:\n",
            "User-based: 0.9188594168884612\n",
            "Item-based: 0.9203077624083134\n",
            "PMF: 1.0112052852925668\n",
            "\n",
            "MAE Performances:\n",
            "User-based: 0.7033390430862964\n",
            "Item-based: 0.7041332776333441\n",
            "PMF: 0.7812244248516433\n"
          ],
          "name": "stdout"
        }
      ]
    },
    {
      "cell_type": "markdown",
      "metadata": {
        "id": "b5VB1vDx7lrO"
      },
      "source": [
        "### Examine how the cosine, MSD (Mean Squared Difference), and Pearson similarities impact the performances of User based Collaborative Filtering and Item based Collaborative Filtering.\n",
        "\n",
        "The MSD performance results for both types of filtering can be found above.\n",
        "\n",
        "User based:"
      ]
    },
    {
      "cell_type": "code",
      "metadata": {
        "colab": {
          "base_uri": "https://localhost:8080/"
        },
        "id": "nMKiEbMO7olk",
        "outputId": "6fd998b6-0215-4add-84e0-821bc8d21af8"
      },
      "source": [
        "# cosine\n",
        "algo = KNNWithMeans(sim_options={'name': 'cosine', 'user_based': True}, verbose=False)\n",
        "user_results_cosine = cross_validate(algo, ratings_data, measures=['MAE', 'RMSE'], cv=5, verbose=True)"
      ],
      "execution_count": 7,
      "outputs": [
        {
          "output_type": "stream",
          "text": [
            "Evaluating MAE, RMSE of algorithm KNNWithMeans on 5 split(s).\n",
            "\n",
            "                  Fold 1  Fold 2  Fold 3  Fold 4  Fold 5  Mean    Std     \n",
            "MAE (testset)     0.7074  0.7047  0.7083  0.7008  0.7086  0.7060  0.0029  \n",
            "RMSE (testset)    0.9210  0.9183  0.9245  0.9121  0.9277  0.9207  0.0054  \n",
            "Fit time          0.31    0.32    0.32    0.32    0.32    0.32    0.00    \n",
            "Test time         1.41    1.43    1.50    1.46    1.43    1.45    0.03    \n"
          ],
          "name": "stdout"
        }
      ]
    },
    {
      "cell_type": "code",
      "metadata": {
        "colab": {
          "base_uri": "https://localhost:8080/"
        },
        "id": "_FpSUNEx9rZC",
        "outputId": "f9338a19-048f-4d1e-8c1b-4dfe4945a492"
      },
      "source": [
        "# Pearson\n",
        "algo = KNNWithMeans(sim_options={'name': 'pearson_baseline', 'user_based': True}, verbose=False)\n",
        "user_results_pearson = cross_validate(algo, ratings_data, measures=['MAE', 'RMSE'], cv=5, verbose=True)"
      ],
      "execution_count": 8,
      "outputs": [
        {
          "output_type": "stream",
          "text": [
            "Evaluating MAE, RMSE of algorithm KNNWithMeans on 5 split(s).\n",
            "\n",
            "                  Fold 1  Fold 2  Fold 3  Fold 4  Fold 5  Mean    Std     \n",
            "MAE (testset)     0.6986  0.6994  0.7022  0.6990  0.7014  0.7001  0.0014  \n",
            "RMSE (testset)    0.9220  0.9186  0.9258  0.9225  0.9206  0.9219  0.0024  \n",
            "Fit time          0.44    0.43    0.44    0.44    0.44    0.44    0.00    \n",
            "Test time         1.31    1.31    1.34    1.36    1.32    1.33    0.02    \n"
          ],
          "name": "stdout"
        }
      ]
    },
    {
      "cell_type": "markdown",
      "metadata": {
        "id": "EuvbLNfdTiSn"
      },
      "source": [
        "Item based:"
      ]
    },
    {
      "cell_type": "code",
      "metadata": {
        "colab": {
          "base_uri": "https://localhost:8080/"
        },
        "id": "KjYmR4g69rrh",
        "outputId": "fc8e45e4-08df-4016-f971-2caa37fa7a38"
      },
      "source": [
        "# cosine\n",
        "algo = KNNWithMeans(sim_options={'name': 'cosine', 'user_based': False}, verbose=False)\n",
        "item_results_cosine = cross_validate(algo, ratings_data, measures=['MAE', 'RMSE'], cv=5, verbose=True)"
      ],
      "execution_count": 9,
      "outputs": [
        {
          "output_type": "stream",
          "text": [
            "Evaluating MAE, RMSE of algorithm KNNWithMeans on 5 split(s).\n",
            "\n",
            "                  Fold 1  Fold 2  Fold 3  Fold 4  Fold 5  Mean    Std     \n",
            "MAE (testset)     0.7067  0.7181  0.7039  0.7122  0.7100  0.7102  0.0049  \n",
            "RMSE (testset)    0.9246  0.9327  0.9171  0.9313  0.9225  0.9256  0.0057  \n",
            "Fit time          12.75   12.29   12.08   11.50   11.97   12.12   0.41    \n",
            "Test time         5.34    5.41    5.25    5.26    5.36    5.33    0.06    \n"
          ],
          "name": "stdout"
        }
      ]
    },
    {
      "cell_type": "code",
      "metadata": {
        "colab": {
          "base_uri": "https://localhost:8080/"
        },
        "id": "X364BHX8-Ew4",
        "outputId": "b44f8610-051d-44c5-ef28-e8df0c6d2cf8"
      },
      "source": [
        "# Pearson\n",
        "algo = KNNWithMeans(sim_options={'name': 'pearson_baseline', 'user_based': False}, verbose=False)\n",
        "item_results_pearson = cross_validate(algo, ratings_data, measures=['MAE', 'RMSE'], cv=5, verbose=True)"
      ],
      "execution_count": 10,
      "outputs": [
        {
          "output_type": "stream",
          "text": [
            "Evaluating MAE, RMSE of algorithm KNNWithMeans on 5 split(s).\n",
            "\n",
            "                  Fold 1  Fold 2  Fold 3  Fold 4  Fold 5  Mean    Std     \n",
            "MAE (testset)     0.6819  0.6934  0.6873  0.6871  0.6904  0.6880  0.0038  \n",
            "RMSE (testset)    0.9000  0.9141  0.9049  0.9021  0.9068  0.9056  0.0049  \n",
            "Fit time          7.54    7.80    7.53    7.39    7.28    7.51    0.18    \n",
            "Test time         5.59    5.38    5.22    5.30    5.33    5.36    0.12    \n"
          ],
          "name": "stdout"
        }
      ]
    },
    {
      "cell_type": "markdown",
      "metadata": {
        "id": "Zy86oVnS_wqP"
      },
      "source": [
        "### Plot your results.\n",
        "\n",
        "User based:"
      ]
    },
    {
      "cell_type": "code",
      "metadata": {
        "id": "pdpHflaARXKW",
        "colab": {
          "base_uri": "https://localhost:8080/",
          "height": 352
        },
        "outputId": "14ad8f5a-4a9f-4710-91ad-ece0866f925e"
      },
      "source": [
        "import matplotlib.pyplot as plt\n",
        "\n",
        "# RMSE comparisons\n",
        "user_rmse_performance_means = [mean(user_results_cosine['test_rmse'])-0.9, mean(user_results_msd['test_rmse'])-0.9, mean(user_results_pearson['test_rmse'])-0.9];\n",
        "print(user_rmse_performance_means)\n",
        "fig = plt.figure()\n",
        "ax = fig.add_axes([0, 0, 1, 1])\n",
        "ax.bar(['cosine', 'MSD', 'Pearson'], user_rmse_performance_means);"
      ],
      "execution_count": 11,
      "outputs": [
        {
          "output_type": "stream",
          "text": [
            "[0.02070876625255924, 0.018859416888461156, 0.021878682896850243]\n"
          ],
          "name": "stdout"
        },
        {
          "output_type": "display_data",
          "data": {
            "image/png": "[encoded data removed]",
            "text/plain": [
              "<Figure size 432x288 with 1 Axes>"
            ]
          },
          "metadata": {
            "tags": [],
            "needs_background": "light"
          }
        }
      ]
    },
    {
      "cell_type": "code",
      "metadata": {
        "id": "dr29W6VyP8sa",
        "colab": {
          "base_uri": "https://localhost:8080/",
          "height": 352
        },
        "outputId": "74a6da1a-9866-4809-d709-0c926fe1a5ad"
      },
      "source": [
        "# MAE comparisons\n",
        "user_mae_performance_means = [mean(user_results_cosine['test_mae'])-0.6, mean(user_results_msd['test_mae'])-0.6, mean(user_results_pearson['test_mae'])-0.6];\n",
        "print(user_mae_performance_means)\n",
        "fig = plt.figure()\n",
        "ax = fig.add_axes([0, 0, 1, 1])\n",
        "ax.bar(['cosine', 'MSD', 'Pearson'], user_mae_performance_means);"
      ],
      "execution_count": 12,
      "outputs": [
        {
          "output_type": "stream",
          "text": [
            "[0.10598083189539931, 0.10333904308629638, 0.1001036473478395]\n"
          ],
          "name": "stdout"
        },
        {
          "output_type": "display_data",
          "data": {
            "image/png": "[encoded data removed]",
            "text/plain": [
              "<Figure size 432x288 with 1 Axes>"
            ]
          },
          "metadata": {
            "tags": [],
            "needs_background": "light"
          }
        }
      ]
    },
    {
      "cell_type": "markdown",
      "metadata": {
        "id": "BOt0j-R-Sdlx"
      },
      "source": [
        "Item based:"
      ]
    },
    {
      "cell_type": "code",
      "metadata": {
        "id": "etk0goboSe8D",
        "colab": {
          "base_uri": "https://localhost:8080/",
          "height": 352
        },
        "outputId": "f1749a05-7eaa-4f6c-dd14-42d0b54b39fa"
      },
      "source": [
        "# RMSE comparisons\n",
        "item_rmse_performance_means = [mean(item_results_cosine['test_rmse'])-0.9, mean(item_results_msd['test_rmse'])-0.9, mean(item_results_pearson['test_rmse'])-0.9];\n",
        "print(item_rmse_performance_means)\n",
        "fig = plt.figure()\n",
        "ax = fig.add_axes([0, 0, 1, 1])\n",
        "ax.bar(['cosine', 'MSD', 'Pearson'], item_rmse_performance_means);"
      ],
      "execution_count": 13,
      "outputs": [
        {
          "output_type": "stream",
          "text": [
            "[0.025645583732868737, 0.020307762408313335, 0.00556947369258054]\n"
          ],
          "name": "stdout"
        },
        {
          "output_type": "display_data",
          "data": {
            "image/png": "[encoded data removed]",
            "text/plain": [
              "<Figure size 432x288 with 1 Axes>"
            ]
          },
          "metadata": {
            "tags": [],
            "needs_background": "light"
          }
        }
      ]
    },
    {
      "cell_type": "code",
      "metadata": {
        "id": "qUczKVEKUbv6",
        "colab": {
          "base_uri": "https://localhost:8080/",
          "height": 352
        },
        "outputId": "a66e960c-d7dd-47a1-f64a-37169f4a4a3a"
      },
      "source": [
        "# MAE comparisons\n",
        "item_mae_performance_means = [mean(item_results_cosine['test_mae'])-0.6, mean(item_results_msd['test_mae'])-0.6, mean(item_results_pearson['test_mae'])-0.6];\n",
        "print(item_mae_performance_means)\n",
        "fig = plt.figure()\n",
        "ax = fig.add_axes([0, 0, 1, 1])\n",
        "ax.bar(['cosine', 'MSD', 'Pearson'], item_mae_performance_means);"
      ],
      "execution_count": 14,
      "outputs": [
        {
          "output_type": "stream",
          "text": [
            "[0.11019742375067532, 0.10413327763334412, 0.08801373976662907]\n"
          ],
          "name": "stdout"
        },
        {
          "output_type": "display_data",
          "data": {
            "image/png": "[encoded data removed]",
            "text/plain": [
              "<Figure size 432x288 with 1 Axes>"
            ]
          },
          "metadata": {
            "tags": [],
            "needs_background": "light"
          }
        }
      ]
    },
    {
      "cell_type": "markdown",
      "metadata": {
        "id": "2MQ8jpJx4QO_"
      },
      "source": [
        "We can see that the order of performances between the cosine, MSD, and Pearson similarities, in all cases, from best to worst is:\n",
        "\n",
        "$Pearson > MSD > cosine$,\n",
        "\n",
        "excluding the case that used the RMSE comparisons for User based Collaborative Filtering, in which the relationship between performances is:\n",
        "\n",
        "$MSD > cosine > Pearson$.\n",
        "\n",
        "### Is the impact of the three metrics on User based Collaborative Filtering consistent with the impact of the three metrics on Item based Collaborative Filtering?\n",
        "\n",
        "\n",
        "\n",
        "### Examine how the number of neighbors impacts the performances of User based Collaborative Filtering and Item based Collaborative Filtering? Plot your results.\n",
        "\n",
        "User based:"
      ]
    },
    {
      "cell_type": "code",
      "metadata": {
        "id": "cJqi1pZZRPSH",
        "colab": {
          "base_uri": "https://localhost:8080/",
          "height": 295
        },
        "outputId": "6794014c-443e-4bbc-bc06-813ece2d5098"
      },
      "source": [
        "import numpy as np\n",
        "from surprise import KNNBasic\n",
        "\n",
        "max_k = 30\n",
        "user_rmse_k = []\n",
        "user_mae_k = []\n",
        "            \n",
        "for i in range(1, max_k + 1):\n",
        "  algo = KNNBasic(k=i, sim_options={'name': 'msd', 'user_based': True}, verbose=False)\n",
        "  user_results_msd = cross_validate(algo, ratings_data, measures=['MAE', 'RMSE'], cv=5)\n",
        "  user_rmse_k.append(np.average(user_results_msd.get('test_rmse')))\n",
        "  user_mae_k.append(np.average(user_results_msd.get('test_mae')))\n",
        "\n",
        "fig = plt.figure()\n",
        "ax = plt.axes()\n",
        "k_range = np.arange(0, max_k)\n",
        "ax.plot(k_range, user_rmse_k, label='RMSE')\n",
        "ax.plot(k_range, user_mae_k, label='MAE')\n",
        "plt.title('k\\'s impact on Performance of User based Collaborative Filtering')\n",
        "ax.set_xlabel('k')\n",
        "ax.set_ylabel('Score')\n",
        "plt.legend();"
      ],
      "execution_count": 15,
      "outputs": [
        {
          "output_type": "display_data",
          "data": {
            "image/png": "[encoded data removed]",
            "text/plain": [
              "<Figure size 432x288 with 1 Axes>"
            ]
          },
          "metadata": {
            "tags": [],
            "needs_background": "light"
          }
        }
      ]
    },
    {
      "cell_type": "markdown",
      "metadata": {
        "id": "D_qUaSy_ZQDJ"
      },
      "source": [
        "Item based:"
      ]
    },
    {
      "cell_type": "code",
      "metadata": {
        "id": "BW5lRJSfZRge",
        "colab": {
          "base_uri": "https://localhost:8080/",
          "height": 295
        },
        "outputId": "c091a92f-a30c-45e6-c0dd-f49ddcced390"
      },
      "source": [
        "max_k = 55\n",
        "item_rmse_k = []\n",
        "item_mae_k = []\n",
        "            \n",
        "for i in range(1, max_k + 1):\n",
        "  algo = KNNBasic(k=i, sim_options={'name': 'msd', 'user_based': False}, verbose=False)\n",
        "  item_results_msd = cross_validate(algo, ratings_data, measures=['MAE', 'RMSE'], cv=5)\n",
        "  item_rmse_k.append(np.average(item_results_msd.get('test_rmse')))\n",
        "  item_mae_k.append(np.average(item_results_msd.get('test_mae')))\n",
        "\n",
        "fig = plt.figure()\n",
        "ax = plt.axes()\n",
        "k_range = np.arange(0, max_k)\n",
        "ax.plot(k_range, item_rmse_k, label='RMSE')\n",
        "ax.plot(k_range, item_mae_k, label='MAE')\n",
        "plt.title('k\\'s impact on Performance of Item based Collaborative Filtering')\n",
        "ax.set_xlabel('k')\n",
        "ax.set_ylabel('Score')\n",
        "plt.legend();"
      ],
      "execution_count": 16,
      "outputs": [
        {
          "output_type": "display_data",
          "data": {
            "image/png": "[encoded data removed]",
            "text/plain": [
              "<Figure size 432x288 with 1 Axes>"
            ]
          },
          "metadata": {
            "tags": [],
            "needs_background": "light"
          }
        }
      ]
    }
  ]
}