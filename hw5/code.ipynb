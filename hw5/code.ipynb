{
  "nbformat": 4,
  "nbformat_minor": 0,
  "metadata": {
    "colab": {
      "name": "code.ipynb",
      "provenance": [],
      "collapsed_sections": [],
      "authorship_tag": "ABX9TyN8fs9t37kZpduTNq2bH232",
      "include_colab_link": true
    },
    "kernelspec": {
      "name": "python3",
      "display_name": "Python 3"
    }
  },
  "cells": [
    {
      "cell_type": "markdown",
      "metadata": {
        "id": "view-in-github",
        "colab_type": "text"
      },
      "source": [
        "<a href=\"https://colab.research.google.com/github/ayberkcorp/cap5610-machine_learning/blob/master/hw5/code.ipynb\" target=\"_parent\"><img src=\"https://colab.research.google.com/assets/colab-badge.svg\" alt=\"Open In Colab\"/></a>"
      ]
    },
    {
      "cell_type": "markdown",
      "metadata": {
        "id": "IRSqyJn6XWNc"
      },
      "source": [
        "# Imports and Data Handling"
      ]
    },
    {
      "cell_type": "code",
      "metadata": {
        "id": "uvC3mfs8T6tJ",
        "outputId": "a29b76d6-e9c7-4e9f-a070-2b247028e414",
        "colab": {
          "resources": {
            "http://localhost:8080/nbextensions/google.colab/files.js": {
              "data": "Ly8gQ29weXJpZ2h0IDIwMTcgR29vZ2xlIExMQwovLwovLyBMaWNlbnNlZCB1bmRlciB0aGUgQXBhY2hlIExpY2Vuc2UsIFZlcnNpb24gMi4wICh0aGUgIkxpY2Vuc2UiKTsKLy8geW91IG1heSBub3QgdXNlIHRoaXMgZmlsZSBleGNlcHQgaW4gY29tcGxpYW5jZSB3aXRoIHRoZSBMaWNlbnNlLgovLyBZb3UgbWF5IG9idGFpbiBhIGNvcHkgb2YgdGhlIExpY2Vuc2UgYXQKLy8KLy8gICAgICBodHRwOi8vd3d3LmFwYWNoZS5vcmcvbGljZW5zZXMvTElDRU5TRS0yLjAKLy8KLy8gVW5sZXNzIHJlcXVpcmVkIGJ5IGFwcGxpY2FibGUgbGF3IG9yIGFncmVlZCB0byBpbiB3cml0aW5nLCBzb2Z0d2FyZQovLyBkaXN0cmlidXRlZCB1bmRlciB0aGUgTGljZW5zZSBpcyBkaXN0cmlidXRlZCBvbiBhbiAiQVMgSVMiIEJBU0lTLAovLyBXSVRIT1VUIFdBUlJBTlRJRVMgT1IgQ09ORElUSU9OUyBPRiBBTlkgS0lORCwgZWl0aGVyIGV4cHJlc3Mgb3IgaW1wbGllZC4KLy8gU2VlIHRoZSBMaWNlbnNlIGZvciB0aGUgc3BlY2lmaWMgbGFuZ3VhZ2UgZ292ZXJuaW5nIHBlcm1pc3Npb25zIGFuZAovLyBsaW1pdGF0aW9ucyB1bmRlciB0aGUgTGljZW5zZS4KCi8qKgogKiBAZmlsZW92ZXJ2aWV3IEhlbHBlcnMgZm9yIGdvb2dsZS5jb2xhYiBQeXRob24gbW9kdWxlLgogKi8KKGZ1bmN0aW9uKHNjb3BlKSB7CmZ1bmN0aW9uIHNwYW4odGV4dCwgc3R5bGVBdHRyaWJ1dGVzID0ge30pIHsKICBjb25zdCBlbGVtZW50ID0gZG9jdW1lbnQuY3JlYXRlRWxlbWVudCgnc3BhbicpOwogIGVsZW1lbnQudGV4dENvbnRlbnQgPSB0ZXh0OwogIGZvciAoY29uc3Qga2V5IG9mIE9iamVjdC5rZXlzKHN0eWxlQXR0cmlidXRlcykpIHsKICAgIGVsZW1lbnQuc3R5bGVba2V5XSA9IHN0eWxlQXR0cmlidXRlc1trZXldOwogIH0KICByZXR1cm4gZWxlbWVudDsKfQoKLy8gTWF4IG51bWJlciBvZiBieXRlcyB3aGljaCB3aWxsIGJlIHVwbG9hZGVkIGF0IGEgdGltZS4KY29uc3QgTUFYX1BBWUxPQURfU0laRSA9IDEwMCAqIDEwMjQ7CgpmdW5jdGlvbiBfdXBsb2FkRmlsZXMoaW5wdXRJZCwgb3V0cHV0SWQpIHsKICBjb25zdCBzdGVwcyA9IHVwbG9hZEZpbGVzU3RlcChpbnB1dElkLCBvdXRwdXRJZCk7CiAgY29uc3Qgb3V0cHV0RWxlbWVudCA9IGRvY3VtZW50LmdldEVsZW1lbnRCeUlkKG91dHB1dElkKTsKICAvLyBDYWNoZSBzdGVwcyBvbiB0aGUgb3V0cHV0RWxlbWVudCB0byBtYWtlIGl0IGF2YWlsYWJsZSBmb3IgdGhlIG5leHQgY2FsbAogIC8vIHRvIHVwbG9hZEZpbGVzQ29udGludWUgZnJvbSBQeXRob24uCiAgb3V0cHV0RWxlbWVudC5zdGVwcyA9IHN0ZXBzOwoKICByZXR1cm4gX3VwbG9hZEZpbGVzQ29udGludWUob3V0cHV0SWQpOwp9CgovLyBUaGlzIGlzIHJvdWdobHkgYW4gYXN5bmMgZ2VuZXJhdG9yIChub3Qgc3VwcG9ydGVkIGluIHRoZSBicm93c2VyIHlldCksCi8vIHdoZXJlIHRoZXJlIGFyZSBtdWx0aXBsZSBhc3luY2hyb25vdXMgc3RlcHMgYW5kIHRoZSBQeXRob24gc2lkZSBpcyBnb2luZwovLyB0byBwb2xsIGZvciBjb21wbGV0aW9uIG9mIGVhY2ggc3RlcC4KLy8gVGhpcyB1c2VzIGEgUHJvbWlzZSB0byBibG9jayB0aGUgcHl0aG9uIHNpZGUgb24gY29tcGxldGlvbiBvZiBlYWNoIHN0ZXAsCi8vIHRoZW4gcGFzc2VzIHRoZSByZXN1bHQgb2YgdGhlIHByZXZpb3VzIHN0ZXAgYXMgdGhlIGlucHV0IHRvIHRoZSBuZXh0IHN0ZXAuCmZ1bmN0aW9uIF91cGxvYWRGaWxlc0NvbnRpbnVlKG91dHB1dElkKSB7CiAgY29uc3Qgb3V0cHV0RWxlbWVudCA9IGRvY3VtZW50LmdldEVsZW1lbnRCeUlkKG91dHB1dElkKTsKICBjb25zdCBzdGVwcyA9IG91dHB1dEVsZW1lbnQuc3RlcHM7CgogIGNvbnN0IG5leHQgPSBzdGVwcy5uZXh0KG91dHB1dEVsZW1lbnQubGFzdFByb21pc2VWYWx1ZSk7CiAgcmV0dXJuIFByb21pc2UucmVzb2x2ZShuZXh0LnZhbHVlLnByb21pc2UpLnRoZW4oKHZhbHVlKSA9PiB7CiAgICAvLyBDYWNoZSB0aGUgbGFzdCBwcm9taXNlIHZhbHVlIHRvIG1ha2UgaXQgYXZhaWxhYmxlIHRvIHRoZSBuZXh0CiAgICAvLyBzdGVwIG9mIHRoZSBnZW5lcmF0b3IuCiAgICBvdXRwdXRFbGVtZW50Lmxhc3RQcm9taXNlVmFsdWUgPSB2YWx1ZTsKICAgIHJldHVybiBuZXh0LnZhbHVlLnJlc3BvbnNlOwogIH0pOwp9CgovKioKICogR2VuZXJhdG9yIGZ1bmN0aW9uIHdoaWNoIGlzIGNhbGxlZCBiZXR3ZWVuIGVhY2ggYXN5bmMgc3RlcCBvZiB0aGUgdXBsb2FkCiAqIHByb2Nlc3MuCiAqIEBwYXJhbSB7c3RyaW5nfSBpbnB1dElkIEVsZW1lbnQgSUQgb2YgdGhlIGlucHV0IGZpbGUgcGlja2VyIGVsZW1lbnQuCiAqIEBwYXJhbSB7c3RyaW5nfSBvdXRwdXRJZCBFbGVtZW50IElEIG9mIHRoZSBvdXRwdXQgZGlzcGxheS4KICogQHJldHVybiB7IUl0ZXJhYmxlPCFPYmplY3Q+fSBJdGVyYWJsZSBvZiBuZXh0IHN0ZXBzLgogKi8KZnVuY3Rpb24qIHVwbG9hZEZpbGVzU3RlcChpbnB1dElkLCBvdXRwdXRJZCkgewogIGNvbnN0IGlucHV0RWxlbWVudCA9IGRvY3VtZW50LmdldEVsZW1lbnRCeUlkKGlucHV0SWQpOwogIGlucHV0RWxlbWVudC5kaXNhYmxlZCA9IGZhbHNlOwoKICBjb25zdCBvdXRwdXRFbGVtZW50ID0gZG9jdW1lbnQuZ2V0RWxlbWVudEJ5SWQob3V0cHV0SWQpOwogIG91dHB1dEVsZW1lbnQuaW5uZXJIVE1MID0gJyc7CgogIGNvbnN0IHBpY2tlZFByb21pc2UgPSBuZXcgUHJvbWlzZSgocmVzb2x2ZSkgPT4gewogICAgaW5wdXRFbGVtZW50LmFkZEV2ZW50TGlzdGVuZXIoJ2NoYW5nZScsIChlKSA9PiB7CiAgICAgIHJlc29sdmUoZS50YXJnZXQuZmlsZXMpOwogICAgfSk7CiAgfSk7CgogIGNvbnN0IGNhbmNlbCA9IGRvY3VtZW50LmNyZWF0ZUVsZW1lbnQoJ2J1dHRvbicpOwogIGlucHV0RWxlbWVudC5wYXJlbnRFbGVtZW50LmFwcGVuZENoaWxkKGNhbmNlbCk7CiAgY2FuY2VsLnRleHRDb250ZW50ID0gJ0NhbmNlbCB1cGxvYWQnOwogIGNvbnN0IGNhbmNlbFByb21pc2UgPSBuZXcgUHJvbWlzZSgocmVzb2x2ZSkgPT4gewogICAgY2FuY2VsLm9uY2xpY2sgPSAoKSA9PiB7CiAgICAgIHJlc29sdmUobnVsbCk7CiAgICB9OwogIH0pOwoKICAvLyBXYWl0IGZvciB0aGUgdXNlciB0byBwaWNrIHRoZSBmaWxlcy4KICBjb25zdCBmaWxlcyA9IHlpZWxkIHsKICAgIHByb21pc2U6IFByb21pc2UucmFjZShbcGlja2VkUHJvbWlzZSwgY2FuY2VsUHJvbWlzZV0pLAogICAgcmVzcG9uc2U6IHsKICAgICAgYWN0aW9uOiAnc3RhcnRpbmcnLAogICAgfQogIH07CgogIGNhbmNlbC5yZW1vdmUoKTsKCiAgLy8gRGlzYWJsZSB0aGUgaW5wdXQgZWxlbWVudCBzaW5jZSBmdXJ0aGVyIHBpY2tzIGFyZSBub3QgYWxsb3dlZC4KICBpbnB1dEVsZW1lbnQuZGlzYWJsZWQgPSB0cnVlOwoKICBpZiAoIWZpbGVzKSB7CiAgICByZXR1cm4gewogICAgICByZXNwb25zZTogewogICAgICAgIGFjdGlvbjogJ2NvbXBsZXRlJywKICAgICAgfQogICAgfTsKICB9CgogIGZvciAoY29uc3QgZmlsZSBvZiBmaWxlcykgewogICAgY29uc3QgbGkgPSBkb2N1bWVudC5jcmVhdGVFbGVtZW50KCdsaScpOwogICAgbGkuYXBwZW5kKHNwYW4oZmlsZS5uYW1lLCB7Zm9udFdlaWdodDogJ2JvbGQnfSkpOwogICAgbGkuYXBwZW5kKHNwYW4oCiAgICAgICAgYCgke2ZpbGUudHlwZSB8fCAnbi9hJ30pIC0gJHtmaWxlLnNpemV9IGJ5dGVzLCBgICsKICAgICAgICBgbGFzdCBtb2RpZmllZDogJHsKICAgICAgICAgICAgZmlsZS5sYXN0TW9kaWZpZWREYXRlID8gZmlsZS5sYXN0TW9kaWZpZWREYXRlLnRvTG9jYWxlRGF0ZVN0cmluZygpIDoKICAgICAgICAgICAgICAgICAgICAgICAgICAgICAgICAgICAgJ24vYSd9IC0gYCkpOwogICAgY29uc3QgcGVyY2VudCA9IHNwYW4oJzAlIGRvbmUnKTsKICAgIGxpLmFwcGVuZENoaWxkKHBlcmNlbnQpOwoKICAgIG91dHB1dEVsZW1lbnQuYXBwZW5kQ2hpbGQobGkpOwoKICAgIGNvbnN0IGZpbGVEYXRhUHJvbWlzZSA9IG5ldyBQcm9taXNlKChyZXNvbHZlKSA9PiB7CiAgICAgIGNvbnN0IHJlYWRlciA9IG5ldyBGaWxlUmVhZGVyKCk7CiAgICAgIHJlYWRlci5vbmxvYWQgPSAoZSkgPT4gewogICAgICAgIHJlc29sdmUoZS50YXJnZXQucmVzdWx0KTsKICAgICAgfTsKICAgICAgcmVhZGVyLnJlYWRBc0FycmF5QnVmZmVyKGZpbGUpOwogICAgfSk7CiAgICAvLyBXYWl0IGZvciB0aGUgZGF0YSB0byBiZSByZWFkeS4KICAgIGxldCBmaWxlRGF0YSA9IHlpZWxkIHsKICAgICAgcHJvbWlzZTogZmlsZURhdGFQcm9taXNlLAogICAgICByZXNwb25zZTogewogICAgICAgIGFjdGlvbjogJ2NvbnRpbnVlJywKICAgICAgfQogICAgfTsKCiAgICAvLyBVc2UgYSBjaHVua2VkIHNlbmRpbmcgdG8gYXZvaWQgbWVzc2FnZSBzaXplIGxpbWl0cy4gU2VlIGIvNjIxMTU2NjAuCiAgICBsZXQgcG9zaXRpb24gPSAwOwogICAgd2hpbGUgKHBvc2l0aW9uIDwgZmlsZURhdGEuYnl0ZUxlbmd0aCkgewogICAgICBjb25zdCBsZW5ndGggPSBNYXRoLm1pbihmaWxlRGF0YS5ieXRlTGVuZ3RoIC0gcG9zaXRpb24sIE1BWF9QQVlMT0FEX1NJWkUpOwogICAgICBjb25zdCBjaHVuayA9IG5ldyBVaW50OEFycmF5KGZpbGVEYXRhLCBwb3NpdGlvbiwgbGVuZ3RoKTsKICAgICAgcG9zaXRpb24gKz0gbGVuZ3RoOwoKICAgICAgY29uc3QgYmFzZTY0ID0gYnRvYShTdHJpbmcuZnJvbUNoYXJDb2RlLmFwcGx5KG51bGwsIGNodW5rKSk7CiAgICAgIHlpZWxkIHsKICAgICAgICByZXNwb25zZTogewogICAgICAgICAgYWN0aW9uOiAnYXBwZW5kJywKICAgICAgICAgIGZpbGU6IGZpbGUubmFtZSwKICAgICAgICAgIGRhdGE6IGJhc2U2NCwKICAgICAgICB9LAogICAgICB9OwogICAgICBwZXJjZW50LnRleHRDb250ZW50ID0KICAgICAgICAgIGAke01hdGgucm91bmQoKHBvc2l0aW9uIC8gZmlsZURhdGEuYnl0ZUxlbmd0aCkgKiAxMDApfSUgZG9uZWA7CiAgICB9CiAgfQoKICAvLyBBbGwgZG9uZS4KICB5aWVsZCB7CiAgICByZXNwb25zZTogewogICAgICBhY3Rpb246ICdjb21wbGV0ZScsCiAgICB9CiAgfTsKfQoKc2NvcGUuZ29vZ2xlID0gc2NvcGUuZ29vZ2xlIHx8IHt9OwpzY29wZS5nb29nbGUuY29sYWIgPSBzY29wZS5nb29nbGUuY29sYWIgfHwge307CnNjb3BlLmdvb2dsZS5jb2xhYi5fZmlsZXMgPSB7CiAgX3VwbG9hZEZpbGVzLAogIF91cGxvYWRGaWxlc0NvbnRpbnVlLAp9Owp9KShzZWxmKTsK",
              "ok": true,
              "headers": [
                [
                  "content-type",
                  "application/javascript"
                ]
              ],
              "status": 200,
              "status_text": ""
            }
          },
          "base_uri": "https://localhost:8080/",
          "height": 72
        }
      },
      "source": [
        "import time\n",
        "from math import *\n",
        "from decimal import Decimal\n",
        "import random\n",
        "import pandas as pd\n",
        "import numpy as np\n",
        "from google.colab import files\n",
        "\n",
        "team_data = [[\"X1\", 3, 5],\n",
        "             [\"X2\", 3, 4],\n",
        "             [\"X3\", 2, 8],\n",
        "             [\"X4\", 2, 3],\n",
        "             [\"X5\", 6, 2],\n",
        "             [\"X6\", 6, 4],\n",
        "             [\"X7\", 7, 3],\n",
        "             [\"X8\", 7, 4],\n",
        "             [\"X9\", 8, 5],\n",
        "             [\"X10\", 7, 6]]\n",
        "\n",
        "uploaded = files.upload()\n",
        "\n",
        "with open('iris.data', 'rt') as file1:\n",
        "  FileasList = file1.readlines()\n",
        "iris_data = []\n",
        "\n",
        "\n",
        "def is_number_string(str):\n",
        "  if len(str) == 0:\n",
        "    return False\n",
        "  if  len(str) > 1 and str[0] == \"-\":\n",
        "      str = s[1:]\n",
        "  for c in str:\n",
        "    if c not in \"0123456789.\":\n",
        "      return False\n",
        "  return True\n",
        "\n",
        "for line in FileasList:\n",
        "  line_list = (f'X{len(iris_data)},'+line).strip().replace('\"', '').split(\",\")\n",
        "  for i in range(len(line_list)):\n",
        "    if (is_number_string(line_list[i])):\n",
        "      line_list[i] = float(line_list[i])\n",
        "  instance = tuple(line_list)\n",
        "  iris_data.append(instance)\n",
        "  \n",
        "del iris_data[-1]"
      ],
      "execution_count": 1,
      "outputs": [
        {
          "output_type": "display_data",
          "data": {
            "text/html": [
              "\n",
              "     <input type=\"file\" id=\"files-3b450f26-fd72-46ed-a688-76e8cf7e2488\" name=\"files[]\" multiple disabled\n",
              "        style=\"border:none\" />\n",
              "     <output id=\"result-3b450f26-fd72-46ed-a688-76e8cf7e2488\">\n",
              "      Upload widget is only available when the cell has been executed in the\n",
              "      current browser session. Please rerun this cell to enable.\n",
              "      </output>\n",
              "      <script src=\"/nbextensions/google.colab/files.js\"></script> "
            ],
            "text/plain": [
              "<IPython.core.display.HTML object>"
            ]
          },
          "metadata": {
            "tags": []
          }
        },
        {
          "output_type": "stream",
          "text": [
            "Saving iris.data to iris.data\n"
          ],
          "name": "stdout"
        }
      ]
    },
    {
      "cell_type": "markdown",
      "metadata": {
        "id": "fhTU5quEc4z_"
      },
      "source": [
        "# Functions for k-means clustering"
      ]
    },
    {
      "cell_type": "code",
      "metadata": {
        "id": "TRuabHZedCHp"
      },
      "source": [
        "def kmeans(instances, k, metric, iters=-1, initCentroids=None):\n",
        "    result = {}\n",
        "    if (initCentroids == None or len(initCentroids) < k):\n",
        "        random.seed(time.time())\n",
        "        centroids = random.sample(instances, k)\n",
        "    else:\n",
        "        centroids = initCentroids\n",
        "    prevCentroids = []\n",
        "    iteration = 0\n",
        "    prevwith = 1e70\n",
        "    while (centroids != prevCentroids or iters < -2):\n",
        "        iteration += 1\n",
        "        clusters = assignAll(instances, centroids, metric)\n",
        "        prevCentroids = centroids\n",
        "        centroids = computeCentroids(clusters)\n",
        "        withinss = computeWithinss(clusters, centroids, metric)\n",
        "        if(iteration == iters or (iters < -2 and iteration == -iters)):\n",
        "            break\n",
        "        if(iters == -2 and withinss > prevwith):\n",
        "            break\n",
        "        prevwith = withinss\n",
        "    result[\"clusters\"] = clusters\n",
        "    result[\"centroids\"] = centroids\n",
        "    result[\"withinss\"] = withinss\n",
        "    result[\"iterations\"] = iteration\n",
        "    return result\n",
        "\n",
        "def distance(instance1, instance2, metric):\n",
        "    if instance1 == None or instance2 == None:\n",
        "        return float(\"inf\")\n",
        "    dist = 0\n",
        "    a, b = 0, 0\n",
        "    for i in range(1, len(instance1)):\n",
        "        if(isinstance(instance1[i], str) or isinstance(instance2[i], str)):\n",
        "            continue\n",
        "        if(metric == 'euclidean'):\n",
        "            dist += (instance1[i] - instance2[i])**2\n",
        "        elif(metric == 'manhattan'):\n",
        "            dist += abs(instance1[i] - instance2[i])\n",
        "        elif(metric == 'jaccard'):\n",
        "            a += min(instance1[i], instance2[i])\n",
        "            b += max(instance1[i], instance2[i])\n",
        "        elif(metric == 'cosine'):\n",
        "            dist += instance1[i]*instance2[i]\n",
        "            a += instance1[i]*instance1[i]\n",
        "            b += instance2[i]*instance2[i]\n",
        "    if(metric == 'jaccard'):\n",
        "        dist = 1 - a / b\n",
        "    elif(metric == 'cosine'):\n",
        "        dist = 1 - dist / sqrt(a * b)\n",
        "    return dist\n",
        "\n",
        "def assign(instance, centroids, metric):\n",
        "    minDistance = distance(instance, centroids[0], metric)\n",
        "    minDistanceIndex = 0\n",
        "    for i in range(1, len(centroids)):\n",
        "        d = distance(instance, centroids[i], metric)\n",
        "        if (d < minDistance):\n",
        "            minDistance = d\n",
        "            minDistanceIndex = i\n",
        "    return minDistanceIndex\n",
        "\n",
        "def meanInstance(name, instanceList):\n",
        "    numInstances = len(instanceList)\n",
        "    if (numInstances == 0):\n",
        "        return\n",
        "    numAttributes = len(instanceList[0])\n",
        "    abc = {}\n",
        "    means = [name] + [0] * (numAttributes - 1)\n",
        "    for instance in instanceList:\n",
        "        for i in range(1, numAttributes):\n",
        "            if(isinstance(instance[i], str)):\n",
        "                if(not instance[i] in abc):\n",
        "                    abc[instance[i]] = 0\n",
        "                abc[instance[i]] += 1\n",
        "                means[i] = MaxKey = max(abc, key=abc.get)\n",
        "                continue\n",
        "            means[i] += instance[i]\n",
        "    for i in range(1, numAttributes):\n",
        "        if(isinstance(instance[i], str)):\n",
        "            continue\n",
        "        means[i] /= float(numInstances)\n",
        "    return tuple(means)\n",
        "\n",
        "def assignAll(instances, centroids, metric):\n",
        "    clusters = createEmptyListOfLists(len(centroids))\n",
        "    for instance in instances:\n",
        "        clusterIndex = assign(instance, centroids, metric)\n",
        "        clusters[clusterIndex].append(instance)\n",
        "    return clusters\n",
        "\n",
        "def computeCentroids(clusters):\n",
        "    centroids = []\n",
        "    for i in range(len(clusters)):\n",
        "        name = \"centroid\" + str(i)\n",
        "        centroid = meanInstance(name, clusters[i])\n",
        "        centroids.append(centroid)\n",
        "    return centroids\n",
        "\n",
        "def computeWithinss(clusters, centroids, metric):\n",
        "    result = 0\n",
        "    for i in range(len(centroids)):\n",
        "        centroid = centroids[i]\n",
        "        cluster = clusters[i]\n",
        "        for instance in cluster:\n",
        "            result += distance(centroid, instance, metric) ** 2\n",
        "    return result\n",
        "\n",
        "def createEmptyListOfLists(numSubLists):\n",
        "    myList = []\n",
        "    for i in range(numSubLists):\n",
        "        myList.append([])\n",
        "    return myList"
      ],
      "execution_count": 2,
      "outputs": []
    },
    {
      "cell_type": "markdown",
      "metadata": {
        "id": "ThQgPenxoVEZ"
      },
      "source": [
        "# Task 1\n",
        "\n",
        "### Q1:"
      ]
    },
    {
      "cell_type": "code",
      "metadata": {
        "id": "gS9YEINLoV-K",
        "outputId": "f86b0aa6-e2ca-47fa-ce03-7e6a39995e31",
        "colab": {
          "base_uri": "https://localhost:8080/"
        }
      },
      "source": [
        "k_means_data = kmeans(team_data, 2, 'manhattan', 1, [['C1', 4, 6], ['C2', 5, 4]])\n",
        "print(k_means_data)"
      ],
      "execution_count": 3,
      "outputs": [
        {
          "output_type": "stream",
          "text": [
            "{'clusters': [[['X1', 3, 5], ['X3', 2, 8], ['X10', 7, 6]], [['X2', 3, 4], ['X4', 2, 3], ['X5', 6, 2], ['X6', 6, 4], ['X7', 7, 3], ['X8', 7, 4], ['X9', 8, 5]]], 'centroids': [('centroid0', 4.0, 6.333333333333333), ('centroid1', 5.571428571428571, 3.5714285714285716)], 'withinss': 83.22448979591836, 'iterations': 1}\n"
          ],
          "name": "stdout"
        }
      ]
    },
    {
      "cell_type": "markdown",
      "metadata": {
        "id": "OJTutyFPuLMw"
      },
      "source": [
        "### Q2:"
      ]
    },
    {
      "cell_type": "code",
      "metadata": {
        "id": "HbVPZQZ0uU4z",
        "outputId": "acfb06a3-7075-4201-9072-9b3676c16913",
        "colab": {
          "base_uri": "https://localhost:8080/"
        }
      },
      "source": [
        "k_means_data = kmeans(team_data, 2, 'euclidean', 1, [['C1', 4, 6], ['C2', 5, 4]])\n",
        "print(k_means_data)"
      ],
      "execution_count": 4,
      "outputs": [
        {
          "output_type": "stream",
          "text": [
            "{'clusters': [[['X1', 3, 5], ['X3', 2, 8]], [['X2', 3, 4], ['X4', 2, 3], ['X5', 6, 2], ['X6', 6, 4], ['X7', 7, 3], ['X8', 7, 4], ['X9', 8, 5], ['X10', 7, 6]]], 'centroids': [('centroid0', 2.5, 6.5), ('centroid1', 5.75, 3.875)], 'withinss': 387.509765625, 'iterations': 1}\n"
          ],
          "name": "stdout"
        }
      ]
    },
    {
      "cell_type": "markdown",
      "metadata": {
        "id": "cSrenc8-uOZ4"
      },
      "source": [
        "### Q3:"
      ]
    },
    {
      "cell_type": "code",
      "metadata": {
        "id": "hn3seXcpugdr",
        "outputId": "bd79c0f1-98ea-42e9-9876-8330549736bb",
        "colab": {
          "base_uri": "https://localhost:8080/"
        }
      },
      "source": [
        "k_means_data = kmeans(team_data, 2, 'manhattan', 1, [['C1', 3, 3], ['C2', 8, 3]])\n",
        "print(k_means_data)"
      ],
      "execution_count": 5,
      "outputs": [
        {
          "output_type": "stream",
          "text": [
            "{'clusters': [[['X1', 3, 5], ['X2', 3, 4], ['X3', 2, 8], ['X4', 2, 3]], [['X5', 6, 2], ['X6', 6, 4], ['X7', 7, 3], ['X8', 7, 4], ['X9', 8, 5], ['X10', 7, 6]]], 'centroids': [('centroid0', 2.5, 5.0), ('centroid1', 6.833333333333333, 4.0)], 'withinss': 40.5, 'iterations': 1}\n"
          ],
          "name": "stdout"
        }
      ]
    },
    {
      "cell_type": "markdown",
      "metadata": {
        "id": "274PbahYuOyG"
      },
      "source": [
        "### Q4:"
      ]
    },
    {
      "cell_type": "code",
      "metadata": {
        "id": "oEHviKUuug37",
        "outputId": "b566d1e8-dac3-4860-e988-b4ed23a11a5c",
        "colab": {
          "base_uri": "https://localhost:8080/"
        }
      },
      "source": [
        "k_means_data = kmeans(team_data, 2, 'manhattan', 1, [['C1', 3, 2], ['C2', 4, 8]])\n",
        "print(k_means_data)"
      ],
      "execution_count": 6,
      "outputs": [
        {
          "output_type": "stream",
          "text": [
            "{'clusters': [[['X1', 3, 5], ['X2', 3, 4], ['X4', 2, 3], ['X5', 6, 2], ['X6', 6, 4], ['X7', 7, 3], ['X8', 7, 4]], [['X3', 2, 8], ['X9', 8, 5], ['X10', 7, 6]]], 'centroids': [('centroid0', 4.857142857142857, 3.5714285714285716), ('centroid1', 5.666666666666667, 6.333333333333333)], 'withinss': 96.25850340136054, 'iterations': 1}\n"
          ],
          "name": "stdout"
        }
      ]
    },
    {
      "cell_type": "markdown",
      "metadata": {
        "id": "cqEaJ3twykAY"
      },
      "source": [
        "# Task 2\n",
        "\n",
        "### Q1:"
      ]
    },
    {
      "cell_type": "code",
      "metadata": {
        "id": "OqeYIwQW143F",
        "outputId": "40337baa-21ed-48e0-f5a0-afa8a8af5760",
        "colab": {
          "base_uri": "https://localhost:8080/"
        }
      },
      "source": [
        "euclidean = kmeans(iris_data, 3, 'euclidean')\n",
        "cosine = kmeans(iris_data, 3, 'cosine')\n",
        "jaccard = kmeans(iris_data, 3, 'jaccard')\n",
        "\n",
        "print('SSEs of K-means clustering with various similarities:')\n",
        "print(euclidean['withinss'], cosine['withinss'], jaccard['withinss'])"
      ],
      "execution_count": 7,
      "outputs": [
        {
          "output_type": "stream",
          "text": [
            "SSEs of K-means clustering with various similarities:\n",
            "354.43863880003266 0.00034499476038780014 1.0452360489145662\n"
          ],
          "name": "stdout"
        }
      ]
    },
    {
      "cell_type": "markdown",
      "metadata": {
        "id": "9K8nUNl2KS47"
      },
      "source": [
        "Since Cosine-K-means has the lowest SSE of the three similarities, it is the best.\n",
        "\n",
        "### Q2:"
      ]
    },
    {
      "cell_type": "code",
      "metadata": {
        "id": "0TtHQPoW9rK9",
        "outputId": "e5598b56-87d9-4322-a5b1-f9ac86adcfaf",
        "colab": {
          "base_uri": "https://localhost:8080/"
        }
      },
      "source": [
        "def get_accuracy(metric):\n",
        "    accuracy, total = 0, 0\n",
        "\n",
        "    for i in range(len(metric['centroids'])):\n",
        "        for j in metric['clusters'][i]:\n",
        "            if(j[5] == metric['centroids'][i][5]):\n",
        "                accuracy += 1\n",
        "            total += 1\n",
        "\n",
        "    return accuracy / total\n",
        "\n",
        "print('Accuracies of K-means clustering with various similarities:')\n",
        "print(get_accuracy(euclidean), get_accuracy(cosine), get_accuracy(jaccard))"
      ],
      "execution_count": 8,
      "outputs": [
        {
          "output_type": "stream",
          "text": [
            "Accuracies of K-means clustering with various similarities:\n",
            "0.6666666666666666 0.9733333333333334 0.88\n"
          ],
          "name": "stdout"
        }
      ]
    },
    {
      "cell_type": "markdown",
      "metadata": {
        "id": "bObrTjOeA_D8"
      },
      "source": [
        "We can see that Cosine-K-means metric has the highest accuracy, and so it is the best.\n",
        "\n",
        "### Q3:"
      ]
    },
    {
      "cell_type": "code",
      "metadata": {
        "id": "i-bSfDm9BxXS",
        "outputId": "b2f02d1e-9233-49fb-9813-4a3a432788ad",
        "colab": {
          "base_uri": "https://localhost:8080/"
        }
      },
      "source": [
        "print('Iteration counts of K-means clustering with various similarities:')\n",
        "print(euclidean['iterations'], cosine['iterations'], jaccard['iterations'])"
      ],
      "execution_count": 9,
      "outputs": [
        {
          "output_type": "stream",
          "text": [
            "Iteration counts of K-means clustering with various similarities:\n",
            "8 7 5\n"
          ],
          "name": "stdout"
        }
      ]
    },
    {
      "cell_type": "markdown",
      "metadata": {
        "id": "eLqFaiGQCCBw"
      },
      "source": [
        "We can see that Jaccard-K-means requires the most iterations and thus time.\n",
        "\n",
        "### Q4:"
      ]
    },
    {
      "cell_type": "code",
      "metadata": {
        "id": "5COjYOEyCXBj"
      },
      "source": [
        ""
      ],
      "execution_count": 9,
      "outputs": []
    },
    {
      "cell_type": "markdown",
      "metadata": {
        "id": "9nwNOGjgHboU"
      },
      "source": [
        "# Task 3\n",
        "\n",
        "\n",
        "*   K-means clustering may not work very well in cases that data are nonspherical or the clusters are unevenly sized relative to one another. The latter case happens since K-means gives more weight to larger clusters, and so it will break up smaller and further clusters, then use their centers to split a larger cluster.\n",
        "\n",
        "*   One better strategy for selecting K inital centers is to select more than k initial centroids and then select, among these initial centroids, the most widely separated ones. Another strategy is to use the Bisecting K-means algorithm instead; it is not as susceptible to initialization issues.\n",
        "\n",
        "\n",
        "# Task 4"
      ]
    },
    {
      "cell_type": "code",
      "metadata": {
        "id": "eenk2EkyDQdN"
      },
      "source": [
        "red = np.array([[4.7, 3.2], [4.9, 3.1], [5.0, 3.0], [4.6, 2.9]])\n",
        "blue = np.array([[5.9, 3.2], [6.7, 3.1], [6.0, 3.0], [6.2, 2.8]])"
      ],
      "execution_count": 10,
      "outputs": []
    },
    {
      "cell_type": "markdown",
      "metadata": {
        "id": "2A5cFqcdEAr5"
      },
      "source": [
        "### A:"
      ]
    },
    {
      "cell_type": "code",
      "metadata": {
        "id": "Lp_0JXsFEHf-",
        "outputId": "5660aee7-0475-4893-ad2d-894f9efc1bec",
        "colab": {
          "base_uri": "https://localhost:8080/"
        }
      },
      "source": [
        "max_distance = 0\n",
        "\n",
        "for i in range(len(red)):\n",
        "  for j in range(len(blue)):\n",
        "    current_distance = np.linalg.norm(red[i]-blue[j])\n",
        "    if current_distance > max_distance:\n",
        "      max_distance = current_distance\n",
        "\n",
        "print('Distance between the two farthest members:', round(Decimal(max_distance), 4))"
      ],
      "execution_count": 11,
      "outputs": [
        {
          "output_type": "stream",
          "text": [
            "Distance between the two farthest members: 2.1095\n"
          ],
          "name": "stdout"
        }
      ]
    },
    {
      "cell_type": "markdown",
      "metadata": {
        "id": "miwlKxIQEBFL"
      },
      "source": [
        "### B:"
      ]
    },
    {
      "cell_type": "code",
      "metadata": {
        "id": "1HTbRMJrEG-O",
        "outputId": "f31f28b1-a755-4144-d834-0d64132d7f72",
        "colab": {
          "base_uri": "https://localhost:8080/"
        }
      },
      "source": [
        "min_distance = 100\n",
        "\n",
        "for i in range(len(red)):\n",
        "  for j in range(len(blue)):\n",
        "    current_distance = np.linalg.norm(red[i]-blue[j])\n",
        "    if current_distance < min_distance:\n",
        "      min_distance = current_distance\n",
        "\n",
        "print('Distance between the two closest members:', round(Decimal(min_distance), 4))"
      ],
      "execution_count": 12,
      "outputs": [
        {
          "output_type": "stream",
          "text": [
            "Distance between the two closest members: 0.9220\n"
          ],
          "name": "stdout"
        }
      ]
    },
    {
      "cell_type": "markdown",
      "metadata": {
        "id": "_94Dd7y3EBWm"
      },
      "source": [
        "### C:"
      ]
    },
    {
      "cell_type": "code",
      "metadata": {
        "id": "ZW28XpGrEIBW",
        "outputId": "a8f9559b-987b-4ca2-f89f-3d791347b101",
        "colab": {
          "base_uri": "https://localhost:8080/"
        }
      },
      "source": [
        "total_distance = 0\n",
        "\n",
        "for i in range(len(red)):\n",
        "  for j in range(len(blue)):\n",
        "    total_distance += np.linalg.norm(red[i]-blue[j])\n",
        "\n",
        "print('Average distance between all pairs:', round(Decimal(total_distance / (len(red) * len(blue))), 4))"
      ],
      "execution_count": 13,
      "outputs": [
        {
          "output_type": "stream",
          "text": [
            "Average distance between all pairs: 1.4129\n"
          ],
          "name": "stdout"
        }
      ]
    },
    {
      "cell_type": "markdown",
      "metadata": {
        "id": "lWyrK4xyTnqB"
      },
      "source": [
        "### D:\n",
        "\n",
        "We know from our readings that clustering using MIN creates sensitivity to noise but can handle non-elliptical shapes, whereas clustering with MAX reduces susceptibility to noise and outliers but breaks large clusters and is biased towards globular clusters. Group average clustering is a compromise between these two methods.\n",
        "\n",
        "Since the two clusters have the same number of elements (4 datapoints each; no cluster is larger than the other), and we know from above that clustering with MAX reduces noise the most out of the three methods, we can conclude that the distance in part A (MAX) is more robust to noises in this case."
      ]
    }
  ]
}