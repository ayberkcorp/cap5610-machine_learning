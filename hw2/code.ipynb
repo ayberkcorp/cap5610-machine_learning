{
  "nbformat": 4,
  "nbformat_minor": 0,
  "metadata": {
    "colab": {
      "name": "code.ipynb",
      "provenance": [],
      "collapsed_sections": [],
      "authorship_tag": "ABX9TyP3mQosKkdIstaU8Kl/B6Qt",
      "include_colab_link": true
    },
    "kernelspec": {
      "name": "python3",
      "display_name": "Python 3"
    }
  },
  "cells": [
    {
      "cell_type": "markdown",
      "metadata": {
        "id": "view-in-github",
        "colab_type": "text"
      },
      "source": [
        "<a href=\"https://colab.research.google.com/github/ayberkcorp/cap5610-machine_learning/blob/master/hw2/code.ipynb\" target=\"_parent\"><img src=\"https://colab.research.google.com/assets/colab-badge.svg\" alt=\"Open In Colab\"/></a>"
      ]
    },
    {
      "cell_type": "markdown",
      "metadata": {
        "id": "pbKnG1YdQNc3",
        "colab_type": "text"
      },
      "source": [
        "# Task 1\n",
        "\n",
        "## Imports/Reading Data"
      ]
    },
    {
      "cell_type": "code",
      "metadata": {
        "id": "mfpt837TQgWg",
        "colab_type": "code",
        "colab": {
          "base_uri": "https://localhost:8080/",
          "height": 72
        },
        "outputId": "9080dc10-f2b3-441e-cd7f-993f778786d4"
      },
      "source": [
        "# data analysis and wrangling\n",
        "import pandas as pd\n",
        "import numpy as np\n",
        "import random as rnd\n",
        "\n",
        "# visualization\n",
        "import seaborn as sns\n",
        "import graphviz\n",
        "import matplotlib.pyplot as plt\n",
        "%matplotlib inline\n",
        "\n",
        "# machine learning\n",
        "from sklearn.feature_selection import SelectKBest, chi2\n",
        "from sklearn.tree import DecisionTreeClassifier, export_graphviz\n",
        "from sklearn.model_selection import cross_val_score\n",
        "\n",
        "from sklearn.linear_model import LogisticRegression\n",
        "from sklearn.svm import SVC, LinearSVC\n",
        "from sklearn.ensemble import RandomForestClassifier\n",
        "from sklearn.neighbors import KNeighborsClassifier\n",
        "from sklearn.naive_bayes import GaussianNB\n",
        "from sklearn.linear_model import Perceptron, SGDClassifier\n",
        "\n",
        "train_df = pd.read_csv('https://raw.githubusercontent.com/ayberkcorp/cap5610-machine_learning/master/Titanic/train.csv')\n",
        "test_df = pd.read_csv('https://raw.githubusercontent.com/ayberkcorp/cap5610-machine_learning/master/Titanic/test.csv')\n",
        "combine = [train_df, test_df]"
      ],
      "execution_count": 1,
      "outputs": [
        {
          "output_type": "stream",
          "text": [
            "/usr/local/lib/python3.6/dist-packages/statsmodels/tools/_testing.py:19: FutureWarning: pandas.util.testing is deprecated. Use the functions in the public API at pandas.testing instead.\n",
            "  import pandas.util.testing as tm\n"
          ],
          "name": "stderr"
        }
      ]
    },
    {
      "cell_type": "markdown",
      "metadata": {
        "id": "vMKDscYJQM-G",
        "colab_type": "text"
      },
      "source": [
        "### 1) Preprocess your Titanic training data."
      ]
    },
    {
      "cell_type": "code",
      "metadata": {
        "id": "MP_T60pbmoY4",
        "colab_type": "code",
        "colab": {}
      },
      "source": [
        "train_df = train_df.drop(['PassengerId', 'Name', 'Ticket', 'Cabin'], axis=1)\n",
        "test_df = test_df.drop(['Name', 'Ticket', 'Cabin'], axis=1)\n",
        "combine = [train_df, test_df]\n",
        "\n",
        "for dataset in combine:\n",
        "    dataset['Sex'] = dataset['Sex'].map( {'female': 1, 'male': 0} ).astype(int)\n",
        "\n",
        "guess_ages = np.zeros((2,3))\n",
        "guess_ages\n",
        "\n",
        "for dataset in combine:\n",
        "    for i in range(0, 2):\n",
        "        for j in range(0, 3):\n",
        "            guess_df = dataset[(dataset['Sex'] == i) & \\\n",
        "                                  (dataset['Pclass'] == j+1)]['Age'].dropna()\n",
        "\n",
        "            age_mean = guess_df.mean()\n",
        "            age_std = guess_df.std()\n",
        "            age_guess = rnd.uniform(age_mean - age_std, age_mean + age_std)\n",
        "\n",
        "            # Convert random age float to nearest .5 age\n",
        "            guess_ages[i,j] = int( age_guess/0.5 + 0.5 ) * 0.5\n",
        "            \n",
        "    for i in range(0, 2):\n",
        "        for j in range(0, 3):\n",
        "            dataset.loc[ (dataset.Age.isnull()) & (dataset.Sex == i) & (dataset.Pclass == j+1),\\\n",
        "                    'Age'] = guess_ages[i,j]\n",
        "\n",
        "    dataset['Age'] = dataset['Age'].astype(int)\n",
        "\n",
        "freq_port = train_df.Embarked.dropna().mode()[0]\n",
        "train_df = train_df.fillna(freq_port)\n",
        "\n",
        "test_df['Fare'].fillna(test_df['Fare'].dropna().median(), inplace=True)\n",
        "\n",
        "combine = [train_df, test_df]\n",
        "\n",
        "for dataset in combine:\n",
        "    dataset.loc[ dataset['Fare'] <= 7.91, 'Fare'] = 0\n",
        "    dataset.loc[(dataset['Fare'] > 7.91) & (dataset['Fare'] <= 14.454), 'Fare'] = 1\n",
        "    dataset.loc[(dataset['Fare'] > 14.454) & (dataset['Fare'] <= 31), 'Fare']   = 2\n",
        "    dataset.loc[ dataset['Fare'] > 31, 'Fare'] = 3\n",
        "    dataset['Fare'] = dataset['Fare'].astype(int)\n",
        "\n",
        "for dataset in combine:\n",
        "    dataset['Embarked'] = dataset['Embarked'].map( {'S': 0, 'C': 1, 'Q': 2} ).astype(int)"
      ],
      "execution_count": 2,
      "outputs": []
    },
    {
      "cell_type": "code",
      "metadata": {
        "id": "bOLYELikeyGX",
        "colab_type": "code",
        "colab": {
          "base_uri": "https://localhost:8080/",
          "height": 200
        },
        "outputId": "4df6dace-8036-4a76-88c0-f67f0381b265"
      },
      "source": [
        "train_df.head()"
      ],
      "execution_count": 3,
      "outputs": [
        {
          "output_type": "execute_result",
          "data": {
            "text/html": [
              "<div>\n",
              "<style scoped>\n",
              "    .dataframe tbody tr th:only-of-type {\n",
              "        vertical-align: middle;\n",
              "    }\n",
              "\n",
              "    .dataframe tbody tr th {\n",
              "        vertical-align: top;\n",
              "    }\n",
              "\n",
              "    .dataframe thead th {\n",
              "        text-align: right;\n",
              "    }\n",
              "</style>\n",
              "<table border=\"1\" class=\"dataframe\">\n",
              "  <thead>\n",
              "    <tr style=\"text-align: right;\">\n",
              "      <th></th>\n",
              "      <th>Survived</th>\n",
              "      <th>Pclass</th>\n",
              "      <th>Sex</th>\n",
              "      <th>Age</th>\n",
              "      <th>SibSp</th>\n",
              "      <th>Parch</th>\n",
              "      <th>Fare</th>\n",
              "      <th>Embarked</th>\n",
              "    </tr>\n",
              "  </thead>\n",
              "  <tbody>\n",
              "    <tr>\n",
              "      <th>0</th>\n",
              "      <td>0</td>\n",
              "      <td>3</td>\n",
              "      <td>0</td>\n",
              "      <td>22</td>\n",
              "      <td>1</td>\n",
              "      <td>0</td>\n",
              "      <td>0</td>\n",
              "      <td>0</td>\n",
              "    </tr>\n",
              "    <tr>\n",
              "      <th>1</th>\n",
              "      <td>1</td>\n",
              "      <td>1</td>\n",
              "      <td>1</td>\n",
              "      <td>38</td>\n",
              "      <td>1</td>\n",
              "      <td>0</td>\n",
              "      <td>3</td>\n",
              "      <td>1</td>\n",
              "    </tr>\n",
              "    <tr>\n",
              "      <th>2</th>\n",
              "      <td>1</td>\n",
              "      <td>3</td>\n",
              "      <td>1</td>\n",
              "      <td>26</td>\n",
              "      <td>0</td>\n",
              "      <td>0</td>\n",
              "      <td>1</td>\n",
              "      <td>0</td>\n",
              "    </tr>\n",
              "    <tr>\n",
              "      <th>3</th>\n",
              "      <td>1</td>\n",
              "      <td>1</td>\n",
              "      <td>1</td>\n",
              "      <td>35</td>\n",
              "      <td>1</td>\n",
              "      <td>0</td>\n",
              "      <td>3</td>\n",
              "      <td>0</td>\n",
              "    </tr>\n",
              "    <tr>\n",
              "      <th>4</th>\n",
              "      <td>0</td>\n",
              "      <td>3</td>\n",
              "      <td>0</td>\n",
              "      <td>35</td>\n",
              "      <td>0</td>\n",
              "      <td>0</td>\n",
              "      <td>1</td>\n",
              "      <td>0</td>\n",
              "    </tr>\n",
              "  </tbody>\n",
              "</table>\n",
              "</div>"
            ],
            "text/plain": [
              "   Survived  Pclass  Sex  Age  SibSp  Parch  Fare  Embarked\n",
              "0         0       3    0   22      1      0     0         0\n",
              "1         1       1    1   38      1      0     3         1\n",
              "2         1       3    1   26      0      0     1         0\n",
              "3         1       1    1   35      1      0     3         0\n",
              "4         0       3    0   35      0      0     1         0"
            ]
          },
          "metadata": {
            "tags": []
          },
          "execution_count": 3
        }
      ]
    },
    {
      "cell_type": "code",
      "metadata": {
        "id": "gEAqF9-Ue0xI",
        "colab_type": "code",
        "colab": {
          "base_uri": "https://localhost:8080/",
          "height": 200
        },
        "outputId": "e2d29f18-71b2-4e67-e9db-0eaad3515cba"
      },
      "source": [
        "test_df.head()"
      ],
      "execution_count": 4,
      "outputs": [
        {
          "output_type": "execute_result",
          "data": {
            "text/html": [
              "<div>\n",
              "<style scoped>\n",
              "    .dataframe tbody tr th:only-of-type {\n",
              "        vertical-align: middle;\n",
              "    }\n",
              "\n",
              "    .dataframe tbody tr th {\n",
              "        vertical-align: top;\n",
              "    }\n",
              "\n",
              "    .dataframe thead th {\n",
              "        text-align: right;\n",
              "    }\n",
              "</style>\n",
              "<table border=\"1\" class=\"dataframe\">\n",
              "  <thead>\n",
              "    <tr style=\"text-align: right;\">\n",
              "      <th></th>\n",
              "      <th>PassengerId</th>\n",
              "      <th>Pclass</th>\n",
              "      <th>Sex</th>\n",
              "      <th>Age</th>\n",
              "      <th>SibSp</th>\n",
              "      <th>Parch</th>\n",
              "      <th>Fare</th>\n",
              "      <th>Embarked</th>\n",
              "    </tr>\n",
              "  </thead>\n",
              "  <tbody>\n",
              "    <tr>\n",
              "      <th>0</th>\n",
              "      <td>892</td>\n",
              "      <td>3</td>\n",
              "      <td>0</td>\n",
              "      <td>34</td>\n",
              "      <td>0</td>\n",
              "      <td>0</td>\n",
              "      <td>0</td>\n",
              "      <td>2</td>\n",
              "    </tr>\n",
              "    <tr>\n",
              "      <th>1</th>\n",
              "      <td>893</td>\n",
              "      <td>3</td>\n",
              "      <td>1</td>\n",
              "      <td>47</td>\n",
              "      <td>1</td>\n",
              "      <td>0</td>\n",
              "      <td>0</td>\n",
              "      <td>0</td>\n",
              "    </tr>\n",
              "    <tr>\n",
              "      <th>2</th>\n",
              "      <td>894</td>\n",
              "      <td>2</td>\n",
              "      <td>0</td>\n",
              "      <td>62</td>\n",
              "      <td>0</td>\n",
              "      <td>0</td>\n",
              "      <td>1</td>\n",
              "      <td>2</td>\n",
              "    </tr>\n",
              "    <tr>\n",
              "      <th>3</th>\n",
              "      <td>895</td>\n",
              "      <td>3</td>\n",
              "      <td>0</td>\n",
              "      <td>27</td>\n",
              "      <td>0</td>\n",
              "      <td>0</td>\n",
              "      <td>1</td>\n",
              "      <td>0</td>\n",
              "    </tr>\n",
              "    <tr>\n",
              "      <th>4</th>\n",
              "      <td>896</td>\n",
              "      <td>3</td>\n",
              "      <td>1</td>\n",
              "      <td>22</td>\n",
              "      <td>1</td>\n",
              "      <td>1</td>\n",
              "      <td>1</td>\n",
              "      <td>0</td>\n",
              "    </tr>\n",
              "  </tbody>\n",
              "</table>\n",
              "</div>"
            ],
            "text/plain": [
              "   PassengerId  Pclass  Sex  Age  SibSp  Parch  Fare  Embarked\n",
              "0          892       3    0   34      0      0     0         2\n",
              "1          893       3    1   47      1      0     0         0\n",
              "2          894       2    0   62      0      0     1         2\n",
              "3          895       3    0   27      0      0     1         0\n",
              "4          896       3    1   22      1      1     1         0"
            ]
          },
          "metadata": {
            "tags": []
          },
          "execution_count": 4
        }
      ]
    },
    {
      "cell_type": "markdown",
      "metadata": {
        "id": "_9cG2T4AQNfL",
        "colab_type": "text"
      },
      "source": [
        "### 2) Select a set of important features. Please show your selected features and explain how you perform feature selection.\n",
        "\n",
        "We have already dropped PassengerId and Name since these are just identifiers. Ticket and Cabin were also dropped earlier with respect to Q14 and Q15 on hw1. Here is the correlation matrix of the remaining 8 features."
      ]
    },
    {
      "cell_type": "code",
      "metadata": {
        "id": "eVrVVm_6h1IT",
        "colab_type": "code",
        "colab": {
          "base_uri": "https://localhost:8080/",
          "height": 330
        },
        "outputId": "af281643-9f5e-4eaa-93a6-1f932700ed09"
      },
      "source": [
        "n = 8\n",
        "corrMatrix = train_df.corr()\n",
        "columns = corrMatrix.nlargest(n, 'Survived')['Survived'].index\n",
        "c = np.corrcoef(train_df[columns].values.T)\n",
        "sns.set(font_scale=1.2)\n",
        "h = sns.heatmap(c, cbar=True, annot=True, annot_kws={'size':9}, fmt='.2f', yticklabels=columns.values, xticklabels=columns.values)\n",
        "plt.show()"
      ],
      "execution_count": 5,
      "outputs": [
        {
          "output_type": "display_data",
          "data": {
            "image/png": "[encoded data removed]",
            "text/plain": [
              "<Figure size 432x288 with 2 Axes>"
            ]
          },
          "metadata": {
            "tags": []
          }
        }
      ]
    },
    {
      "cell_type": "markdown",
      "metadata": {
        "id": "5WNDYu6D6HrP",
        "colab_type": "text"
      },
      "source": [
        "Survived will now be dropped because it is what we are trying to predict."
      ]
    },
    {
      "cell_type": "code",
      "metadata": {
        "id": "mAB3ZqPj7CQ4",
        "colab_type": "code",
        "colab": {
          "base_uri": "https://localhost:8080/",
          "height": 35
        },
        "outputId": "77db4423-0f08-40f9-9519-d18c99f1c343"
      },
      "source": [
        "X_train = train_df.drop(\"Survived\", axis=1)\n",
        "Y_train = train_df[\"Survived\"]\n",
        "X_test  = test_df.drop(\"PassengerId\", axis=1).copy()\n",
        "X_train.shape, Y_train.shape, X_test.shape"
      ],
      "execution_count": 6,
      "outputs": [
        {
          "output_type": "execute_result",
          "data": {
            "text/plain": [
              "((891, 7), (891,), (418, 7))"
            ]
          },
          "metadata": {
            "tags": []
          },
          "execution_count": 6
        }
      ]
    },
    {
      "cell_type": "markdown",
      "metadata": {
        "id": "c8erIQ7v8fgy",
        "colab_type": "text"
      },
      "source": [
        "Now we will use SelectKBest for feature selection."
      ]
    },
    {
      "cell_type": "code",
      "metadata": {
        "id": "6Z8bQ2i6848G",
        "colab_type": "code",
        "colab": {
          "base_uri": "https://localhost:8080/",
          "height": 235
        },
        "outputId": "80c07064-e840-449e-911a-2abf95af65d9"
      },
      "source": [
        "SKB = SelectKBest(score_func=chi2, k=4)\n",
        "fit = SKB.fit(X_train, Y_train)\n",
        "print(fit.scores_)\n",
        "X_train.head()"
      ],
      "execution_count": 7,
      "outputs": [
        {
          "output_type": "stream",
          "text": [
            "[ 30.87369944 170.34812709  41.39182855   2.58186538  10.09749911\n",
            "  64.72249278  11.35311684]\n"
          ],
          "name": "stdout"
        },
        {
          "output_type": "execute_result",
          "data": {
            "text/html": [
              "<div>\n",
              "<style scoped>\n",
              "    .dataframe tbody tr th:only-of-type {\n",
              "        vertical-align: middle;\n",
              "    }\n",
              "\n",
              "    .dataframe tbody tr th {\n",
              "        vertical-align: top;\n",
              "    }\n",
              "\n",
              "    .dataframe thead th {\n",
              "        text-align: right;\n",
              "    }\n",
              "</style>\n",
              "<table border=\"1\" class=\"dataframe\">\n",
              "  <thead>\n",
              "    <tr style=\"text-align: right;\">\n",
              "      <th></th>\n",
              "      <th>Pclass</th>\n",
              "      <th>Sex</th>\n",
              "      <th>Age</th>\n",
              "      <th>SibSp</th>\n",
              "      <th>Parch</th>\n",
              "      <th>Fare</th>\n",
              "      <th>Embarked</th>\n",
              "    </tr>\n",
              "  </thead>\n",
              "  <tbody>\n",
              "    <tr>\n",
              "      <th>0</th>\n",
              "      <td>3</td>\n",
              "      <td>0</td>\n",
              "      <td>22</td>\n",
              "      <td>1</td>\n",
              "      <td>0</td>\n",
              "      <td>0</td>\n",
              "      <td>0</td>\n",
              "    </tr>\n",
              "    <tr>\n",
              "      <th>1</th>\n",
              "      <td>1</td>\n",
              "      <td>1</td>\n",
              "      <td>38</td>\n",
              "      <td>1</td>\n",
              "      <td>0</td>\n",
              "      <td>3</td>\n",
              "      <td>1</td>\n",
              "    </tr>\n",
              "    <tr>\n",
              "      <th>2</th>\n",
              "      <td>3</td>\n",
              "      <td>1</td>\n",
              "      <td>26</td>\n",
              "      <td>0</td>\n",
              "      <td>0</td>\n",
              "      <td>1</td>\n",
              "      <td>0</td>\n",
              "    </tr>\n",
              "    <tr>\n",
              "      <th>3</th>\n",
              "      <td>1</td>\n",
              "      <td>1</td>\n",
              "      <td>35</td>\n",
              "      <td>1</td>\n",
              "      <td>0</td>\n",
              "      <td>3</td>\n",
              "      <td>0</td>\n",
              "    </tr>\n",
              "    <tr>\n",
              "      <th>4</th>\n",
              "      <td>3</td>\n",
              "      <td>0</td>\n",
              "      <td>35</td>\n",
              "      <td>0</td>\n",
              "      <td>0</td>\n",
              "      <td>1</td>\n",
              "      <td>0</td>\n",
              "    </tr>\n",
              "  </tbody>\n",
              "</table>\n",
              "</div>"
            ],
            "text/plain": [
              "   Pclass  Sex  Age  SibSp  Parch  Fare  Embarked\n",
              "0       3    0   22      1      0     0         0\n",
              "1       1    1   38      1      0     3         1\n",
              "2       3    1   26      0      0     1         0\n",
              "3       1    1   35      1      0     3         0\n",
              "4       3    0   35      0      0     1         0"
            ]
          },
          "metadata": {
            "tags": []
          },
          "execution_count": 7
        }
      ]
    },
    {
      "cell_type": "markdown",
      "metadata": {
        "id": "7GP9okbgS2_Q",
        "colab_type": "text"
      },
      "source": [
        "As we can see, Pclass, Sex, Age, and Fare have the highest score. So we now drop the other 3 features."
      ]
    },
    {
      "cell_type": "code",
      "metadata": {
        "id": "Fejd3189TDfC",
        "colab_type": "code",
        "colab": {
          "base_uri": "https://localhost:8080/",
          "height": 35
        },
        "outputId": "42777441-678c-40ff-c85e-db790fbfffb7"
      },
      "source": [
        "X_train = X_train.drop([\"SibSp\", \"Parch\", \"Embarked\"], axis=1)\n",
        "X_test = X_test.drop([\"SibSp\", \"Parch\", \"Embarked\"], axis=1)\n",
        "X_train.shape, X_test.shape"
      ],
      "execution_count": 8,
      "outputs": [
        {
          "output_type": "execute_result",
          "data": {
            "text/plain": [
              "((891, 4), (418, 4))"
            ]
          },
          "metadata": {
            "tags": []
          },
          "execution_count": 8
        }
      ]
    },
    {
      "cell_type": "markdown",
      "metadata": {
        "id": "PH9PK3yWQNhs",
        "colab_type": "text"
      },
      "source": [
        "### 3) Learn a decision tree model with the Titanic training data using Gini index, plot your decision tree."
      ]
    },
    {
      "cell_type": "code",
      "metadata": {
        "id": "Hu4jvUimbwzS",
        "colab_type": "code",
        "colab": {
          "base_uri": "https://localhost:8080/",
          "height": 777
        },
        "outputId": "4502b829-7aea-40a4-867f-4e0705d3f7aa"
      },
      "source": [
        "decision_tree = DecisionTreeClassifier(criterion='gini', max_depth=4)\n",
        "decision_tree.fit(X_train, Y_train)\n",
        "\n",
        "data = export_graphviz(decision_tree, out_file=None,\n",
        "                       feature_names=X_train.columns.values,\n",
        "                       class_names=['0', '1'], filled=True,\n",
        "                       rounded=True, special_characters=True)\n",
        "\n",
        "graph = graphviz.Source(data, format=\"png\")\n",
        "graph"
      ],
      "execution_count": 9,
      "outputs": [
        {
          "output_type": "execute_result",
          "data": {
            "text/plain": [
              "<graphviz.files.Source at 0x7f5c90a1b048>"
            ],
            "image/svg+xml": "<?xml version=\"1.0\" encoding=\"UTF-8\" standalone=\"no\"?>\n<!DOCTYPE svg PUBLIC \"-//W3C//DTD SVG 1.1//EN\"\n \"http://www.w3.org/Graphics/SVG/1.1/DTD/svg11.dtd\">\n<!-- Generated by graphviz version 2.40.1 (20161225.0304)\n -->\n<!-- Title: Tree Pages: 1 -->\n<svg width=\"1748pt\" height=\"552pt\"\n viewBox=\"0.00 0.00 1748.00 552.00\" xmlns=\"http://www.w3.org/2000/svg\" xmlns:xlink=\"http://www.w3.org/1999/xlink\">\n<g id=\"graph0\" class=\"graph\" transform=\"scale(1 1) rotate(0) translate(4 548)\">\n<title>Tree</title>\n<polygon fill=\"#ffffff\" stroke=\"transparent\" points=\"-4,4 -4,-548 1744,-548 1744,4 -4,4\"/>\n<!-- 0 -->\n<g id=\"node1\" class=\"node\">\n<title>0</title>\n<path fill=\"#f5cfb4\" stroke=\"#000000\" d=\"M800.5,-544C800.5,-544 692.5,-544 692.5,-544 686.5,-544 680.5,-538 680.5,-532 680.5,-532 680.5,-473 680.5,-473 680.5,-467 686.5,-461 692.5,-461 692.5,-461 800.5,-461 800.5,-461 806.5,-461 812.5,-467 812.5,-473 812.5,-473 812.5,-532 812.5,-532 812.5,-538 806.5,-544 800.5,-544\"/>\n<text text-anchor=\"start\" x=\"716\" y=\"-528.8\" font-family=\"Helvetica,sans-Serif\" font-size=\"14.00\" fill=\"#000000\">Sex ≤ 0.5</text>\n<text text-anchor=\"start\" x=\"708.5\" y=\"-513.8\" font-family=\"Helvetica,sans-Serif\" font-size=\"14.00\" fill=\"#000000\">gini = 0.473</text>\n<text text-anchor=\"start\" x=\"698.5\" y=\"-498.8\" font-family=\"Helvetica,sans-Serif\" font-size=\"14.00\" fill=\"#000000\">samples = 891</text>\n<text text-anchor=\"start\" x=\"688.5\" y=\"-483.8\" font-family=\"Helvetica,sans-Serif\" font-size=\"14.00\" fill=\"#000000\">value = [549, 342]</text>\n<text text-anchor=\"start\" x=\"717.5\" y=\"-468.8\" font-family=\"Helvetica,sans-Serif\" font-size=\"14.00\" fill=\"#000000\">class = 0</text>\n</g>\n<!-- 1 -->\n<g id=\"node2\" class=\"node\">\n<title>1</title>\n<path fill=\"#eb9e67\" stroke=\"#000000\" d=\"M551.5,-425C551.5,-425 443.5,-425 443.5,-425 437.5,-425 431.5,-419 431.5,-413 431.5,-413 431.5,-354 431.5,-354 431.5,-348 437.5,-342 443.5,-342 443.5,-342 551.5,-342 551.5,-342 557.5,-342 563.5,-348 563.5,-354 563.5,-354 563.5,-413 563.5,-413 563.5,-419 557.5,-425 551.5,-425\"/>\n<text text-anchor=\"start\" x=\"466.5\" y=\"-409.8\" font-family=\"Helvetica,sans-Serif\" font-size=\"14.00\" fill=\"#000000\">Age ≤ 6.5</text>\n<text text-anchor=\"start\" x=\"459.5\" y=\"-394.8\" font-family=\"Helvetica,sans-Serif\" font-size=\"14.00\" fill=\"#000000\">gini = 0.306</text>\n<text text-anchor=\"start\" x=\"449.5\" y=\"-379.8\" font-family=\"Helvetica,sans-Serif\" font-size=\"14.00\" fill=\"#000000\">samples = 577</text>\n<text text-anchor=\"start\" x=\"439.5\" y=\"-364.8\" font-family=\"Helvetica,sans-Serif\" font-size=\"14.00\" fill=\"#000000\">value = [468, 109]</text>\n<text text-anchor=\"start\" x=\"468.5\" y=\"-349.8\" font-family=\"Helvetica,sans-Serif\" font-size=\"14.00\" fill=\"#000000\">class = 0</text>\n</g>\n<!-- 0&#45;&gt;1 -->\n<g id=\"edge1\" class=\"edge\">\n<title>0&#45;&gt;1</title>\n<path fill=\"none\" stroke=\"#000000\" d=\"M680.4263,-470.9226C647.3617,-455.1207 607.1868,-435.9206 572.9185,-419.5434\"/>\n<polygon fill=\"#000000\" stroke=\"#000000\" points=\"574.4143,-416.3791 563.8825,-415.225 571.3958,-422.6949 574.4143,-416.3791\"/>\n<text text-anchor=\"middle\" x=\"572.2097\" y=\"-435.0973\" font-family=\"Helvetica,sans-Serif\" font-size=\"14.00\" fill=\"#000000\">True</text>\n</g>\n<!-- 14 -->\n<g id=\"node15\" class=\"node\">\n<title>14</title>\n<path fill=\"#7ebfee\" stroke=\"#000000\" d=\"M1048.5,-425C1048.5,-425 948.5,-425 948.5,-425 942.5,-425 936.5,-419 936.5,-413 936.5,-413 936.5,-354 936.5,-354 936.5,-348 942.5,-342 948.5,-342 948.5,-342 1048.5,-342 1048.5,-342 1054.5,-342 1060.5,-348 1060.5,-354 1060.5,-354 1060.5,-413 1060.5,-413 1060.5,-419 1054.5,-425 1048.5,-425\"/>\n<text text-anchor=\"start\" x=\"959\" y=\"-409.8\" font-family=\"Helvetica,sans-Serif\" font-size=\"14.00\" fill=\"#000000\">Pclass ≤ 2.5</text>\n<text text-anchor=\"start\" x=\"960.5\" y=\"-394.8\" font-family=\"Helvetica,sans-Serif\" font-size=\"14.00\" fill=\"#000000\">gini = 0.383</text>\n<text text-anchor=\"start\" x=\"950.5\" y=\"-379.8\" font-family=\"Helvetica,sans-Serif\" font-size=\"14.00\" fill=\"#000000\">samples = 314</text>\n<text text-anchor=\"start\" x=\"944.5\" y=\"-364.8\" font-family=\"Helvetica,sans-Serif\" font-size=\"14.00\" fill=\"#000000\">value = [81, 233]</text>\n<text text-anchor=\"start\" x=\"969.5\" y=\"-349.8\" font-family=\"Helvetica,sans-Serif\" font-size=\"14.00\" fill=\"#000000\">class = 1</text>\n</g>\n<!-- 0&#45;&gt;14 -->\n<g id=\"edge14\" class=\"edge\">\n<title>0&#45;&gt;14</title>\n<path fill=\"none\" stroke=\"#000000\" d=\"M812.71,-471.2342C847.7825,-454.6722 890.9009,-434.3107 926.7672,-417.3738\"/>\n<polygon fill=\"#000000\" stroke=\"#000000\" points=\"928.6498,-420.3555 936.1977,-412.9205 925.6607,-414.0258 928.6498,-420.3555\"/>\n<text text-anchor=\"middle\" x=\"927.7612\" y=\"-432.754\" font-family=\"Helvetica,sans-Serif\" font-size=\"14.00\" fill=\"#000000\">False</text>\n</g>\n<!-- 2 -->\n<g id=\"node3\" class=\"node\">\n<title>2</title>\n<path fill=\"#9ccef2\" stroke=\"#000000\" d=\"M219,-306C219,-306 136,-306 136,-306 130,-306 124,-300 124,-294 124,-294 124,-235 124,-235 124,-229 130,-223 136,-223 136,-223 219,-223 219,-223 225,-223 231,-229 231,-235 231,-235 231,-294 231,-294 231,-300 225,-306 219,-306\"/>\n<text text-anchor=\"start\" x=\"138\" y=\"-290.8\" font-family=\"Helvetica,sans-Serif\" font-size=\"14.00\" fill=\"#000000\">Pclass ≤ 2.5</text>\n<text text-anchor=\"start\" x=\"139.5\" y=\"-275.8\" font-family=\"Helvetica,sans-Serif\" font-size=\"14.00\" fill=\"#000000\">gini = 0.444</text>\n<text text-anchor=\"start\" x=\"133.5\" y=\"-260.8\" font-family=\"Helvetica,sans-Serif\" font-size=\"14.00\" fill=\"#000000\">samples = 24</text>\n<text text-anchor=\"start\" x=\"132\" y=\"-245.8\" font-family=\"Helvetica,sans-Serif\" font-size=\"14.00\" fill=\"#000000\">value = [8, 16]</text>\n<text text-anchor=\"start\" x=\"148.5\" y=\"-230.8\" font-family=\"Helvetica,sans-Serif\" font-size=\"14.00\" fill=\"#000000\">class = 1</text>\n</g>\n<!-- 1&#45;&gt;2 -->\n<g id=\"edge2\" class=\"edge\">\n<title>1&#45;&gt;2</title>\n<path fill=\"none\" stroke=\"#000000\" d=\"M431.1958,-358.8431C375.2418,-338.0352 295.6833,-308.4494 240.643,-287.9813\"/>\n<polygon fill=\"#000000\" stroke=\"#000000\" points=\"241.5973,-284.6021 231.0045,-284.397 239.1574,-291.1631 241.5973,-284.6021\"/>\n</g>\n<!-- 7 -->\n<g id=\"node8\" class=\"node\">\n<title>7</title>\n<path fill=\"#ea9a61\" stroke=\"#000000\" d=\"M547.5,-306C547.5,-306 447.5,-306 447.5,-306 441.5,-306 435.5,-300 435.5,-294 435.5,-294 435.5,-235 435.5,-235 435.5,-229 441.5,-223 447.5,-223 447.5,-223 547.5,-223 547.5,-223 553.5,-223 559.5,-229 559.5,-235 559.5,-235 559.5,-294 559.5,-294 559.5,-300 553.5,-306 547.5,-306\"/>\n<text text-anchor=\"start\" x=\"458\" y=\"-290.8\" font-family=\"Helvetica,sans-Serif\" font-size=\"14.00\" fill=\"#000000\">Pclass ≤ 1.5</text>\n<text text-anchor=\"start\" x=\"464\" y=\"-275.8\" font-family=\"Helvetica,sans-Serif\" font-size=\"14.00\" fill=\"#000000\">gini = 0.28</text>\n<text text-anchor=\"start\" x=\"449.5\" y=\"-260.8\" font-family=\"Helvetica,sans-Serif\" font-size=\"14.00\" fill=\"#000000\">samples = 553</text>\n<text text-anchor=\"start\" x=\"443.5\" y=\"-245.8\" font-family=\"Helvetica,sans-Serif\" font-size=\"14.00\" fill=\"#000000\">value = [460, 93]</text>\n<text text-anchor=\"start\" x=\"468.5\" y=\"-230.8\" font-family=\"Helvetica,sans-Serif\" font-size=\"14.00\" fill=\"#000000\">class = 0</text>\n</g>\n<!-- 1&#45;&gt;7 -->\n<g id=\"edge7\" class=\"edge\">\n<title>1&#45;&gt;7</title>\n<path fill=\"none\" stroke=\"#000000\" d=\"M497.5,-341.8796C497.5,-333.6838 497.5,-324.9891 497.5,-316.5013\"/>\n<polygon fill=\"#000000\" stroke=\"#000000\" points=\"501.0001,-316.298 497.5,-306.2981 494.0001,-316.2981 501.0001,-316.298\"/>\n</g>\n<!-- 3 -->\n<g id=\"node4\" class=\"node\">\n<title>3</title>\n<path fill=\"#399de5\" stroke=\"#000000\" d=\"M95,-179.5C95,-179.5 12,-179.5 12,-179.5 6,-179.5 0,-173.5 0,-167.5 0,-167.5 0,-123.5 0,-123.5 0,-117.5 6,-111.5 12,-111.5 12,-111.5 95,-111.5 95,-111.5 101,-111.5 107,-117.5 107,-123.5 107,-123.5 107,-167.5 107,-167.5 107,-173.5 101,-179.5 95,-179.5\"/>\n<text text-anchor=\"start\" x=\"24\" y=\"-164.3\" font-family=\"Helvetica,sans-Serif\" font-size=\"14.00\" fill=\"#000000\">gini = 0.0</text>\n<text text-anchor=\"start\" x=\"9.5\" y=\"-149.3\" font-family=\"Helvetica,sans-Serif\" font-size=\"14.00\" fill=\"#000000\">samples = 10</text>\n<text text-anchor=\"start\" x=\"8\" y=\"-134.3\" font-family=\"Helvetica,sans-Serif\" font-size=\"14.00\" fill=\"#000000\">value = [0, 10]</text>\n<text text-anchor=\"start\" x=\"24.5\" y=\"-119.3\" font-family=\"Helvetica,sans-Serif\" font-size=\"14.00\" fill=\"#000000\">class = 1</text>\n</g>\n<!-- 2&#45;&gt;3 -->\n<g id=\"edge3\" class=\"edge\">\n<title>2&#45;&gt;3</title>\n<path fill=\"none\" stroke=\"#000000\" d=\"M134.1308,-222.8796C121.9852,-211.2237 108.7881,-198.5587 96.6549,-186.9148\"/>\n<polygon fill=\"#000000\" stroke=\"#000000\" points=\"98.8953,-184.2138 89.2567,-179.8149 94.0484,-189.2643 98.8953,-184.2138\"/>\n</g>\n<!-- 4 -->\n<g id=\"node5\" class=\"node\">\n<title>4</title>\n<path fill=\"#f8e0ce\" stroke=\"#000000\" d=\"M217.5,-187C217.5,-187 137.5,-187 137.5,-187 131.5,-187 125.5,-181 125.5,-175 125.5,-175 125.5,-116 125.5,-116 125.5,-110 131.5,-104 137.5,-104 137.5,-104 217.5,-104 217.5,-104 223.5,-104 229.5,-110 229.5,-116 229.5,-116 229.5,-175 229.5,-175 229.5,-181 223.5,-187 217.5,-187\"/>\n<text text-anchor=\"start\" x=\"144.5\" y=\"-171.8\" font-family=\"Helvetica,sans-Serif\" font-size=\"14.00\" fill=\"#000000\">Fare ≤ 1.5</text>\n<text text-anchor=\"start\" x=\"144\" y=\"-156.8\" font-family=\"Helvetica,sans-Serif\" font-size=\"14.00\" fill=\"#000000\">gini = 0.49</text>\n<text text-anchor=\"start\" x=\"133.5\" y=\"-141.8\" font-family=\"Helvetica,sans-Serif\" font-size=\"14.00\" fill=\"#000000\">samples = 14</text>\n<text text-anchor=\"start\" x=\"136\" y=\"-126.8\" font-family=\"Helvetica,sans-Serif\" font-size=\"14.00\" fill=\"#000000\">value = [8, 6]</text>\n<text text-anchor=\"start\" x=\"148.5\" y=\"-111.8\" font-family=\"Helvetica,sans-Serif\" font-size=\"14.00\" fill=\"#000000\">class = 0</text>\n</g>\n<!-- 2&#45;&gt;4 -->\n<g id=\"edge4\" class=\"edge\">\n<title>2&#45;&gt;4</title>\n<path fill=\"none\" stroke=\"#000000\" d=\"M177.5,-222.8796C177.5,-214.6838 177.5,-205.9891 177.5,-197.5013\"/>\n<polygon fill=\"#000000\" stroke=\"#000000\" points=\"181.0001,-197.298 177.5,-187.2981 174.0001,-197.2981 181.0001,-197.298\"/>\n</g>\n<!-- 5 -->\n<g id=\"node6\" class=\"node\">\n<title>5</title>\n<path fill=\"#399de5\" stroke=\"#000000\" d=\"M95,-68C95,-68 20,-68 20,-68 14,-68 8,-62 8,-56 8,-56 8,-12 8,-12 8,-6 14,0 20,0 20,0 95,0 95,0 101,0 107,-6 107,-12 107,-12 107,-56 107,-56 107,-62 101,-68 95,-68\"/>\n<text text-anchor=\"start\" x=\"28\" y=\"-52.8\" font-family=\"Helvetica,sans-Serif\" font-size=\"14.00\" fill=\"#000000\">gini = 0.0</text>\n<text text-anchor=\"start\" x=\"18\" y=\"-37.8\" font-family=\"Helvetica,sans-Serif\" font-size=\"14.00\" fill=\"#000000\">samples = 3</text>\n<text text-anchor=\"start\" x=\"16\" y=\"-22.8\" font-family=\"Helvetica,sans-Serif\" font-size=\"14.00\" fill=\"#000000\">value = [0, 3]</text>\n<text text-anchor=\"start\" x=\"28.5\" y=\"-7.8\" font-family=\"Helvetica,sans-Serif\" font-size=\"14.00\" fill=\"#000000\">class = 1</text>\n</g>\n<!-- 4&#45;&gt;5 -->\n<g id=\"edge5\" class=\"edge\">\n<title>4&#45;&gt;5</title>\n<path fill=\"none\" stroke=\"#000000\" d=\"M132.8164,-103.9815C122.7273,-94.607 112.019,-84.6572 101.9399,-75.2921\"/>\n<polygon fill=\"#000000\" stroke=\"#000000\" points=\"104.0839,-72.5065 94.3757,-68.2637 99.3191,-77.6346 104.0839,-72.5065\"/>\n</g>\n<!-- 6 -->\n<g id=\"node7\" class=\"node\">\n<title>6</title>\n<path fill=\"#efb083\" stroke=\"#000000\" d=\"M217.5,-68C217.5,-68 137.5,-68 137.5,-68 131.5,-68 125.5,-62 125.5,-56 125.5,-56 125.5,-12 125.5,-12 125.5,-6 131.5,0 137.5,0 137.5,0 217.5,0 217.5,0 223.5,0 229.5,-6 229.5,-12 229.5,-12 229.5,-56 229.5,-56 229.5,-62 223.5,-68 217.5,-68\"/>\n<text text-anchor=\"start\" x=\"139.5\" y=\"-52.8\" font-family=\"Helvetica,sans-Serif\" font-size=\"14.00\" fill=\"#000000\">gini = 0.397</text>\n<text text-anchor=\"start\" x=\"133.5\" y=\"-37.8\" font-family=\"Helvetica,sans-Serif\" font-size=\"14.00\" fill=\"#000000\">samples = 11</text>\n<text text-anchor=\"start\" x=\"136\" y=\"-22.8\" font-family=\"Helvetica,sans-Serif\" font-size=\"14.00\" fill=\"#000000\">value = [8, 3]</text>\n<text text-anchor=\"start\" x=\"148.5\" y=\"-7.8\" font-family=\"Helvetica,sans-Serif\" font-size=\"14.00\" fill=\"#000000\">class = 0</text>\n</g>\n<!-- 4&#45;&gt;6 -->\n<g id=\"edge6\" class=\"edge\">\n<title>4&#45;&gt;6</title>\n<path fill=\"none\" stroke=\"#000000\" d=\"M177.5,-103.9815C177.5,-95.618 177.5,-86.7965 177.5,-78.3409\"/>\n<polygon fill=\"#000000\" stroke=\"#000000\" points=\"181.0001,-78.2636 177.5,-68.2637 174.0001,-78.2637 181.0001,-78.2636\"/>\n</g>\n<!-- 8 -->\n<g id=\"node9\" class=\"node\">\n<title>8</title>\n<path fill=\"#f4c7a8\" stroke=\"#000000\" d=\"M474.5,-187C474.5,-187 382.5,-187 382.5,-187 376.5,-187 370.5,-181 370.5,-175 370.5,-175 370.5,-116 370.5,-116 370.5,-110 376.5,-104 382.5,-104 382.5,-104 474.5,-104 474.5,-104 480.5,-104 486.5,-110 486.5,-116 486.5,-116 486.5,-175 486.5,-175 486.5,-181 480.5,-187 474.5,-187\"/>\n<text text-anchor=\"start\" x=\"393.5\" y=\"-171.8\" font-family=\"Helvetica,sans-Serif\" font-size=\"14.00\" fill=\"#000000\">Age ≤ 53.0</text>\n<text text-anchor=\"start\" x=\"395\" y=\"-156.8\" font-family=\"Helvetica,sans-Serif\" font-size=\"14.00\" fill=\"#000000\">gini = 0.46</text>\n<text text-anchor=\"start\" x=\"380.5\" y=\"-141.8\" font-family=\"Helvetica,sans-Serif\" font-size=\"14.00\" fill=\"#000000\">samples = 120</text>\n<text text-anchor=\"start\" x=\"378.5\" y=\"-126.8\" font-family=\"Helvetica,sans-Serif\" font-size=\"14.00\" fill=\"#000000\">value = [77, 43]</text>\n<text text-anchor=\"start\" x=\"399.5\" y=\"-111.8\" font-family=\"Helvetica,sans-Serif\" font-size=\"14.00\" fill=\"#000000\">class = 0</text>\n</g>\n<!-- 7&#45;&gt;8 -->\n<g id=\"edge8\" class=\"edge\">\n<title>7&#45;&gt;8</title>\n<path fill=\"none\" stroke=\"#000000\" d=\"M473.3671,-222.8796C468.3539,-214.2335 463.0187,-205.0322 457.8419,-196.1042\"/>\n<polygon fill=\"#000000\" stroke=\"#000000\" points=\"460.7798,-194.1934 452.7359,-187.2981 454.7242,-197.7047 460.7798,-194.1934\"/>\n</g>\n<!-- 11 -->\n<g id=\"node12\" class=\"node\">\n<title>11</title>\n<path fill=\"#e89153\" stroke=\"#000000\" d=\"M616.5,-187C616.5,-187 516.5,-187 516.5,-187 510.5,-187 504.5,-181 504.5,-175 504.5,-175 504.5,-116 504.5,-116 504.5,-110 510.5,-104 516.5,-104 516.5,-104 616.5,-104 616.5,-104 622.5,-104 628.5,-110 628.5,-116 628.5,-116 628.5,-175 628.5,-175 628.5,-181 622.5,-187 616.5,-187\"/>\n<text text-anchor=\"start\" x=\"531.5\" y=\"-171.8\" font-family=\"Helvetica,sans-Serif\" font-size=\"14.00\" fill=\"#000000\">Age ≤ 13.0</text>\n<text text-anchor=\"start\" x=\"528.5\" y=\"-156.8\" font-family=\"Helvetica,sans-Serif\" font-size=\"14.00\" fill=\"#000000\">gini = 0.204</text>\n<text text-anchor=\"start\" x=\"518.5\" y=\"-141.8\" font-family=\"Helvetica,sans-Serif\" font-size=\"14.00\" fill=\"#000000\">samples = 433</text>\n<text text-anchor=\"start\" x=\"512.5\" y=\"-126.8\" font-family=\"Helvetica,sans-Serif\" font-size=\"14.00\" fill=\"#000000\">value = [383, 50]</text>\n<text text-anchor=\"start\" x=\"537.5\" y=\"-111.8\" font-family=\"Helvetica,sans-Serif\" font-size=\"14.00\" fill=\"#000000\">class = 0</text>\n</g>\n<!-- 7&#45;&gt;11 -->\n<g id=\"edge11\" class=\"edge\">\n<title>7&#45;&gt;11</title>\n<path fill=\"none\" stroke=\"#000000\" d=\"M521.6329,-222.8796C526.6461,-214.2335 531.9813,-205.0322 537.1581,-196.1042\"/>\n<polygon fill=\"#000000\" stroke=\"#000000\" points=\"540.2758,-197.7047 542.2641,-187.2981 534.2202,-194.1934 540.2758,-197.7047\"/>\n</g>\n<!-- 9 -->\n<g id=\"node10\" class=\"node\">\n<title>9</title>\n<path fill=\"#f7d8c2\" stroke=\"#000000\" d=\"M351.5,-68C351.5,-68 259.5,-68 259.5,-68 253.5,-68 247.5,-62 247.5,-56 247.5,-56 247.5,-12 247.5,-12 247.5,-6 253.5,0 259.5,0 259.5,0 351.5,0 351.5,0 357.5,0 363.5,-6 363.5,-12 363.5,-12 363.5,-56 363.5,-56 363.5,-62 357.5,-68 351.5,-68\"/>\n<text text-anchor=\"start\" x=\"267.5\" y=\"-52.8\" font-family=\"Helvetica,sans-Serif\" font-size=\"14.00\" fill=\"#000000\">gini = 0.483</text>\n<text text-anchor=\"start\" x=\"261.5\" y=\"-37.8\" font-family=\"Helvetica,sans-Serif\" font-size=\"14.00\" fill=\"#000000\">samples = 98</text>\n<text text-anchor=\"start\" x=\"255.5\" y=\"-22.8\" font-family=\"Helvetica,sans-Serif\" font-size=\"14.00\" fill=\"#000000\">value = [58, 40]</text>\n<text text-anchor=\"start\" x=\"276.5\" y=\"-7.8\" font-family=\"Helvetica,sans-Serif\" font-size=\"14.00\" fill=\"#000000\">class = 0</text>\n</g>\n<!-- 8&#45;&gt;9 -->\n<g id=\"edge9\" class=\"edge\">\n<title>8&#45;&gt;9</title>\n<path fill=\"none\" stroke=\"#000000\" d=\"M382.6993,-103.9815C372.2566,-94.5151 361.1667,-84.462 350.7472,-75.0168\"/>\n<polygon fill=\"#000000\" stroke=\"#000000\" points=\"353.0572,-72.3868 343.2976,-68.2637 348.3559,-77.5731 353.0572,-72.3868\"/>\n</g>\n<!-- 10 -->\n<g id=\"node11\" class=\"node\">\n<title>10</title>\n<path fill=\"#e99558\" stroke=\"#000000\" d=\"M477,-68C477,-68 394,-68 394,-68 388,-68 382,-62 382,-56 382,-56 382,-12 382,-12 382,-6 388,0 394,0 394,0 477,0 477,0 483,0 489,-6 489,-12 489,-12 489,-56 489,-56 489,-62 483,-68 477,-68\"/>\n<text text-anchor=\"start\" x=\"397.5\" y=\"-52.8\" font-family=\"Helvetica,sans-Serif\" font-size=\"14.00\" fill=\"#000000\">gini = 0.236</text>\n<text text-anchor=\"start\" x=\"391.5\" y=\"-37.8\" font-family=\"Helvetica,sans-Serif\" font-size=\"14.00\" fill=\"#000000\">samples = 22</text>\n<text text-anchor=\"start\" x=\"390\" y=\"-22.8\" font-family=\"Helvetica,sans-Serif\" font-size=\"14.00\" fill=\"#000000\">value = [19, 3]</text>\n<text text-anchor=\"start\" x=\"406.5\" y=\"-7.8\" font-family=\"Helvetica,sans-Serif\" font-size=\"14.00\" fill=\"#000000\">class = 0</text>\n</g>\n<!-- 8&#45;&gt;10 -->\n<g id=\"edge10\" class=\"edge\">\n<title>8&#45;&gt;10</title>\n<path fill=\"none\" stroke=\"#000000\" d=\"M431.1065,-103.9815C431.6316,-95.618 432.1854,-86.7965 432.7163,-78.3409\"/>\n<polygon fill=\"#000000\" stroke=\"#000000\" points=\"436.2154,-78.4634 433.3489,-68.2637 429.2291,-78.0247 436.2154,-78.4634\"/>\n</g>\n<!-- 12 -->\n<g id=\"node13\" class=\"node\">\n<title>12</title>\n<path fill=\"#f2c09c\" stroke=\"#000000\" d=\"M599.5,-68C599.5,-68 519.5,-68 519.5,-68 513.5,-68 507.5,-62 507.5,-56 507.5,-56 507.5,-12 507.5,-12 507.5,-6 513.5,0 519.5,0 519.5,0 599.5,0 599.5,0 605.5,0 611.5,-6 611.5,-12 611.5,-12 611.5,-56 611.5,-56 611.5,-62 605.5,-68 599.5,-68\"/>\n<text text-anchor=\"start\" x=\"521.5\" y=\"-52.8\" font-family=\"Helvetica,sans-Serif\" font-size=\"14.00\" fill=\"#000000\">gini = 0.444</text>\n<text text-anchor=\"start\" x=\"515.5\" y=\"-37.8\" font-family=\"Helvetica,sans-Serif\" font-size=\"14.00\" fill=\"#000000\">samples = 12</text>\n<text text-anchor=\"start\" x=\"518\" y=\"-22.8\" font-family=\"Helvetica,sans-Serif\" font-size=\"14.00\" fill=\"#000000\">value = [8, 4]</text>\n<text text-anchor=\"start\" x=\"530.5\" y=\"-7.8\" font-family=\"Helvetica,sans-Serif\" font-size=\"14.00\" fill=\"#000000\">class = 0</text>\n</g>\n<!-- 11&#45;&gt;12 -->\n<g id=\"edge12\" class=\"edge\">\n<title>11&#45;&gt;12</title>\n<path fill=\"none\" stroke=\"#000000\" d=\"M563.8935,-103.9815C563.3684,-95.618 562.8146,-86.7965 562.2837,-78.3409\"/>\n<polygon fill=\"#000000\" stroke=\"#000000\" points=\"565.7709,-78.0247 561.6511,-68.2637 558.7846,-78.4634 565.7709,-78.0247\"/>\n</g>\n<!-- 13 -->\n<g id=\"node14\" class=\"node\">\n<title>13</title>\n<path fill=\"#e89051\" stroke=\"#000000\" d=\"M741.5,-68C741.5,-68 641.5,-68 641.5,-68 635.5,-68 629.5,-62 629.5,-56 629.5,-56 629.5,-12 629.5,-12 629.5,-6 635.5,0 641.5,0 641.5,0 741.5,0 741.5,0 747.5,0 753.5,-6 753.5,-12 753.5,-12 753.5,-56 753.5,-56 753.5,-62 747.5,-68 741.5,-68\"/>\n<text text-anchor=\"start\" x=\"653.5\" y=\"-52.8\" font-family=\"Helvetica,sans-Serif\" font-size=\"14.00\" fill=\"#000000\">gini = 0.195</text>\n<text text-anchor=\"start\" x=\"643.5\" y=\"-37.8\" font-family=\"Helvetica,sans-Serif\" font-size=\"14.00\" fill=\"#000000\">samples = 421</text>\n<text text-anchor=\"start\" x=\"637.5\" y=\"-22.8\" font-family=\"Helvetica,sans-Serif\" font-size=\"14.00\" fill=\"#000000\">value = [375, 46]</text>\n<text text-anchor=\"start\" x=\"662.5\" y=\"-7.8\" font-family=\"Helvetica,sans-Serif\" font-size=\"14.00\" fill=\"#000000\">class = 0</text>\n</g>\n<!-- 11&#45;&gt;13 -->\n<g id=\"edge13\" class=\"edge\">\n<title>11&#45;&gt;13</title>\n<path fill=\"none\" stroke=\"#000000\" d=\"M613.0454,-103.9815C623.6579,-94.5151 634.9282,-84.462 645.5171,-75.0168\"/>\n<polygon fill=\"#000000\" stroke=\"#000000\" points=\"647.9551,-77.5322 653.0878,-68.2637 643.2954,-72.3084 647.9551,-77.5322\"/>\n</g>\n<!-- 15 -->\n<g id=\"node16\" class=\"node\">\n<title>15</title>\n<path fill=\"#44a2e6\" stroke=\"#000000\" d=\"M1044.5,-306C1044.5,-306 952.5,-306 952.5,-306 946.5,-306 940.5,-300 940.5,-294 940.5,-294 940.5,-235 940.5,-235 940.5,-229 946.5,-223 952.5,-223 952.5,-223 1044.5,-223 1044.5,-223 1050.5,-223 1056.5,-229 1056.5,-235 1056.5,-235 1056.5,-294 1056.5,-294 1056.5,-300 1050.5,-306 1044.5,-306\"/>\n<text text-anchor=\"start\" x=\"967.5\" y=\"-290.8\" font-family=\"Helvetica,sans-Serif\" font-size=\"14.00\" fill=\"#000000\">Age ≤ 2.5</text>\n<text text-anchor=\"start\" x=\"969\" y=\"-275.8\" font-family=\"Helvetica,sans-Serif\" font-size=\"14.00\" fill=\"#000000\">gini = 0.1</text>\n<text text-anchor=\"start\" x=\"950.5\" y=\"-260.8\" font-family=\"Helvetica,sans-Serif\" font-size=\"14.00\" fill=\"#000000\">samples = 170</text>\n<text text-anchor=\"start\" x=\"948.5\" y=\"-245.8\" font-family=\"Helvetica,sans-Serif\" font-size=\"14.00\" fill=\"#000000\">value = [9, 161]</text>\n<text text-anchor=\"start\" x=\"969.5\" y=\"-230.8\" font-family=\"Helvetica,sans-Serif\" font-size=\"14.00\" fill=\"#000000\">class = 1</text>\n</g>\n<!-- 14&#45;&gt;15 -->\n<g id=\"edge15\" class=\"edge\">\n<title>14&#45;&gt;15</title>\n<path fill=\"none\" stroke=\"#000000\" d=\"M998.5,-341.8796C998.5,-333.6838 998.5,-324.9891 998.5,-316.5013\"/>\n<polygon fill=\"#000000\" stroke=\"#000000\" points=\"1002.0001,-316.298 998.5,-306.2981 995.0001,-316.2981 1002.0001,-316.298\"/>\n</g>\n<!-- 22 -->\n<g id=\"node23\" class=\"node\">\n<title>22</title>\n<path fill=\"#ffffff\" stroke=\"#000000\" d=\"M1420.5,-306C1420.5,-306 1328.5,-306 1328.5,-306 1322.5,-306 1316.5,-300 1316.5,-294 1316.5,-294 1316.5,-235 1316.5,-235 1316.5,-229 1322.5,-223 1328.5,-223 1328.5,-223 1420.5,-223 1420.5,-223 1426.5,-223 1432.5,-229 1432.5,-235 1432.5,-235 1432.5,-294 1432.5,-294 1432.5,-300 1426.5,-306 1420.5,-306\"/>\n<text text-anchor=\"start\" x=\"1341.5\" y=\"-290.8\" font-family=\"Helvetica,sans-Serif\" font-size=\"14.00\" fill=\"#000000\">Fare ≤ 2.5</text>\n<text text-anchor=\"start\" x=\"1345\" y=\"-275.8\" font-family=\"Helvetica,sans-Serif\" font-size=\"14.00\" fill=\"#000000\">gini = 0.5</text>\n<text text-anchor=\"start\" x=\"1326.5\" y=\"-260.8\" font-family=\"Helvetica,sans-Serif\" font-size=\"14.00\" fill=\"#000000\">samples = 144</text>\n<text text-anchor=\"start\" x=\"1324.5\" y=\"-245.8\" font-family=\"Helvetica,sans-Serif\" font-size=\"14.00\" fill=\"#000000\">value = [72, 72]</text>\n<text text-anchor=\"start\" x=\"1345.5\" y=\"-230.8\" font-family=\"Helvetica,sans-Serif\" font-size=\"14.00\" fill=\"#000000\">class = 0</text>\n</g>\n<!-- 14&#45;&gt;22 -->\n<g id=\"edge22\" class=\"edge\">\n<title>14&#45;&gt;22</title>\n<path fill=\"none\" stroke=\"#000000\" d=\"M1060.5888,-363.8496C1128.4208,-342.3814 1236.7262,-308.1039 1306.7248,-285.9501\"/>\n<polygon fill=\"#000000\" stroke=\"#000000\" points=\"1307.8617,-289.2615 1316.3395,-282.9072 1305.7495,-282.5878 1307.8617,-289.2615\"/>\n</g>\n<!-- 16 -->\n<g id=\"node17\" class=\"node\">\n<title>16</title>\n<path fill=\"#ffffff\" stroke=\"#000000\" d=\"M973,-187C973,-187 898,-187 898,-187 892,-187 886,-181 886,-175 886,-175 886,-116 886,-116 886,-110 892,-104 898,-104 898,-104 973,-104 973,-104 979,-104 985,-110 985,-116 985,-116 985,-175 985,-175 985,-181 979,-187 973,-187\"/>\n<text text-anchor=\"start\" x=\"902.5\" y=\"-171.8\" font-family=\"Helvetica,sans-Serif\" font-size=\"14.00\" fill=\"#000000\">Fare ≤ 2.5</text>\n<text text-anchor=\"start\" x=\"906\" y=\"-156.8\" font-family=\"Helvetica,sans-Serif\" font-size=\"14.00\" fill=\"#000000\">gini = 0.5</text>\n<text text-anchor=\"start\" x=\"896\" y=\"-141.8\" font-family=\"Helvetica,sans-Serif\" font-size=\"14.00\" fill=\"#000000\">samples = 2</text>\n<text text-anchor=\"start\" x=\"894\" y=\"-126.8\" font-family=\"Helvetica,sans-Serif\" font-size=\"14.00\" fill=\"#000000\">value = [1, 1]</text>\n<text text-anchor=\"start\" x=\"906.5\" y=\"-111.8\" font-family=\"Helvetica,sans-Serif\" font-size=\"14.00\" fill=\"#000000\">class = 0</text>\n</g>\n<!-- 15&#45;&gt;16 -->\n<g id=\"edge16\" class=\"edge\">\n<title>15&#45;&gt;16</title>\n<path fill=\"none\" stroke=\"#000000\" d=\"M976.4657,-222.8796C971.936,-214.3236 967.1185,-205.2238 962.4382,-196.3833\"/>\n<polygon fill=\"#000000\" stroke=\"#000000\" points=\"965.4006,-194.4983 957.6284,-187.2981 959.2141,-197.7736 965.4006,-194.4983\"/>\n</g>\n<!-- 19 -->\n<g id=\"node20\" class=\"node\">\n<title>19</title>\n<path fill=\"#43a2e6\" stroke=\"#000000\" d=\"M1107.5,-187C1107.5,-187 1015.5,-187 1015.5,-187 1009.5,-187 1003.5,-181 1003.5,-175 1003.5,-175 1003.5,-116 1003.5,-116 1003.5,-110 1009.5,-104 1015.5,-104 1015.5,-104 1107.5,-104 1107.5,-104 1113.5,-104 1119.5,-110 1119.5,-116 1119.5,-116 1119.5,-175 1119.5,-175 1119.5,-181 1113.5,-187 1107.5,-187\"/>\n<text text-anchor=\"start\" x=\"1028.5\" y=\"-171.8\" font-family=\"Helvetica,sans-Serif\" font-size=\"14.00\" fill=\"#000000\">Fare ≤ 2.5</text>\n<text text-anchor=\"start\" x=\"1023.5\" y=\"-156.8\" font-family=\"Helvetica,sans-Serif\" font-size=\"14.00\" fill=\"#000000\">gini = 0.091</text>\n<text text-anchor=\"start\" x=\"1013.5\" y=\"-141.8\" font-family=\"Helvetica,sans-Serif\" font-size=\"14.00\" fill=\"#000000\">samples = 168</text>\n<text text-anchor=\"start\" x=\"1011.5\" y=\"-126.8\" font-family=\"Helvetica,sans-Serif\" font-size=\"14.00\" fill=\"#000000\">value = [8, 160]</text>\n<text text-anchor=\"start\" x=\"1032.5\" y=\"-111.8\" font-family=\"Helvetica,sans-Serif\" font-size=\"14.00\" fill=\"#000000\">class = 1</text>\n</g>\n<!-- 15&#45;&gt;19 -->\n<g id=\"edge19\" class=\"edge\">\n<title>15&#45;&gt;19</title>\n<path fill=\"none\" stroke=\"#000000\" d=\"M1020.5343,-222.8796C1025.064,-214.3236 1029.8815,-205.2238 1034.5618,-196.3833\"/>\n<polygon fill=\"#000000\" stroke=\"#000000\" points=\"1037.7859,-197.7736 1039.3716,-187.2981 1031.5994,-194.4983 1037.7859,-197.7736\"/>\n</g>\n<!-- 17 -->\n<g id=\"node18\" class=\"node\">\n<title>17</title>\n<path fill=\"#399de5\" stroke=\"#000000\" d=\"M859,-68C859,-68 784,-68 784,-68 778,-68 772,-62 772,-56 772,-56 772,-12 772,-12 772,-6 778,0 784,0 784,0 859,0 859,0 865,0 871,-6 871,-12 871,-12 871,-56 871,-56 871,-62 865,-68 859,-68\"/>\n<text text-anchor=\"start\" x=\"792\" y=\"-52.8\" font-family=\"Helvetica,sans-Serif\" font-size=\"14.00\" fill=\"#000000\">gini = 0.0</text>\n<text text-anchor=\"start\" x=\"782\" y=\"-37.8\" font-family=\"Helvetica,sans-Serif\" font-size=\"14.00\" fill=\"#000000\">samples = 1</text>\n<text text-anchor=\"start\" x=\"780\" y=\"-22.8\" font-family=\"Helvetica,sans-Serif\" font-size=\"14.00\" fill=\"#000000\">value = [0, 1]</text>\n<text text-anchor=\"start\" x=\"792.5\" y=\"-7.8\" font-family=\"Helvetica,sans-Serif\" font-size=\"14.00\" fill=\"#000000\">class = 1</text>\n</g>\n<!-- 16&#45;&gt;17 -->\n<g id=\"edge17\" class=\"edge\">\n<title>16&#45;&gt;17</title>\n<path fill=\"none\" stroke=\"#000000\" d=\"M893.0506,-103.9815C883.4659,-94.607 873.293,-84.6572 863.7179,-75.2921\"/>\n<polygon fill=\"#000000\" stroke=\"#000000\" points=\"866.1283,-72.7538 856.5319,-68.2637 861.2337,-77.7581 866.1283,-72.7538\"/>\n</g>\n<!-- 18 -->\n<g id=\"node19\" class=\"node\">\n<title>18</title>\n<path fill=\"#e58139\" stroke=\"#000000\" d=\"M976,-68C976,-68 901,-68 901,-68 895,-68 889,-62 889,-56 889,-56 889,-12 889,-12 889,-6 895,0 901,0 901,0 976,0 976,0 982,0 988,-6 988,-12 988,-12 988,-56 988,-56 988,-62 982,-68 976,-68\"/>\n<text text-anchor=\"start\" x=\"909\" y=\"-52.8\" font-family=\"Helvetica,sans-Serif\" font-size=\"14.00\" fill=\"#000000\">gini = 0.0</text>\n<text text-anchor=\"start\" x=\"899\" y=\"-37.8\" font-family=\"Helvetica,sans-Serif\" font-size=\"14.00\" fill=\"#000000\">samples = 1</text>\n<text text-anchor=\"start\" x=\"897\" y=\"-22.8\" font-family=\"Helvetica,sans-Serif\" font-size=\"14.00\" fill=\"#000000\">value = [1, 0]</text>\n<text text-anchor=\"start\" x=\"909.5\" y=\"-7.8\" font-family=\"Helvetica,sans-Serif\" font-size=\"14.00\" fill=\"#000000\">class = 0</text>\n</g>\n<!-- 16&#45;&gt;18 -->\n<g id=\"edge18\" class=\"edge\">\n<title>16&#45;&gt;18</title>\n<path fill=\"none\" stroke=\"#000000\" d=\"M936.6171,-103.9815C936.8421,-95.618 937.0795,-86.7965 937.307,-78.3409\"/>\n<polygon fill=\"#000000\" stroke=\"#000000\" points=\"940.8078,-78.3542 937.5781,-68.2637 933.8103,-78.1659 940.8078,-78.3542\"/>\n</g>\n<!-- 20 -->\n<g id=\"node21\" class=\"node\">\n<title>20</title>\n<path fill=\"#4ea7e8\" stroke=\"#000000\" d=\"M1101,-68C1101,-68 1018,-68 1018,-68 1012,-68 1006,-62 1006,-56 1006,-56 1006,-12 1006,-12 1006,-6 1012,0 1018,0 1018,0 1101,0 1101,0 1107,0 1113,-6 1113,-12 1113,-12 1113,-56 1113,-56 1113,-62 1107,-68 1101,-68\"/>\n<text text-anchor=\"start\" x=\"1021.5\" y=\"-52.8\" font-family=\"Helvetica,sans-Serif\" font-size=\"14.00\" fill=\"#000000\">gini = 0.171</text>\n<text text-anchor=\"start\" x=\"1015.5\" y=\"-37.8\" font-family=\"Helvetica,sans-Serif\" font-size=\"14.00\" fill=\"#000000\">samples = 74</text>\n<text text-anchor=\"start\" x=\"1014\" y=\"-22.8\" font-family=\"Helvetica,sans-Serif\" font-size=\"14.00\" fill=\"#000000\">value = [7, 67]</text>\n<text text-anchor=\"start\" x=\"1030.5\" y=\"-7.8\" font-family=\"Helvetica,sans-Serif\" font-size=\"14.00\" fill=\"#000000\">class = 1</text>\n</g>\n<!-- 19&#45;&gt;20 -->\n<g id=\"edge20\" class=\"edge\">\n<title>19&#45;&gt;20</title>\n<path fill=\"none\" stroke=\"#000000\" d=\"M1060.7553,-103.9815C1060.6053,-95.618 1060.447,-86.7965 1060.2954,-78.3409\"/>\n<polygon fill=\"#000000\" stroke=\"#000000\" points=\"1063.7935,-78.1993 1060.1146,-68.2637 1056.7946,-78.3249 1063.7935,-78.1993\"/>\n</g>\n<!-- 21 -->\n<g id=\"node22\" class=\"node\">\n<title>21</title>\n<path fill=\"#3b9ee5\" stroke=\"#000000\" d=\"M1226,-68C1226,-68 1143,-68 1143,-68 1137,-68 1131,-62 1131,-56 1131,-56 1131,-12 1131,-12 1131,-6 1137,0 1143,0 1143,0 1226,0 1226,0 1232,0 1238,-6 1238,-12 1238,-12 1238,-56 1238,-56 1238,-62 1232,-68 1226,-68\"/>\n<text text-anchor=\"start\" x=\"1146.5\" y=\"-52.8\" font-family=\"Helvetica,sans-Serif\" font-size=\"14.00\" fill=\"#000000\">gini = 0.021</text>\n<text text-anchor=\"start\" x=\"1140.5\" y=\"-37.8\" font-family=\"Helvetica,sans-Serif\" font-size=\"14.00\" fill=\"#000000\">samples = 94</text>\n<text text-anchor=\"start\" x=\"1139\" y=\"-22.8\" font-family=\"Helvetica,sans-Serif\" font-size=\"14.00\" fill=\"#000000\">value = [1, 93]</text>\n<text text-anchor=\"start\" x=\"1155.5\" y=\"-7.8\" font-family=\"Helvetica,sans-Serif\" font-size=\"14.00\" fill=\"#000000\">class = 1</text>\n</g>\n<!-- 19&#45;&gt;21 -->\n<g id=\"edge21\" class=\"edge\">\n<title>19&#45;&gt;21</title>\n<path fill=\"none\" stroke=\"#000000\" d=\"M1107.3007,-103.9815C1117.7434,-94.5151 1128.8333,-84.462 1139.2528,-75.0168\"/>\n<polygon fill=\"#000000\" stroke=\"#000000\" points=\"1141.6441,-77.5731 1146.7024,-68.2637 1136.9428,-72.3868 1141.6441,-77.5731\"/>\n</g>\n<!-- 23 -->\n<g id=\"node24\" class=\"node\">\n<title>23</title>\n<path fill=\"#ddeefb\" stroke=\"#000000\" d=\"M1420.5,-187C1420.5,-187 1328.5,-187 1328.5,-187 1322.5,-187 1316.5,-181 1316.5,-175 1316.5,-175 1316.5,-116 1316.5,-116 1316.5,-110 1322.5,-104 1328.5,-104 1328.5,-104 1420.5,-104 1420.5,-104 1426.5,-104 1432.5,-110 1432.5,-116 1432.5,-116 1432.5,-175 1432.5,-175 1432.5,-181 1426.5,-187 1420.5,-187\"/>\n<text text-anchor=\"start\" x=\"1339.5\" y=\"-171.8\" font-family=\"Helvetica,sans-Serif\" font-size=\"14.00\" fill=\"#000000\">Age ≤ 27.5</text>\n<text text-anchor=\"start\" x=\"1336.5\" y=\"-156.8\" font-family=\"Helvetica,sans-Serif\" font-size=\"14.00\" fill=\"#000000\">gini = 0.496</text>\n<text text-anchor=\"start\" x=\"1326.5\" y=\"-141.8\" font-family=\"Helvetica,sans-Serif\" font-size=\"14.00\" fill=\"#000000\">samples = 128</text>\n<text text-anchor=\"start\" x=\"1324.5\" y=\"-126.8\" font-family=\"Helvetica,sans-Serif\" font-size=\"14.00\" fill=\"#000000\">value = [58, 70]</text>\n<text text-anchor=\"start\" x=\"1345.5\" y=\"-111.8\" font-family=\"Helvetica,sans-Serif\" font-size=\"14.00\" fill=\"#000000\">class = 1</text>\n</g>\n<!-- 22&#45;&gt;23 -->\n<g id=\"edge23\" class=\"edge\">\n<title>22&#45;&gt;23</title>\n<path fill=\"none\" stroke=\"#000000\" d=\"M1374.5,-222.8796C1374.5,-214.6838 1374.5,-205.9891 1374.5,-197.5013\"/>\n<polygon fill=\"#000000\" stroke=\"#000000\" points=\"1378.0001,-197.298 1374.5,-187.2981 1371.0001,-197.2981 1378.0001,-197.298\"/>\n</g>\n<!-- 26 -->\n<g id=\"node27\" class=\"node\">\n<title>26</title>\n<path fill=\"#e99355\" stroke=\"#000000\" d=\"M1607,-187C1607,-187 1524,-187 1524,-187 1518,-187 1512,-181 1512,-175 1512,-175 1512,-116 1512,-116 1512,-110 1518,-104 1524,-104 1524,-104 1607,-104 1607,-104 1613,-104 1619,-110 1619,-116 1619,-116 1619,-175 1619,-175 1619,-181 1613,-187 1607,-187\"/>\n<text text-anchor=\"start\" x=\"1534.5\" y=\"-171.8\" font-family=\"Helvetica,sans-Serif\" font-size=\"14.00\" fill=\"#000000\">Age ≤ 5.5</text>\n<text text-anchor=\"start\" x=\"1527.5\" y=\"-156.8\" font-family=\"Helvetica,sans-Serif\" font-size=\"14.00\" fill=\"#000000\">gini = 0.219</text>\n<text text-anchor=\"start\" x=\"1521.5\" y=\"-141.8\" font-family=\"Helvetica,sans-Serif\" font-size=\"14.00\" fill=\"#000000\">samples = 16</text>\n<text text-anchor=\"start\" x=\"1520\" y=\"-126.8\" font-family=\"Helvetica,sans-Serif\" font-size=\"14.00\" fill=\"#000000\">value = [14, 2]</text>\n<text text-anchor=\"start\" x=\"1536.5\" y=\"-111.8\" font-family=\"Helvetica,sans-Serif\" font-size=\"14.00\" fill=\"#000000\">class = 0</text>\n</g>\n<!-- 22&#45;&gt;26 -->\n<g id=\"edge26\" class=\"edge\">\n<title>22&#45;&gt;26</title>\n<path fill=\"none\" stroke=\"#000000\" d=\"M1432.5842,-228.3114C1454.9677,-214.3657 1480.6085,-198.3905 1503.3602,-184.2154\"/>\n<polygon fill=\"#000000\" stroke=\"#000000\" points=\"1505.289,-187.1374 1511.9257,-178.8788 1501.5874,-181.1962 1505.289,-187.1374\"/>\n</g>\n<!-- 24 -->\n<g id=\"node25\" class=\"node\">\n<title>24</title>\n<path fill=\"#b9dcf6\" stroke=\"#000000\" d=\"M1360.5,-68C1360.5,-68 1268.5,-68 1268.5,-68 1262.5,-68 1256.5,-62 1256.5,-56 1256.5,-56 1256.5,-12 1256.5,-12 1256.5,-6 1262.5,0 1268.5,0 1268.5,0 1360.5,0 1360.5,0 1366.5,0 1372.5,-6 1372.5,-12 1372.5,-12 1372.5,-56 1372.5,-56 1372.5,-62 1366.5,-68 1360.5,-68\"/>\n<text text-anchor=\"start\" x=\"1276.5\" y=\"-52.8\" font-family=\"Helvetica,sans-Serif\" font-size=\"14.00\" fill=\"#000000\">gini = 0.477</text>\n<text text-anchor=\"start\" x=\"1266.5\" y=\"-37.8\" font-family=\"Helvetica,sans-Serif\" font-size=\"14.00\" fill=\"#000000\">samples = 102</text>\n<text text-anchor=\"start\" x=\"1264.5\" y=\"-22.8\" font-family=\"Helvetica,sans-Serif\" font-size=\"14.00\" fill=\"#000000\">value = [40, 62]</text>\n<text text-anchor=\"start\" x=\"1285.5\" y=\"-7.8\" font-family=\"Helvetica,sans-Serif\" font-size=\"14.00\" fill=\"#000000\">class = 1</text>\n</g>\n<!-- 23&#45;&gt;24 -->\n<g id=\"edge24\" class=\"edge\">\n<title>23&#45;&gt;24</title>\n<path fill=\"none\" stroke=\"#000000\" d=\"M1352.1582,-103.9815C1347.4598,-95.2504 1342.4929,-86.0202 1337.7617,-77.2281\"/>\n<polygon fill=\"#000000\" stroke=\"#000000\" points=\"1340.7586,-75.4111 1332.9379,-68.2637 1334.5944,-78.7282 1340.7586,-75.4111\"/>\n</g>\n<!-- 25 -->\n<g id=\"node26\" class=\"node\">\n<title>25</title>\n<path fill=\"#f1b991\" stroke=\"#000000\" d=\"M1486,-68C1486,-68 1403,-68 1403,-68 1397,-68 1391,-62 1391,-56 1391,-56 1391,-12 1391,-12 1391,-6 1397,0 1403,0 1403,0 1486,0 1486,0 1492,0 1498,-6 1498,-12 1498,-12 1498,-56 1498,-56 1498,-62 1492,-68 1486,-68\"/>\n<text text-anchor=\"start\" x=\"1406.5\" y=\"-52.8\" font-family=\"Helvetica,sans-Serif\" font-size=\"14.00\" fill=\"#000000\">gini = 0.426</text>\n<text text-anchor=\"start\" x=\"1400.5\" y=\"-37.8\" font-family=\"Helvetica,sans-Serif\" font-size=\"14.00\" fill=\"#000000\">samples = 26</text>\n<text text-anchor=\"start\" x=\"1399\" y=\"-22.8\" font-family=\"Helvetica,sans-Serif\" font-size=\"14.00\" fill=\"#000000\">value = [18, 8]</text>\n<text text-anchor=\"start\" x=\"1415.5\" y=\"-7.8\" font-family=\"Helvetica,sans-Serif\" font-size=\"14.00\" fill=\"#000000\">class = 0</text>\n</g>\n<!-- 23&#45;&gt;25 -->\n<g id=\"edge25\" class=\"edge\">\n<title>23&#45;&gt;25</title>\n<path fill=\"none\" stroke=\"#000000\" d=\"M1400.5654,-103.9815C1406.1045,-95.1585 1411.9636,-85.8258 1417.5355,-76.9506\"/>\n<polygon fill=\"#000000\" stroke=\"#000000\" points=\"1420.6363,-78.594 1422.9892,-68.2637 1414.7078,-74.872 1420.6363,-78.594\"/>\n</g>\n<!-- 27 -->\n<g id=\"node28\" class=\"node\">\n<title>27</title>\n<path fill=\"#ffffff\" stroke=\"#000000\" d=\"M1603,-68C1603,-68 1528,-68 1528,-68 1522,-68 1516,-62 1516,-56 1516,-56 1516,-12 1516,-12 1516,-6 1522,0 1528,0 1528,0 1603,0 1603,0 1609,0 1615,-6 1615,-12 1615,-12 1615,-56 1615,-56 1615,-62 1609,-68 1603,-68\"/>\n<text text-anchor=\"start\" x=\"1536\" y=\"-52.8\" font-family=\"Helvetica,sans-Serif\" font-size=\"14.00\" fill=\"#000000\">gini = 0.5</text>\n<text text-anchor=\"start\" x=\"1526\" y=\"-37.8\" font-family=\"Helvetica,sans-Serif\" font-size=\"14.00\" fill=\"#000000\">samples = 2</text>\n<text text-anchor=\"start\" x=\"1524\" y=\"-22.8\" font-family=\"Helvetica,sans-Serif\" font-size=\"14.00\" fill=\"#000000\">value = [1, 1]</text>\n<text text-anchor=\"start\" x=\"1536.5\" y=\"-7.8\" font-family=\"Helvetica,sans-Serif\" font-size=\"14.00\" fill=\"#000000\">class = 0</text>\n</g>\n<!-- 26&#45;&gt;27 -->\n<g id=\"edge27\" class=\"edge\">\n<title>26&#45;&gt;27</title>\n<path fill=\"none\" stroke=\"#000000\" d=\"M1565.5,-103.9815C1565.5,-95.618 1565.5,-86.7965 1565.5,-78.3409\"/>\n<polygon fill=\"#000000\" stroke=\"#000000\" points=\"1569.0001,-78.2636 1565.5,-68.2637 1562.0001,-78.2637 1569.0001,-78.2636\"/>\n</g>\n<!-- 28 -->\n<g id=\"node29\" class=\"node\">\n<title>28</title>\n<path fill=\"#e78b48\" stroke=\"#000000\" d=\"M1728,-68C1728,-68 1645,-68 1645,-68 1639,-68 1633,-62 1633,-56 1633,-56 1633,-12 1633,-12 1633,-6 1639,0 1645,0 1645,0 1728,0 1728,0 1734,0 1740,-6 1740,-12 1740,-12 1740,-56 1740,-56 1740,-62 1734,-68 1728,-68\"/>\n<text text-anchor=\"start\" x=\"1648.5\" y=\"-52.8\" font-family=\"Helvetica,sans-Serif\" font-size=\"14.00\" fill=\"#000000\">gini = 0.133</text>\n<text text-anchor=\"start\" x=\"1642.5\" y=\"-37.8\" font-family=\"Helvetica,sans-Serif\" font-size=\"14.00\" fill=\"#000000\">samples = 14</text>\n<text text-anchor=\"start\" x=\"1641\" y=\"-22.8\" font-family=\"Helvetica,sans-Serif\" font-size=\"14.00\" fill=\"#000000\">value = [13, 1]</text>\n<text text-anchor=\"start\" x=\"1657.5\" y=\"-7.8\" font-family=\"Helvetica,sans-Serif\" font-size=\"14.00\" fill=\"#000000\">class = 0</text>\n</g>\n<!-- 26&#45;&gt;28 -->\n<g id=\"edge28\" class=\"edge\">\n<title>26&#45;&gt;28</title>\n<path fill=\"none\" stroke=\"#000000\" d=\"M1610.5559,-103.9815C1620.7291,-94.607 1631.5267,-84.6572 1641.6898,-75.2921\"/>\n<polygon fill=\"#000000\" stroke=\"#000000\" points=\"1644.3349,-77.6141 1649.317,-68.2637 1639.5913,-72.4663 1644.3349,-77.6141\"/>\n</g>\n</g>\n</svg>\n"
          },
          "metadata": {
            "tags": []
          },
          "execution_count": 9
        }
      ]
    },
    {
      "cell_type": "markdown",
      "metadata": {
        "id": "sCPwhYnzQNkY",
        "colab_type": "text"
      },
      "source": [
        "### 4) Apply the five-fold cross validation of the decision tree learning algorithm to the Titanic training data to extract average classification accuracy."
      ]
    },
    {
      "cell_type": "code",
      "metadata": {
        "id": "bKh6hgRtnxDn",
        "colab_type": "code",
        "colab": {
          "base_uri": "https://localhost:8080/",
          "height": 35
        },
        "outputId": "6b0de669-a190-4366-93b9-08893f6d43a8"
      },
      "source": [
        "decision_tree = DecisionTreeClassifier()\n",
        "acc_scores = cross_val_score(decision_tree, X_train, y=Y_train, cv=5)\n",
        "acc_scores.mean()"
      ],
      "execution_count": 10,
      "outputs": [
        {
          "output_type": "execute_result",
          "data": {
            "text/plain": [
              "0.792436130814136"
            ]
          },
          "metadata": {
            "tags": []
          },
          "execution_count": 10
        }
      ]
    },
    {
      "cell_type": "markdown",
      "metadata": {
        "id": "75YTrdRGQNnA",
        "colab_type": "text"
      },
      "source": [
        "### 5) Apply the five-fold cross validation of the random forest learning algorithm to the Titanic training data to extract average classification accuracy."
      ]
    },
    {
      "cell_type": "code",
      "metadata": {
        "id": "5swZs7Pu2BQ5",
        "colab_type": "code",
        "colab": {
          "base_uri": "https://localhost:8080/",
          "height": 35
        },
        "outputId": "1b536329-0aca-44bd-9f62-a42f60db42f9"
      },
      "source": [
        "random_forest = RandomForestClassifier()\n",
        "acc_scores = cross_val_score(random_forest, X_train, y=Y_train, cv=5)\n",
        "acc_scores.mean()"
      ],
      "execution_count": 11,
      "outputs": [
        {
          "output_type": "execute_result",
          "data": {
            "text/plain": [
              "0.8014123407193523"
            ]
          },
          "metadata": {
            "tags": []
          },
          "execution_count": 11
        }
      ]
    },
    {
      "cell_type": "markdown",
      "metadata": {
        "id": "KCK_tOZV3gJv",
        "colab_type": "text"
      },
      "source": [
        "### 6) Which algorithm is better, Decision Tree or Random Forest?\n",
        "\n",
        "We see that the random forest learning algorithm had a higher average classification accuracy than the decision tree learning algorithm (0.801>0.792). However, comparing average classification accuracies of various algorithms is not always a robust determiner of learning performance. We would also need to analyze F1 scores and AUC scores for both models to be sure.\n",
        "\n",
        "From our readings, we know that the random forest algorithm is better than the decision tree algorithm, especially when it comes to overfitting. Our results in this run confirm this conclusion."
      ]
    },
    {
      "cell_type": "markdown",
      "metadata": {
        "id": "Hy_VBxcC3l7j",
        "colab_type": "text"
      },
      "source": [
        "### 7) What can you learn from the algorithm comparison and analysis?\n",
        "\n",
        "Generally, random forests are known to perform better than decision trees. They operate by creating multiple decision trees, thus decreasing variance and the risk of overfitting the training data. For time complexity, decision trees are better than random forests when training time needs to be reduced as the latter takes more time due to the need of training each tree inside of it."
      ]
    }
  ]
}