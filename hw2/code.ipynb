{
  "nbformat": 4,
  "nbformat_minor": 0,
  "metadata": {
    "colab": {
      "name": "code.ipynb",
      "provenance": [],
      "collapsed_sections": [],
      "authorship_tag": "ABX9TyMaoJcuqZ/SaUKzVWO0TUCs",
      "include_colab_link": true
    },
    "kernelspec": {
      "name": "python3",
      "display_name": "Python 3"
    }
  },
  "cells": [
    {
      "cell_type": "markdown",
      "metadata": {
        "id": "view-in-github",
        "colab_type": "text"
      },
      "source": [
        "<a href=\"https://colab.research.google.com/github/ayberkcorp/cap5610-machine_learning/blob/master/hw2/code.ipynb\" target=\"_parent\"><img src=\"https://colab.research.google.com/assets/colab-badge.svg\" alt=\"Open In Colab\"/></a>"
      ]
    },
    {
      "cell_type": "markdown",
      "metadata": {
        "id": "pbKnG1YdQNc3",
        "colab_type": "text"
      },
      "source": [
        "# Task 1\n",
        "\n",
        "## Imports/Reading Data"
      ]
    },
    {
      "cell_type": "code",
      "metadata": {
        "id": "mfpt837TQgWg",
        "colab_type": "code",
        "colab": {
          "base_uri": "https://localhost:8080/",
          "height": 72
        },
        "outputId": "bae0b537-eefd-477a-bb50-b7c2c66dd99d"
      },
      "source": [
        "# data analysis and wrangling\n",
        "import pandas as pd\n",
        "import numpy as np\n",
        "import random as rnd\n",
        "\n",
        "# visualization\n",
        "import seaborn as sns\n",
        "import graphviz\n",
        "import matplotlib.pyplot as plt\n",
        "%matplotlib inline\n",
        "\n",
        "# machine learning\n",
        "from sklearn.feature_selection import SelectKBest, chi2\n",
        "from sklearn.tree import DecisionTreeClassifier, export_graphviz\n",
        "from sklearn.model_selection import cross_val_score\n",
        "\n",
        "from sklearn.linear_model import LogisticRegression\n",
        "from sklearn.svm import SVC, LinearSVC\n",
        "from sklearn.ensemble import RandomForestClassifier\n",
        "from sklearn.neighbors import KNeighborsClassifier\n",
        "from sklearn.naive_bayes import GaussianNB\n",
        "from sklearn.linear_model import Perceptron, SGDClassifier\n",
        "\n",
        "train_df = pd.read_csv('https://raw.githubusercontent.com/ayberkcorp/cap5610-machine_learning/master/Titanic/train.csv')\n",
        "test_df = pd.read_csv('https://raw.githubusercontent.com/ayberkcorp/cap5610-machine_learning/master/Titanic/test.csv')\n",
        "combine = [train_df, test_df]"
      ],
      "execution_count": 1,
      "outputs": [
        {
          "output_type": "stream",
          "text": [
            "/usr/local/lib/python3.6/dist-packages/statsmodels/tools/_testing.py:19: FutureWarning: pandas.util.testing is deprecated. Use the functions in the public API at pandas.testing instead.\n",
            "  import pandas.util.testing as tm\n"
          ],
          "name": "stderr"
        }
      ]
    },
    {
      "cell_type": "markdown",
      "metadata": {
        "id": "vMKDscYJQM-G",
        "colab_type": "text"
      },
      "source": [
        "### 1) Preprocess your Titanic training data."
      ]
    },
    {
      "cell_type": "code",
      "metadata": {
        "id": "MP_T60pbmoY4",
        "colab_type": "code",
        "colab": {}
      },
      "source": [
        "train_df = train_df.drop(['PassengerId', 'Name', 'Ticket', 'Cabin'], axis=1)\n",
        "test_df = test_df.drop(['Name', 'Ticket', 'Cabin'], axis=1)\n",
        "combine = [train_df, test_df]\n",
        "\n",
        "for dataset in combine:\n",
        "    dataset['Sex'] = dataset['Sex'].map( {'female': 1, 'male': 0} ).astype(int)\n",
        "\n",
        "guess_ages = np.zeros((2,3))\n",
        "guess_ages\n",
        "\n",
        "for dataset in combine:\n",
        "    for i in range(0, 2):\n",
        "        for j in range(0, 3):\n",
        "            guess_df = dataset[(dataset['Sex'] == i) & \\\n",
        "                                  (dataset['Pclass'] == j+1)]['Age'].dropna()\n",
        "\n",
        "            age_mean = guess_df.mean()\n",
        "            age_std = guess_df.std()\n",
        "            age_guess = rnd.uniform(age_mean - age_std, age_mean + age_std)\n",
        "\n",
        "            # Convert random age float to nearest .5 age\n",
        "            guess_ages[i,j] = int( age_guess/0.5 + 0.5 ) * 0.5\n",
        "            \n",
        "    for i in range(0, 2):\n",
        "        for j in range(0, 3):\n",
        "            dataset.loc[ (dataset.Age.isnull()) & (dataset.Sex == i) & (dataset.Pclass == j+1),\\\n",
        "                    'Age'] = guess_ages[i,j]\n",
        "\n",
        "    dataset['Age'] = dataset['Age'].astype(int)\n",
        "\n",
        "freq_port = train_df.Embarked.dropna().mode()[0]\n",
        "train_df = train_df.fillna(freq_port)\n",
        "\n",
        "test_df['Fare'].fillna(test_df['Fare'].dropna().median(), inplace=True)\n",
        "\n",
        "combine = [train_df, test_df]\n",
        "\n",
        "for dataset in combine:\n",
        "    dataset.loc[ dataset['Fare'] <= 7.91, 'Fare'] = 0\n",
        "    dataset.loc[(dataset['Fare'] > 7.91) & (dataset['Fare'] <= 14.454), 'Fare'] = 1\n",
        "    dataset.loc[(dataset['Fare'] > 14.454) & (dataset['Fare'] <= 31), 'Fare']   = 2\n",
        "    dataset.loc[ dataset['Fare'] > 31, 'Fare'] = 3\n",
        "    dataset['Fare'] = dataset['Fare'].astype(int)\n",
        "\n",
        "for dataset in combine:\n",
        "    dataset['Embarked'] = dataset['Embarked'].map( {'S': 0, 'C': 1, 'Q': 2} ).astype(int)"
      ],
      "execution_count": 2,
      "outputs": []
    },
    {
      "cell_type": "code",
      "metadata": {
        "id": "bOLYELikeyGX",
        "colab_type": "code",
        "colab": {
          "base_uri": "https://localhost:8080/",
          "height": 200
        },
        "outputId": "f40925c7-4830-4e49-b109-3da352a76472"
      },
      "source": [
        "train_df.head()"
      ],
      "execution_count": 3,
      "outputs": [
        {
          "output_type": "execute_result",
          "data": {
            "text/html": [
              "<div>\n",
              "<style scoped>\n",
              "    .dataframe tbody tr th:only-of-type {\n",
              "        vertical-align: middle;\n",
              "    }\n",
              "\n",
              "    .dataframe tbody tr th {\n",
              "        vertical-align: top;\n",
              "    }\n",
              "\n",
              "    .dataframe thead th {\n",
              "        text-align: right;\n",
              "    }\n",
              "</style>\n",
              "<table border=\"1\" class=\"dataframe\">\n",
              "  <thead>\n",
              "    <tr style=\"text-align: right;\">\n",
              "      <th></th>\n",
              "      <th>Survived</th>\n",
              "      <th>Pclass</th>\n",
              "      <th>Sex</th>\n",
              "      <th>Age</th>\n",
              "      <th>SibSp</th>\n",
              "      <th>Parch</th>\n",
              "      <th>Fare</th>\n",
              "      <th>Embarked</th>\n",
              "    </tr>\n",
              "  </thead>\n",
              "  <tbody>\n",
              "    <tr>\n",
              "      <th>0</th>\n",
              "      <td>0</td>\n",
              "      <td>3</td>\n",
              "      <td>0</td>\n",
              "      <td>22</td>\n",
              "      <td>1</td>\n",
              "      <td>0</td>\n",
              "      <td>0</td>\n",
              "      <td>0</td>\n",
              "    </tr>\n",
              "    <tr>\n",
              "      <th>1</th>\n",
              "      <td>1</td>\n",
              "      <td>1</td>\n",
              "      <td>1</td>\n",
              "      <td>38</td>\n",
              "      <td>1</td>\n",
              "      <td>0</td>\n",
              "      <td>3</td>\n",
              "      <td>1</td>\n",
              "    </tr>\n",
              "    <tr>\n",
              "      <th>2</th>\n",
              "      <td>1</td>\n",
              "      <td>3</td>\n",
              "      <td>1</td>\n",
              "      <td>26</td>\n",
              "      <td>0</td>\n",
              "      <td>0</td>\n",
              "      <td>1</td>\n",
              "      <td>0</td>\n",
              "    </tr>\n",
              "    <tr>\n",
              "      <th>3</th>\n",
              "      <td>1</td>\n",
              "      <td>1</td>\n",
              "      <td>1</td>\n",
              "      <td>35</td>\n",
              "      <td>1</td>\n",
              "      <td>0</td>\n",
              "      <td>3</td>\n",
              "      <td>0</td>\n",
              "    </tr>\n",
              "    <tr>\n",
              "      <th>4</th>\n",
              "      <td>0</td>\n",
              "      <td>3</td>\n",
              "      <td>0</td>\n",
              "      <td>35</td>\n",
              "      <td>0</td>\n",
              "      <td>0</td>\n",
              "      <td>1</td>\n",
              "      <td>0</td>\n",
              "    </tr>\n",
              "  </tbody>\n",
              "</table>\n",
              "</div>"
            ],
            "text/plain": [
              "   Survived  Pclass  Sex  Age  SibSp  Parch  Fare  Embarked\n",
              "0         0       3    0   22      1      0     0         0\n",
              "1         1       1    1   38      1      0     3         1\n",
              "2         1       3    1   26      0      0     1         0\n",
              "3         1       1    1   35      1      0     3         0\n",
              "4         0       3    0   35      0      0     1         0"
            ]
          },
          "metadata": {
            "tags": []
          },
          "execution_count": 3
        }
      ]
    },
    {
      "cell_type": "code",
      "metadata": {
        "id": "gEAqF9-Ue0xI",
        "colab_type": "code",
        "colab": {
          "base_uri": "https://localhost:8080/",
          "height": 200
        },
        "outputId": "07c17ccb-71c6-4955-9b62-01aa4be01078"
      },
      "source": [
        "test_df.head()"
      ],
      "execution_count": 4,
      "outputs": [
        {
          "output_type": "execute_result",
          "data": {
            "text/html": [
              "<div>\n",
              "<style scoped>\n",
              "    .dataframe tbody tr th:only-of-type {\n",
              "        vertical-align: middle;\n",
              "    }\n",
              "\n",
              "    .dataframe tbody tr th {\n",
              "        vertical-align: top;\n",
              "    }\n",
              "\n",
              "    .dataframe thead th {\n",
              "        text-align: right;\n",
              "    }\n",
              "</style>\n",
              "<table border=\"1\" class=\"dataframe\">\n",
              "  <thead>\n",
              "    <tr style=\"text-align: right;\">\n",
              "      <th></th>\n",
              "      <th>PassengerId</th>\n",
              "      <th>Pclass</th>\n",
              "      <th>Sex</th>\n",
              "      <th>Age</th>\n",
              "      <th>SibSp</th>\n",
              "      <th>Parch</th>\n",
              "      <th>Fare</th>\n",
              "      <th>Embarked</th>\n",
              "    </tr>\n",
              "  </thead>\n",
              "  <tbody>\n",
              "    <tr>\n",
              "      <th>0</th>\n",
              "      <td>892</td>\n",
              "      <td>3</td>\n",
              "      <td>0</td>\n",
              "      <td>34</td>\n",
              "      <td>0</td>\n",
              "      <td>0</td>\n",
              "      <td>0</td>\n",
              "      <td>2</td>\n",
              "    </tr>\n",
              "    <tr>\n",
              "      <th>1</th>\n",
              "      <td>893</td>\n",
              "      <td>3</td>\n",
              "      <td>1</td>\n",
              "      <td>47</td>\n",
              "      <td>1</td>\n",
              "      <td>0</td>\n",
              "      <td>0</td>\n",
              "      <td>0</td>\n",
              "    </tr>\n",
              "    <tr>\n",
              "      <th>2</th>\n",
              "      <td>894</td>\n",
              "      <td>2</td>\n",
              "      <td>0</td>\n",
              "      <td>62</td>\n",
              "      <td>0</td>\n",
              "      <td>0</td>\n",
              "      <td>1</td>\n",
              "      <td>2</td>\n",
              "    </tr>\n",
              "    <tr>\n",
              "      <th>3</th>\n",
              "      <td>895</td>\n",
              "      <td>3</td>\n",
              "      <td>0</td>\n",
              "      <td>27</td>\n",
              "      <td>0</td>\n",
              "      <td>0</td>\n",
              "      <td>1</td>\n",
              "      <td>0</td>\n",
              "    </tr>\n",
              "    <tr>\n",
              "      <th>4</th>\n",
              "      <td>896</td>\n",
              "      <td>3</td>\n",
              "      <td>1</td>\n",
              "      <td>22</td>\n",
              "      <td>1</td>\n",
              "      <td>1</td>\n",
              "      <td>1</td>\n",
              "      <td>0</td>\n",
              "    </tr>\n",
              "  </tbody>\n",
              "</table>\n",
              "</div>"
            ],
            "text/plain": [
              "   PassengerId  Pclass  Sex  Age  SibSp  Parch  Fare  Embarked\n",
              "0          892       3    0   34      0      0     0         2\n",
              "1          893       3    1   47      1      0     0         0\n",
              "2          894       2    0   62      0      0     1         2\n",
              "3          895       3    0   27      0      0     1         0\n",
              "4          896       3    1   22      1      1     1         0"
            ]
          },
          "metadata": {
            "tags": []
          },
          "execution_count": 4
        }
      ]
    },
    {
      "cell_type": "markdown",
      "metadata": {
        "id": "_9cG2T4AQNfL",
        "colab_type": "text"
      },
      "source": [
        "### 2) Select a set of important features. Please show your selected features and explain how you perform feature selection.\n",
        "\n",
        "We have already dropped PassengerId and Name since these are just identifiers. Ticket and Cabin were also dropped earlier with respect to Q14 and Q15 on hw1. Here is the correlation matrix of the remaining 8 features."
      ]
    },
    {
      "cell_type": "code",
      "metadata": {
        "id": "eVrVVm_6h1IT",
        "colab_type": "code",
        "colab": {
          "base_uri": "https://localhost:8080/",
          "height": 330
        },
        "outputId": "4112e90b-5b2b-47fa-fdc5-e3f68b6b1d63"
      },
      "source": [
        "n = 8\n",
        "corrMatrix = train_df.corr()\n",
        "columns = corrMatrix.nlargest(n, 'Survived')['Survived'].index\n",
        "c = np.corrcoef(train_df[columns].values.T)\n",
        "sns.set(font_scale=1.2)\n",
        "h = sns.heatmap(c, cbar=True, annot=True, annot_kws={'size':9}, fmt='.2f', yticklabels=columns.values, xticklabels=columns.values)\n",
        "plt.show()"
      ],
      "execution_count": 5,
      "outputs": [
        {
          "output_type": "display_data",
          "data": {
            "image/png": "[encoded data removed]",
            "text/plain": [
              "<Figure size 432x288 with 2 Axes>"
            ]
          },
          "metadata": {
            "tags": []
          }
        }
      ]
    },
    {
      "cell_type": "markdown",
      "metadata": {
        "id": "5WNDYu6D6HrP",
        "colab_type": "text"
      },
      "source": [
        "Survived will now be dropped because it is what we are trying to predict."
      ]
    },
    {
      "cell_type": "code",
      "metadata": {
        "id": "mAB3ZqPj7CQ4",
        "colab_type": "code",
        "colab": {
          "base_uri": "https://localhost:8080/",
          "height": 35
        },
        "outputId": "0ee107b4-1f38-4788-b717-d97640603267"
      },
      "source": [
        "X_train = train_df.drop(\"Survived\", axis=1)\n",
        "Y_train = train_df[\"Survived\"]\n",
        "X_test  = test_df.drop(\"PassengerId\", axis=1).copy()\n",
        "X_train.shape, Y_train.shape, X_test.shape"
      ],
      "execution_count": 6,
      "outputs": [
        {
          "output_type": "execute_result",
          "data": {
            "text/plain": [
              "((891, 7), (891,), (418, 7))"
            ]
          },
          "metadata": {
            "tags": []
          },
          "execution_count": 6
        }
      ]
    },
    {
      "cell_type": "markdown",
      "metadata": {
        "id": "c8erIQ7v8fgy",
        "colab_type": "text"
      },
      "source": [
        "Now we will use SelectKBest for feature selection."
      ]
    },
    {
      "cell_type": "code",
      "metadata": {
        "id": "6Z8bQ2i6848G",
        "colab_type": "code",
        "colab": {
          "base_uri": "https://localhost:8080/",
          "height": 235
        },
        "outputId": "9a2dc95c-7d6b-47cf-f857-2acdeba20697"
      },
      "source": [
        "SKB = SelectKBest(score_func=chi2, k=4)\n",
        "fit = SKB.fit(X_train, Y_train)\n",
        "print(fit.scores_)\n",
        "X_train.head()"
      ],
      "execution_count": 7,
      "outputs": [
        {
          "output_type": "stream",
          "text": [
            "[ 30.87369944 170.34812709   7.29578698   2.58186538  10.09749911\n",
            "  64.72249278  11.35311684]\n"
          ],
          "name": "stdout"
        },
        {
          "output_type": "execute_result",
          "data": {
            "text/html": [
              "<div>\n",
              "<style scoped>\n",
              "    .dataframe tbody tr th:only-of-type {\n",
              "        vertical-align: middle;\n",
              "    }\n",
              "\n",
              "    .dataframe tbody tr th {\n",
              "        vertical-align: top;\n",
              "    }\n",
              "\n",
              "    .dataframe thead th {\n",
              "        text-align: right;\n",
              "    }\n",
              "</style>\n",
              "<table border=\"1\" class=\"dataframe\">\n",
              "  <thead>\n",
              "    <tr style=\"text-align: right;\">\n",
              "      <th></th>\n",
              "      <th>Pclass</th>\n",
              "      <th>Sex</th>\n",
              "      <th>Age</th>\n",
              "      <th>SibSp</th>\n",
              "      <th>Parch</th>\n",
              "      <th>Fare</th>\n",
              "      <th>Embarked</th>\n",
              "    </tr>\n",
              "  </thead>\n",
              "  <tbody>\n",
              "    <tr>\n",
              "      <th>0</th>\n",
              "      <td>3</td>\n",
              "      <td>0</td>\n",
              "      <td>22</td>\n",
              "      <td>1</td>\n",
              "      <td>0</td>\n",
              "      <td>0</td>\n",
              "      <td>0</td>\n",
              "    </tr>\n",
              "    <tr>\n",
              "      <th>1</th>\n",
              "      <td>1</td>\n",
              "      <td>1</td>\n",
              "      <td>38</td>\n",
              "      <td>1</td>\n",
              "      <td>0</td>\n",
              "      <td>3</td>\n",
              "      <td>1</td>\n",
              "    </tr>\n",
              "    <tr>\n",
              "      <th>2</th>\n",
              "      <td>3</td>\n",
              "      <td>1</td>\n",
              "      <td>26</td>\n",
              "      <td>0</td>\n",
              "      <td>0</td>\n",
              "      <td>1</td>\n",
              "      <td>0</td>\n",
              "    </tr>\n",
              "    <tr>\n",
              "      <th>3</th>\n",
              "      <td>1</td>\n",
              "      <td>1</td>\n",
              "      <td>35</td>\n",
              "      <td>1</td>\n",
              "      <td>0</td>\n",
              "      <td>3</td>\n",
              "      <td>0</td>\n",
              "    </tr>\n",
              "    <tr>\n",
              "      <th>4</th>\n",
              "      <td>3</td>\n",
              "      <td>0</td>\n",
              "      <td>35</td>\n",
              "      <td>0</td>\n",
              "      <td>0</td>\n",
              "      <td>1</td>\n",
              "      <td>0</td>\n",
              "    </tr>\n",
              "  </tbody>\n",
              "</table>\n",
              "</div>"
            ],
            "text/plain": [
              "   Pclass  Sex  Age  SibSp  Parch  Fare  Embarked\n",
              "0       3    0   22      1      0     0         0\n",
              "1       1    1   38      1      0     3         1\n",
              "2       3    1   26      0      0     1         0\n",
              "3       1    1   35      1      0     3         0\n",
              "4       3    0   35      0      0     1         0"
            ]
          },
          "metadata": {
            "tags": []
          },
          "execution_count": 7
        }
      ]
    },
    {
      "cell_type": "markdown",
      "metadata": {
        "id": "7GP9okbgS2_Q",
        "colab_type": "text"
      },
      "source": [
        "As we can see, Pclass, Sex, Age, and Fare have the highest score. So we now drop the other 3 features."
      ]
    },
    {
      "cell_type": "code",
      "metadata": {
        "id": "Fejd3189TDfC",
        "colab_type": "code",
        "colab": {
          "base_uri": "https://localhost:8080/",
          "height": 35
        },
        "outputId": "75b242a8-73b2-4ad3-a6b1-24628e9dfa3c"
      },
      "source": [
        "X_train = X_train.drop([\"SibSp\", \"Parch\", \"Embarked\"], axis=1)\n",
        "X_test = X_test.drop([\"SibSp\", \"Parch\", \"Embarked\"], axis=1)\n",
        "X_train.shape, X_test.shape"
      ],
      "execution_count": 8,
      "outputs": [
        {
          "output_type": "execute_result",
          "data": {
            "text/plain": [
              "((891, 4), (418, 4))"
            ]
          },
          "metadata": {
            "tags": []
          },
          "execution_count": 8
        }
      ]
    },
    {
      "cell_type": "markdown",
      "metadata": {
        "id": "PH9PK3yWQNhs",
        "colab_type": "text"
      },
      "source": [
        "### 3) Learn a decision tree model with the Titanic training data using Gini index, plot your decision tree."
      ]
    },
    {
      "cell_type": "code",
      "metadata": {
        "id": "Hu4jvUimbwzS",
        "colab_type": "code",
        "colab": {
          "base_uri": "https://localhost:8080/",
          "height": 777
        },
        "outputId": "888539c2-addc-4b30-bc95-0c454421fc23"
      },
      "source": [
        "decision_tree = DecisionTreeClassifier(criterion='gini', max_depth=4)\n",
        "decision_tree.fit(X_train, Y_train)\n",
        "\n",
        "data = export_graphviz(decision_tree, out_file=None,\n",
        "                       feature_names=X_train.columns.values,\n",
        "                       class_names=['0', '1'], filled=True,\n",
        "                       rounded=True, special_characters=True)\n",
        "\n",
        "graph = graphviz.Source(data, format=\"png\")\n",
        "graph"
      ],
      "execution_count": 9,
      "outputs": [
        {
          "output_type": "execute_result",
          "data": {
            "text/plain": [
              "<graphviz.files.Source at 0x7efdc810ef98>"
            ],
            "image/svg+xml": "<?xml version=\"1.0\" encoding=\"UTF-8\" standalone=\"no\"?>\n<!DOCTYPE svg PUBLIC \"-//W3C//DTD SVG 1.1//EN\"\n \"http://www.w3.org/Graphics/SVG/1.1/DTD/svg11.dtd\">\n<!-- Generated by graphviz version 2.40.1 (20161225.0304)\n -->\n<!-- Title: Tree Pages: 1 -->\n<svg width=\"1748pt\" height=\"552pt\"\n viewBox=\"0.00 0.00 1748.00 552.00\" xmlns=\"http://www.w3.org/2000/svg\" xmlns:xlink=\"http://www.w3.org/1999/xlink\">\n<g id=\"graph0\" class=\"graph\" transform=\"scale(1 1) rotate(0) translate(4 548)\">\n<title>Tree</title>\n<polygon fill=\"#ffffff\" stroke=\"transparent\" points=\"-4,4 -4,-548 1744,-548 1744,4 -4,4\"/>\n<!-- 0 -->\n<g id=\"node1\" class=\"node\">\n<title>0</title>\n<path fill=\"#f5cfb4\" stroke=\"#000000\" d=\"M808.5,-544C808.5,-544 700.5,-544 700.5,-544 694.5,-544 688.5,-538 688.5,-532 688.5,-532 688.5,-473 688.5,-473 688.5,-467 694.5,-461 700.5,-461 700.5,-461 808.5,-461 808.5,-461 814.5,-461 820.5,-467 820.5,-473 820.5,-473 820.5,-532 820.5,-532 820.5,-538 814.5,-544 808.5,-544\"/>\n<text text-anchor=\"start\" x=\"724\" y=\"-528.8\" font-family=\"Helvetica,sans-Serif\" font-size=\"14.00\" fill=\"#000000\">Sex ≤ 0.5</text>\n<text text-anchor=\"start\" x=\"716.5\" y=\"-513.8\" font-family=\"Helvetica,sans-Serif\" font-size=\"14.00\" fill=\"#000000\">gini = 0.473</text>\n<text text-anchor=\"start\" x=\"706.5\" y=\"-498.8\" font-family=\"Helvetica,sans-Serif\" font-size=\"14.00\" fill=\"#000000\">samples = 891</text>\n<text text-anchor=\"start\" x=\"696.5\" y=\"-483.8\" font-family=\"Helvetica,sans-Serif\" font-size=\"14.00\" fill=\"#000000\">value = [549, 342]</text>\n<text text-anchor=\"start\" x=\"725.5\" y=\"-468.8\" font-family=\"Helvetica,sans-Serif\" font-size=\"14.00\" fill=\"#000000\">class = 0</text>\n</g>\n<!-- 1 -->\n<g id=\"node2\" class=\"node\">\n<title>1</title>\n<path fill=\"#eb9e67\" stroke=\"#000000\" d=\"M557.5,-425C557.5,-425 449.5,-425 449.5,-425 443.5,-425 437.5,-419 437.5,-413 437.5,-413 437.5,-354 437.5,-354 437.5,-348 443.5,-342 449.5,-342 449.5,-342 557.5,-342 557.5,-342 563.5,-342 569.5,-348 569.5,-354 569.5,-354 569.5,-413 569.5,-413 569.5,-419 563.5,-425 557.5,-425\"/>\n<text text-anchor=\"start\" x=\"472.5\" y=\"-409.8\" font-family=\"Helvetica,sans-Serif\" font-size=\"14.00\" fill=\"#000000\">Age ≤ 6.5</text>\n<text text-anchor=\"start\" x=\"465.5\" y=\"-394.8\" font-family=\"Helvetica,sans-Serif\" font-size=\"14.00\" fill=\"#000000\">gini = 0.306</text>\n<text text-anchor=\"start\" x=\"455.5\" y=\"-379.8\" font-family=\"Helvetica,sans-Serif\" font-size=\"14.00\" fill=\"#000000\">samples = 577</text>\n<text text-anchor=\"start\" x=\"445.5\" y=\"-364.8\" font-family=\"Helvetica,sans-Serif\" font-size=\"14.00\" fill=\"#000000\">value = [468, 109]</text>\n<text text-anchor=\"start\" x=\"474.5\" y=\"-349.8\" font-family=\"Helvetica,sans-Serif\" font-size=\"14.00\" fill=\"#000000\">class = 0</text>\n</g>\n<!-- 0&#45;&gt;1 -->\n<g id=\"edge1\" class=\"edge\">\n<title>0&#45;&gt;1</title>\n<path fill=\"none\" stroke=\"#000000\" d=\"M688.2244,-471.0785C654.6258,-455.1493 613.6791,-435.7363 578.8828,-419.2393\"/>\n<polygon fill=\"#000000\" stroke=\"#000000\" points=\"580.2468,-416.0125 569.7115,-414.8911 577.248,-422.3377 580.2468,-416.0125\"/>\n<text text-anchor=\"middle\" x=\"578.1118\" y=\"-434.7375\" font-family=\"Helvetica,sans-Serif\" font-size=\"14.00\" fill=\"#000000\">True</text>\n</g>\n<!-- 14 -->\n<g id=\"node15\" class=\"node\">\n<title>14</title>\n<path fill=\"#7ebfee\" stroke=\"#000000\" d=\"M1056.5,-425C1056.5,-425 956.5,-425 956.5,-425 950.5,-425 944.5,-419 944.5,-413 944.5,-413 944.5,-354 944.5,-354 944.5,-348 950.5,-342 956.5,-342 956.5,-342 1056.5,-342 1056.5,-342 1062.5,-342 1068.5,-348 1068.5,-354 1068.5,-354 1068.5,-413 1068.5,-413 1068.5,-419 1062.5,-425 1056.5,-425\"/>\n<text text-anchor=\"start\" x=\"967\" y=\"-409.8\" font-family=\"Helvetica,sans-Serif\" font-size=\"14.00\" fill=\"#000000\">Pclass ≤ 2.5</text>\n<text text-anchor=\"start\" x=\"968.5\" y=\"-394.8\" font-family=\"Helvetica,sans-Serif\" font-size=\"14.00\" fill=\"#000000\">gini = 0.383</text>\n<text text-anchor=\"start\" x=\"958.5\" y=\"-379.8\" font-family=\"Helvetica,sans-Serif\" font-size=\"14.00\" fill=\"#000000\">samples = 314</text>\n<text text-anchor=\"start\" x=\"952.5\" y=\"-364.8\" font-family=\"Helvetica,sans-Serif\" font-size=\"14.00\" fill=\"#000000\">value = [81, 233]</text>\n<text text-anchor=\"start\" x=\"977.5\" y=\"-349.8\" font-family=\"Helvetica,sans-Serif\" font-size=\"14.00\" fill=\"#000000\">class = 1</text>\n</g>\n<!-- 0&#45;&gt;14 -->\n<g id=\"edge14\" class=\"edge\">\n<title>0&#45;&gt;14</title>\n<path fill=\"none\" stroke=\"#000000\" d=\"M820.71,-471.2342C855.7825,-454.6722 898.9009,-434.3107 934.7672,-417.3738\"/>\n<polygon fill=\"#000000\" stroke=\"#000000\" points=\"936.6498,-420.3555 944.1977,-412.9205 933.6607,-414.0258 936.6498,-420.3555\"/>\n<text text-anchor=\"middle\" x=\"935.7612\" y=\"-432.754\" font-family=\"Helvetica,sans-Serif\" font-size=\"14.00\" fill=\"#000000\">False</text>\n</g>\n<!-- 2 -->\n<g id=\"node3\" class=\"node\">\n<title>2</title>\n<path fill=\"#9ccef2\" stroke=\"#000000\" d=\"M219,-306C219,-306 136,-306 136,-306 130,-306 124,-300 124,-294 124,-294 124,-235 124,-235 124,-229 130,-223 136,-223 136,-223 219,-223 219,-223 225,-223 231,-229 231,-235 231,-235 231,-294 231,-294 231,-300 225,-306 219,-306\"/>\n<text text-anchor=\"start\" x=\"138\" y=\"-290.8\" font-family=\"Helvetica,sans-Serif\" font-size=\"14.00\" fill=\"#000000\">Pclass ≤ 2.5</text>\n<text text-anchor=\"start\" x=\"139.5\" y=\"-275.8\" font-family=\"Helvetica,sans-Serif\" font-size=\"14.00\" fill=\"#000000\">gini = 0.444</text>\n<text text-anchor=\"start\" x=\"133.5\" y=\"-260.8\" font-family=\"Helvetica,sans-Serif\" font-size=\"14.00\" fill=\"#000000\">samples = 24</text>\n<text text-anchor=\"start\" x=\"132\" y=\"-245.8\" font-family=\"Helvetica,sans-Serif\" font-size=\"14.00\" fill=\"#000000\">value = [8, 16]</text>\n<text text-anchor=\"start\" x=\"148.5\" y=\"-230.8\" font-family=\"Helvetica,sans-Serif\" font-size=\"14.00\" fill=\"#000000\">class = 1</text>\n</g>\n<!-- 1&#45;&gt;2 -->\n<g id=\"edge2\" class=\"edge\">\n<title>1&#45;&gt;2</title>\n<path fill=\"none\" stroke=\"#000000\" d=\"M437.1361,-359.2751C379.6766,-338.3007 297.1427,-308.1732 240.6455,-287.55\"/>\n<polygon fill=\"#000000\" stroke=\"#000000\" points=\"241.7054,-284.2111 231.1115,-284.0698 239.305,-290.7867 241.7054,-284.2111\"/>\n</g>\n<!-- 7 -->\n<g id=\"node8\" class=\"node\">\n<title>7</title>\n<path fill=\"#ea9a61\" stroke=\"#000000\" d=\"M553.5,-306C553.5,-306 453.5,-306 453.5,-306 447.5,-306 441.5,-300 441.5,-294 441.5,-294 441.5,-235 441.5,-235 441.5,-229 447.5,-223 453.5,-223 453.5,-223 553.5,-223 553.5,-223 559.5,-223 565.5,-229 565.5,-235 565.5,-235 565.5,-294 565.5,-294 565.5,-300 559.5,-306 553.5,-306\"/>\n<text text-anchor=\"start\" x=\"464\" y=\"-290.8\" font-family=\"Helvetica,sans-Serif\" font-size=\"14.00\" fill=\"#000000\">Pclass ≤ 1.5</text>\n<text text-anchor=\"start\" x=\"470\" y=\"-275.8\" font-family=\"Helvetica,sans-Serif\" font-size=\"14.00\" fill=\"#000000\">gini = 0.28</text>\n<text text-anchor=\"start\" x=\"455.5\" y=\"-260.8\" font-family=\"Helvetica,sans-Serif\" font-size=\"14.00\" fill=\"#000000\">samples = 553</text>\n<text text-anchor=\"start\" x=\"449.5\" y=\"-245.8\" font-family=\"Helvetica,sans-Serif\" font-size=\"14.00\" fill=\"#000000\">value = [460, 93]</text>\n<text text-anchor=\"start\" x=\"474.5\" y=\"-230.8\" font-family=\"Helvetica,sans-Serif\" font-size=\"14.00\" fill=\"#000000\">class = 0</text>\n</g>\n<!-- 1&#45;&gt;7 -->\n<g id=\"edge7\" class=\"edge\">\n<title>1&#45;&gt;7</title>\n<path fill=\"none\" stroke=\"#000000\" d=\"M503.5,-341.8796C503.5,-333.6838 503.5,-324.9891 503.5,-316.5013\"/>\n<polygon fill=\"#000000\" stroke=\"#000000\" points=\"507.0001,-316.298 503.5,-306.2981 500.0001,-316.2981 507.0001,-316.298\"/>\n</g>\n<!-- 3 -->\n<g id=\"node4\" class=\"node\">\n<title>3</title>\n<path fill=\"#399de5\" stroke=\"#000000\" d=\"M95,-179.5C95,-179.5 12,-179.5 12,-179.5 6,-179.5 0,-173.5 0,-167.5 0,-167.5 0,-123.5 0,-123.5 0,-117.5 6,-111.5 12,-111.5 12,-111.5 95,-111.5 95,-111.5 101,-111.5 107,-117.5 107,-123.5 107,-123.5 107,-167.5 107,-167.5 107,-173.5 101,-179.5 95,-179.5\"/>\n<text text-anchor=\"start\" x=\"24\" y=\"-164.3\" font-family=\"Helvetica,sans-Serif\" font-size=\"14.00\" fill=\"#000000\">gini = 0.0</text>\n<text text-anchor=\"start\" x=\"9.5\" y=\"-149.3\" font-family=\"Helvetica,sans-Serif\" font-size=\"14.00\" fill=\"#000000\">samples = 10</text>\n<text text-anchor=\"start\" x=\"8\" y=\"-134.3\" font-family=\"Helvetica,sans-Serif\" font-size=\"14.00\" fill=\"#000000\">value = [0, 10]</text>\n<text text-anchor=\"start\" x=\"24.5\" y=\"-119.3\" font-family=\"Helvetica,sans-Serif\" font-size=\"14.00\" fill=\"#000000\">class = 1</text>\n</g>\n<!-- 2&#45;&gt;3 -->\n<g id=\"edge3\" class=\"edge\">\n<title>2&#45;&gt;3</title>\n<path fill=\"none\" stroke=\"#000000\" d=\"M134.1308,-222.8796C121.9852,-211.2237 108.7881,-198.5587 96.6549,-186.9148\"/>\n<polygon fill=\"#000000\" stroke=\"#000000\" points=\"98.8953,-184.2138 89.2567,-179.8149 94.0484,-189.2643 98.8953,-184.2138\"/>\n</g>\n<!-- 4 -->\n<g id=\"node5\" class=\"node\">\n<title>4</title>\n<path fill=\"#f8e0ce\" stroke=\"#000000\" d=\"M217.5,-187C217.5,-187 137.5,-187 137.5,-187 131.5,-187 125.5,-181 125.5,-175 125.5,-175 125.5,-116 125.5,-116 125.5,-110 131.5,-104 137.5,-104 137.5,-104 217.5,-104 217.5,-104 223.5,-104 229.5,-110 229.5,-116 229.5,-116 229.5,-175 229.5,-175 229.5,-181 223.5,-187 217.5,-187\"/>\n<text text-anchor=\"start\" x=\"144.5\" y=\"-171.8\" font-family=\"Helvetica,sans-Serif\" font-size=\"14.00\" fill=\"#000000\">Fare ≤ 1.5</text>\n<text text-anchor=\"start\" x=\"144\" y=\"-156.8\" font-family=\"Helvetica,sans-Serif\" font-size=\"14.00\" fill=\"#000000\">gini = 0.49</text>\n<text text-anchor=\"start\" x=\"133.5\" y=\"-141.8\" font-family=\"Helvetica,sans-Serif\" font-size=\"14.00\" fill=\"#000000\">samples = 14</text>\n<text text-anchor=\"start\" x=\"136\" y=\"-126.8\" font-family=\"Helvetica,sans-Serif\" font-size=\"14.00\" fill=\"#000000\">value = [8, 6]</text>\n<text text-anchor=\"start\" x=\"148.5\" y=\"-111.8\" font-family=\"Helvetica,sans-Serif\" font-size=\"14.00\" fill=\"#000000\">class = 0</text>\n</g>\n<!-- 2&#45;&gt;4 -->\n<g id=\"edge4\" class=\"edge\">\n<title>2&#45;&gt;4</title>\n<path fill=\"none\" stroke=\"#000000\" d=\"M177.5,-222.8796C177.5,-214.6838 177.5,-205.9891 177.5,-197.5013\"/>\n<polygon fill=\"#000000\" stroke=\"#000000\" points=\"181.0001,-197.298 177.5,-187.2981 174.0001,-197.2981 181.0001,-197.298\"/>\n</g>\n<!-- 5 -->\n<g id=\"node6\" class=\"node\">\n<title>5</title>\n<path fill=\"#399de5\" stroke=\"#000000\" d=\"M95,-68C95,-68 20,-68 20,-68 14,-68 8,-62 8,-56 8,-56 8,-12 8,-12 8,-6 14,0 20,0 20,0 95,0 95,0 101,0 107,-6 107,-12 107,-12 107,-56 107,-56 107,-62 101,-68 95,-68\"/>\n<text text-anchor=\"start\" x=\"28\" y=\"-52.8\" font-family=\"Helvetica,sans-Serif\" font-size=\"14.00\" fill=\"#000000\">gini = 0.0</text>\n<text text-anchor=\"start\" x=\"18\" y=\"-37.8\" font-family=\"Helvetica,sans-Serif\" font-size=\"14.00\" fill=\"#000000\">samples = 3</text>\n<text text-anchor=\"start\" x=\"16\" y=\"-22.8\" font-family=\"Helvetica,sans-Serif\" font-size=\"14.00\" fill=\"#000000\">value = [0, 3]</text>\n<text text-anchor=\"start\" x=\"28.5\" y=\"-7.8\" font-family=\"Helvetica,sans-Serif\" font-size=\"14.00\" fill=\"#000000\">class = 1</text>\n</g>\n<!-- 4&#45;&gt;5 -->\n<g id=\"edge5\" class=\"edge\">\n<title>4&#45;&gt;5</title>\n<path fill=\"none\" stroke=\"#000000\" d=\"M132.8164,-103.9815C122.7273,-94.607 112.019,-84.6572 101.9399,-75.2921\"/>\n<polygon fill=\"#000000\" stroke=\"#000000\" points=\"104.0839,-72.5065 94.3757,-68.2637 99.3191,-77.6346 104.0839,-72.5065\"/>\n</g>\n<!-- 6 -->\n<g id=\"node7\" class=\"node\">\n<title>6</title>\n<path fill=\"#efb083\" stroke=\"#000000\" d=\"M217.5,-68C217.5,-68 137.5,-68 137.5,-68 131.5,-68 125.5,-62 125.5,-56 125.5,-56 125.5,-12 125.5,-12 125.5,-6 131.5,0 137.5,0 137.5,0 217.5,0 217.5,0 223.5,0 229.5,-6 229.5,-12 229.5,-12 229.5,-56 229.5,-56 229.5,-62 223.5,-68 217.5,-68\"/>\n<text text-anchor=\"start\" x=\"139.5\" y=\"-52.8\" font-family=\"Helvetica,sans-Serif\" font-size=\"14.00\" fill=\"#000000\">gini = 0.397</text>\n<text text-anchor=\"start\" x=\"133.5\" y=\"-37.8\" font-family=\"Helvetica,sans-Serif\" font-size=\"14.00\" fill=\"#000000\">samples = 11</text>\n<text text-anchor=\"start\" x=\"136\" y=\"-22.8\" font-family=\"Helvetica,sans-Serif\" font-size=\"14.00\" fill=\"#000000\">value = [8, 3]</text>\n<text text-anchor=\"start\" x=\"148.5\" y=\"-7.8\" font-family=\"Helvetica,sans-Serif\" font-size=\"14.00\" fill=\"#000000\">class = 0</text>\n</g>\n<!-- 4&#45;&gt;6 -->\n<g id=\"edge6\" class=\"edge\">\n<title>4&#45;&gt;6</title>\n<path fill=\"none\" stroke=\"#000000\" d=\"M177.5,-103.9815C177.5,-95.618 177.5,-86.7965 177.5,-78.3409\"/>\n<polygon fill=\"#000000\" stroke=\"#000000\" points=\"181.0001,-78.2636 177.5,-68.2637 174.0001,-78.2637 181.0001,-78.2636\"/>\n</g>\n<!-- 8 -->\n<g id=\"node9\" class=\"node\">\n<title>8</title>\n<path fill=\"#f4c7a8\" stroke=\"#000000\" d=\"M480.5,-187C480.5,-187 388.5,-187 388.5,-187 382.5,-187 376.5,-181 376.5,-175 376.5,-175 376.5,-116 376.5,-116 376.5,-110 382.5,-104 388.5,-104 388.5,-104 480.5,-104 480.5,-104 486.5,-104 492.5,-110 492.5,-116 492.5,-116 492.5,-175 492.5,-175 492.5,-181 486.5,-187 480.5,-187\"/>\n<text text-anchor=\"start\" x=\"399.5\" y=\"-171.8\" font-family=\"Helvetica,sans-Serif\" font-size=\"14.00\" fill=\"#000000\">Age ≤ 36.5</text>\n<text text-anchor=\"start\" x=\"401\" y=\"-156.8\" font-family=\"Helvetica,sans-Serif\" font-size=\"14.00\" fill=\"#000000\">gini = 0.46</text>\n<text text-anchor=\"start\" x=\"386.5\" y=\"-141.8\" font-family=\"Helvetica,sans-Serif\" font-size=\"14.00\" fill=\"#000000\">samples = 120</text>\n<text text-anchor=\"start\" x=\"384.5\" y=\"-126.8\" font-family=\"Helvetica,sans-Serif\" font-size=\"14.00\" fill=\"#000000\">value = [77, 43]</text>\n<text text-anchor=\"start\" x=\"405.5\" y=\"-111.8\" font-family=\"Helvetica,sans-Serif\" font-size=\"14.00\" fill=\"#000000\">class = 0</text>\n</g>\n<!-- 7&#45;&gt;8 -->\n<g id=\"edge8\" class=\"edge\">\n<title>7&#45;&gt;8</title>\n<path fill=\"none\" stroke=\"#000000\" d=\"M479.3671,-222.8796C474.3539,-214.2335 469.0187,-205.0322 463.8419,-196.1042\"/>\n<polygon fill=\"#000000\" stroke=\"#000000\" points=\"466.7798,-194.1934 458.7359,-187.2981 460.7242,-197.7047 466.7798,-194.1934\"/>\n</g>\n<!-- 11 -->\n<g id=\"node12\" class=\"node\">\n<title>11</title>\n<path fill=\"#e89153\" stroke=\"#000000\" d=\"M622.5,-187C622.5,-187 522.5,-187 522.5,-187 516.5,-187 510.5,-181 510.5,-175 510.5,-175 510.5,-116 510.5,-116 510.5,-110 516.5,-104 522.5,-104 522.5,-104 622.5,-104 622.5,-104 628.5,-104 634.5,-110 634.5,-116 634.5,-116 634.5,-175 634.5,-175 634.5,-181 628.5,-187 622.5,-187\"/>\n<text text-anchor=\"start\" x=\"537.5\" y=\"-171.8\" font-family=\"Helvetica,sans-Serif\" font-size=\"14.00\" fill=\"#000000\">Age ≤ 13.0</text>\n<text text-anchor=\"start\" x=\"534.5\" y=\"-156.8\" font-family=\"Helvetica,sans-Serif\" font-size=\"14.00\" fill=\"#000000\">gini = 0.204</text>\n<text text-anchor=\"start\" x=\"524.5\" y=\"-141.8\" font-family=\"Helvetica,sans-Serif\" font-size=\"14.00\" fill=\"#000000\">samples = 433</text>\n<text text-anchor=\"start\" x=\"518.5\" y=\"-126.8\" font-family=\"Helvetica,sans-Serif\" font-size=\"14.00\" fill=\"#000000\">value = [383, 50]</text>\n<text text-anchor=\"start\" x=\"543.5\" y=\"-111.8\" font-family=\"Helvetica,sans-Serif\" font-size=\"14.00\" fill=\"#000000\">class = 0</text>\n</g>\n<!-- 7&#45;&gt;11 -->\n<g id=\"edge11\" class=\"edge\">\n<title>7&#45;&gt;11</title>\n<path fill=\"none\" stroke=\"#000000\" d=\"M527.6329,-222.8796C532.6461,-214.2335 537.9813,-205.0322 543.1581,-196.1042\"/>\n<polygon fill=\"#000000\" stroke=\"#000000\" points=\"546.2758,-197.7047 548.2641,-187.2981 540.2202,-194.1934 546.2758,-197.7047\"/>\n</g>\n<!-- 9 -->\n<g id=\"node10\" class=\"node\">\n<title>9</title>\n<path fill=\"#e3f1fb\" stroke=\"#000000\" d=\"M351.5,-68C351.5,-68 259.5,-68 259.5,-68 253.5,-68 247.5,-62 247.5,-56 247.5,-56 247.5,-12 247.5,-12 247.5,-6 253.5,0 259.5,0 259.5,0 351.5,0 351.5,0 357.5,0 363.5,-6 363.5,-12 363.5,-12 363.5,-56 363.5,-56 363.5,-62 357.5,-68 351.5,-68\"/>\n<text text-anchor=\"start\" x=\"267.5\" y=\"-52.8\" font-family=\"Helvetica,sans-Serif\" font-size=\"14.00\" fill=\"#000000\">gini = 0.497</text>\n<text text-anchor=\"start\" x=\"261.5\" y=\"-37.8\" font-family=\"Helvetica,sans-Serif\" font-size=\"14.00\" fill=\"#000000\">samples = 39</text>\n<text text-anchor=\"start\" x=\"255.5\" y=\"-22.8\" font-family=\"Helvetica,sans-Serif\" font-size=\"14.00\" fill=\"#000000\">value = [18, 21]</text>\n<text text-anchor=\"start\" x=\"276.5\" y=\"-7.8\" font-family=\"Helvetica,sans-Serif\" font-size=\"14.00\" fill=\"#000000\">class = 1</text>\n</g>\n<!-- 8&#45;&gt;9 -->\n<g id=\"edge9\" class=\"edge\">\n<title>8&#45;&gt;9</title>\n<path fill=\"none\" stroke=\"#000000\" d=\"M386.4652,-103.9815C375.513,-94.5151 363.8821,-84.462 352.9544,-75.0168\"/>\n<polygon fill=\"#000000\" stroke=\"#000000\" points=\"354.9957,-72.155 345.1414,-68.2637 350.4182,-77.4509 354.9957,-72.155\"/>\n</g>\n<!-- 10 -->\n<g id=\"node11\" class=\"node\">\n<title>10</title>\n<path fill=\"#efb083\" stroke=\"#000000\" d=\"M485.5,-68C485.5,-68 393.5,-68 393.5,-68 387.5,-68 381.5,-62 381.5,-56 381.5,-56 381.5,-12 381.5,-12 381.5,-6 387.5,0 393.5,0 393.5,0 485.5,0 485.5,0 491.5,0 497.5,-6 497.5,-12 497.5,-12 497.5,-56 497.5,-56 497.5,-62 491.5,-68 485.5,-68\"/>\n<text text-anchor=\"start\" x=\"401.5\" y=\"-52.8\" font-family=\"Helvetica,sans-Serif\" font-size=\"14.00\" fill=\"#000000\">gini = 0.396</text>\n<text text-anchor=\"start\" x=\"395.5\" y=\"-37.8\" font-family=\"Helvetica,sans-Serif\" font-size=\"14.00\" fill=\"#000000\">samples = 81</text>\n<text text-anchor=\"start\" x=\"389.5\" y=\"-22.8\" font-family=\"Helvetica,sans-Serif\" font-size=\"14.00\" fill=\"#000000\">value = [59, 22]</text>\n<text text-anchor=\"start\" x=\"410.5\" y=\"-7.8\" font-family=\"Helvetica,sans-Serif\" font-size=\"14.00\" fill=\"#000000\">class = 0</text>\n</g>\n<!-- 8&#45;&gt;10 -->\n<g id=\"edge10\" class=\"edge\">\n<title>8&#45;&gt;10</title>\n<path fill=\"none\" stroke=\"#000000\" d=\"M436.3618,-103.9815C436.7369,-95.618 437.1324,-86.7965 437.5116,-78.3409\"/>\n<polygon fill=\"#000000\" stroke=\"#000000\" points=\"441.0119,-78.4105 437.9635,-68.2637 434.019,-78.0968 441.0119,-78.4105\"/>\n</g>\n<!-- 12 -->\n<g id=\"node13\" class=\"node\">\n<title>12</title>\n<path fill=\"#f2c09c\" stroke=\"#000000\" d=\"M607.5,-68C607.5,-68 527.5,-68 527.5,-68 521.5,-68 515.5,-62 515.5,-56 515.5,-56 515.5,-12 515.5,-12 515.5,-6 521.5,0 527.5,0 527.5,0 607.5,0 607.5,0 613.5,0 619.5,-6 619.5,-12 619.5,-12 619.5,-56 619.5,-56 619.5,-62 613.5,-68 607.5,-68\"/>\n<text text-anchor=\"start\" x=\"529.5\" y=\"-52.8\" font-family=\"Helvetica,sans-Serif\" font-size=\"14.00\" fill=\"#000000\">gini = 0.444</text>\n<text text-anchor=\"start\" x=\"523.5\" y=\"-37.8\" font-family=\"Helvetica,sans-Serif\" font-size=\"14.00\" fill=\"#000000\">samples = 12</text>\n<text text-anchor=\"start\" x=\"526\" y=\"-22.8\" font-family=\"Helvetica,sans-Serif\" font-size=\"14.00\" fill=\"#000000\">value = [8, 4]</text>\n<text text-anchor=\"start\" x=\"538.5\" y=\"-7.8\" font-family=\"Helvetica,sans-Serif\" font-size=\"14.00\" fill=\"#000000\">class = 0</text>\n</g>\n<!-- 11&#45;&gt;12 -->\n<g id=\"edge12\" class=\"edge\">\n<title>11&#45;&gt;12</title>\n<path fill=\"none\" stroke=\"#000000\" d=\"M570.6382,-103.9815C570.2631,-95.618 569.8676,-86.7965 569.4884,-78.3409\"/>\n<polygon fill=\"#000000\" stroke=\"#000000\" points=\"572.981,-78.0968 569.0365,-68.2637 565.9881,-78.4105 572.981,-78.0968\"/>\n</g>\n<!-- 13 -->\n<g id=\"node14\" class=\"node\">\n<title>13</title>\n<path fill=\"#e89051\" stroke=\"#000000\" d=\"M749.5,-68C749.5,-68 649.5,-68 649.5,-68 643.5,-68 637.5,-62 637.5,-56 637.5,-56 637.5,-12 637.5,-12 637.5,-6 643.5,0 649.5,0 649.5,0 749.5,0 749.5,0 755.5,0 761.5,-6 761.5,-12 761.5,-12 761.5,-56 761.5,-56 761.5,-62 755.5,-68 749.5,-68\"/>\n<text text-anchor=\"start\" x=\"661.5\" y=\"-52.8\" font-family=\"Helvetica,sans-Serif\" font-size=\"14.00\" fill=\"#000000\">gini = 0.195</text>\n<text text-anchor=\"start\" x=\"651.5\" y=\"-37.8\" font-family=\"Helvetica,sans-Serif\" font-size=\"14.00\" fill=\"#000000\">samples = 421</text>\n<text text-anchor=\"start\" x=\"645.5\" y=\"-22.8\" font-family=\"Helvetica,sans-Serif\" font-size=\"14.00\" fill=\"#000000\">value = [375, 46]</text>\n<text text-anchor=\"start\" x=\"670.5\" y=\"-7.8\" font-family=\"Helvetica,sans-Serif\" font-size=\"14.00\" fill=\"#000000\">class = 0</text>\n</g>\n<!-- 11&#45;&gt;13 -->\n<g id=\"edge13\" class=\"edge\">\n<title>11&#45;&gt;13</title>\n<path fill=\"none\" stroke=\"#000000\" d=\"M619.7901,-103.9815C630.5725,-94.5151 642.023,-84.462 652.7813,-75.0168\"/>\n<polygon fill=\"#000000\" stroke=\"#000000\" points=\"655.2676,-77.4915 660.4732,-68.2637 650.6493,-72.2311 655.2676,-77.4915\"/>\n</g>\n<!-- 15 -->\n<g id=\"node16\" class=\"node\">\n<title>15</title>\n<path fill=\"#44a2e6\" stroke=\"#000000\" d=\"M1052.5,-306C1052.5,-306 960.5,-306 960.5,-306 954.5,-306 948.5,-300 948.5,-294 948.5,-294 948.5,-235 948.5,-235 948.5,-229 954.5,-223 960.5,-223 960.5,-223 1052.5,-223 1052.5,-223 1058.5,-223 1064.5,-229 1064.5,-235 1064.5,-235 1064.5,-294 1064.5,-294 1064.5,-300 1058.5,-306 1052.5,-306\"/>\n<text text-anchor=\"start\" x=\"975.5\" y=\"-290.8\" font-family=\"Helvetica,sans-Serif\" font-size=\"14.00\" fill=\"#000000\">Age ≤ 2.5</text>\n<text text-anchor=\"start\" x=\"977\" y=\"-275.8\" font-family=\"Helvetica,sans-Serif\" font-size=\"14.00\" fill=\"#000000\">gini = 0.1</text>\n<text text-anchor=\"start\" x=\"958.5\" y=\"-260.8\" font-family=\"Helvetica,sans-Serif\" font-size=\"14.00\" fill=\"#000000\">samples = 170</text>\n<text text-anchor=\"start\" x=\"956.5\" y=\"-245.8\" font-family=\"Helvetica,sans-Serif\" font-size=\"14.00\" fill=\"#000000\">value = [9, 161]</text>\n<text text-anchor=\"start\" x=\"977.5\" y=\"-230.8\" font-family=\"Helvetica,sans-Serif\" font-size=\"14.00\" fill=\"#000000\">class = 1</text>\n</g>\n<!-- 14&#45;&gt;15 -->\n<g id=\"edge15\" class=\"edge\">\n<title>14&#45;&gt;15</title>\n<path fill=\"none\" stroke=\"#000000\" d=\"M1006.5,-341.8796C1006.5,-333.6838 1006.5,-324.9891 1006.5,-316.5013\"/>\n<polygon fill=\"#000000\" stroke=\"#000000\" points=\"1010.0001,-316.298 1006.5,-306.2981 1003.0001,-316.2981 1010.0001,-316.298\"/>\n</g>\n<!-- 22 -->\n<g id=\"node23\" class=\"node\">\n<title>22</title>\n<path fill=\"#ffffff\" stroke=\"#000000\" d=\"M1424.5,-306C1424.5,-306 1332.5,-306 1332.5,-306 1326.5,-306 1320.5,-300 1320.5,-294 1320.5,-294 1320.5,-235 1320.5,-235 1320.5,-229 1326.5,-223 1332.5,-223 1332.5,-223 1424.5,-223 1424.5,-223 1430.5,-223 1436.5,-229 1436.5,-235 1436.5,-235 1436.5,-294 1436.5,-294 1436.5,-300 1430.5,-306 1424.5,-306\"/>\n<text text-anchor=\"start\" x=\"1345.5\" y=\"-290.8\" font-family=\"Helvetica,sans-Serif\" font-size=\"14.00\" fill=\"#000000\">Fare ≤ 2.5</text>\n<text text-anchor=\"start\" x=\"1349\" y=\"-275.8\" font-family=\"Helvetica,sans-Serif\" font-size=\"14.00\" fill=\"#000000\">gini = 0.5</text>\n<text text-anchor=\"start\" x=\"1330.5\" y=\"-260.8\" font-family=\"Helvetica,sans-Serif\" font-size=\"14.00\" fill=\"#000000\">samples = 144</text>\n<text text-anchor=\"start\" x=\"1328.5\" y=\"-245.8\" font-family=\"Helvetica,sans-Serif\" font-size=\"14.00\" fill=\"#000000\">value = [72, 72]</text>\n<text text-anchor=\"start\" x=\"1349.5\" y=\"-230.8\" font-family=\"Helvetica,sans-Serif\" font-size=\"14.00\" fill=\"#000000\">class = 0</text>\n</g>\n<!-- 14&#45;&gt;22 -->\n<g id=\"edge22\" class=\"edge\">\n<title>14&#45;&gt;22</title>\n<path fill=\"none\" stroke=\"#000000\" d=\"M1068.7644,-363.5821C1135.5946,-342.2036 1241.4285,-308.3481 1310.4224,-286.2775\"/>\n<polygon fill=\"#000000\" stroke=\"#000000\" points=\"1311.8674,-289.4901 1320.3255,-283.1096 1309.7345,-282.8229 1311.8674,-289.4901\"/>\n</g>\n<!-- 16 -->\n<g id=\"node17\" class=\"node\">\n<title>16</title>\n<path fill=\"#ffffff\" stroke=\"#000000\" d=\"M981,-187C981,-187 906,-187 906,-187 900,-187 894,-181 894,-175 894,-175 894,-116 894,-116 894,-110 900,-104 906,-104 906,-104 981,-104 981,-104 987,-104 993,-110 993,-116 993,-116 993,-175 993,-175 993,-181 987,-187 981,-187\"/>\n<text text-anchor=\"start\" x=\"910.5\" y=\"-171.8\" font-family=\"Helvetica,sans-Serif\" font-size=\"14.00\" fill=\"#000000\">Fare ≤ 2.5</text>\n<text text-anchor=\"start\" x=\"914\" y=\"-156.8\" font-family=\"Helvetica,sans-Serif\" font-size=\"14.00\" fill=\"#000000\">gini = 0.5</text>\n<text text-anchor=\"start\" x=\"904\" y=\"-141.8\" font-family=\"Helvetica,sans-Serif\" font-size=\"14.00\" fill=\"#000000\">samples = 2</text>\n<text text-anchor=\"start\" x=\"902\" y=\"-126.8\" font-family=\"Helvetica,sans-Serif\" font-size=\"14.00\" fill=\"#000000\">value = [1, 1]</text>\n<text text-anchor=\"start\" x=\"914.5\" y=\"-111.8\" font-family=\"Helvetica,sans-Serif\" font-size=\"14.00\" fill=\"#000000\">class = 0</text>\n</g>\n<!-- 15&#45;&gt;16 -->\n<g id=\"edge16\" class=\"edge\">\n<title>15&#45;&gt;16</title>\n<path fill=\"none\" stroke=\"#000000\" d=\"M984.4657,-222.8796C979.936,-214.3236 975.1185,-205.2238 970.4382,-196.3833\"/>\n<polygon fill=\"#000000\" stroke=\"#000000\" points=\"973.4006,-194.4983 965.6284,-187.2981 967.2141,-197.7736 973.4006,-194.4983\"/>\n</g>\n<!-- 19 -->\n<g id=\"node20\" class=\"node\">\n<title>19</title>\n<path fill=\"#43a2e6\" stroke=\"#000000\" d=\"M1115.5,-187C1115.5,-187 1023.5,-187 1023.5,-187 1017.5,-187 1011.5,-181 1011.5,-175 1011.5,-175 1011.5,-116 1011.5,-116 1011.5,-110 1017.5,-104 1023.5,-104 1023.5,-104 1115.5,-104 1115.5,-104 1121.5,-104 1127.5,-110 1127.5,-116 1127.5,-116 1127.5,-175 1127.5,-175 1127.5,-181 1121.5,-187 1115.5,-187\"/>\n<text text-anchor=\"start\" x=\"1036.5\" y=\"-171.8\" font-family=\"Helvetica,sans-Serif\" font-size=\"14.00\" fill=\"#000000\">Fare ≤ 2.5</text>\n<text text-anchor=\"start\" x=\"1031.5\" y=\"-156.8\" font-family=\"Helvetica,sans-Serif\" font-size=\"14.00\" fill=\"#000000\">gini = 0.091</text>\n<text text-anchor=\"start\" x=\"1021.5\" y=\"-141.8\" font-family=\"Helvetica,sans-Serif\" font-size=\"14.00\" fill=\"#000000\">samples = 168</text>\n<text text-anchor=\"start\" x=\"1019.5\" y=\"-126.8\" font-family=\"Helvetica,sans-Serif\" font-size=\"14.00\" fill=\"#000000\">value = [8, 160]</text>\n<text text-anchor=\"start\" x=\"1040.5\" y=\"-111.8\" font-family=\"Helvetica,sans-Serif\" font-size=\"14.00\" fill=\"#000000\">class = 1</text>\n</g>\n<!-- 15&#45;&gt;19 -->\n<g id=\"edge19\" class=\"edge\">\n<title>15&#45;&gt;19</title>\n<path fill=\"none\" stroke=\"#000000\" d=\"M1028.5343,-222.8796C1033.064,-214.3236 1037.8815,-205.2238 1042.5618,-196.3833\"/>\n<polygon fill=\"#000000\" stroke=\"#000000\" points=\"1045.7859,-197.7736 1047.3716,-187.2981 1039.5994,-194.4983 1045.7859,-197.7736\"/>\n</g>\n<!-- 17 -->\n<g id=\"node18\" class=\"node\">\n<title>17</title>\n<path fill=\"#399de5\" stroke=\"#000000\" d=\"M867,-68C867,-68 792,-68 792,-68 786,-68 780,-62 780,-56 780,-56 780,-12 780,-12 780,-6 786,0 792,0 792,0 867,0 867,0 873,0 879,-6 879,-12 879,-12 879,-56 879,-56 879,-62 873,-68 867,-68\"/>\n<text text-anchor=\"start\" x=\"800\" y=\"-52.8\" font-family=\"Helvetica,sans-Serif\" font-size=\"14.00\" fill=\"#000000\">gini = 0.0</text>\n<text text-anchor=\"start\" x=\"790\" y=\"-37.8\" font-family=\"Helvetica,sans-Serif\" font-size=\"14.00\" fill=\"#000000\">samples = 1</text>\n<text text-anchor=\"start\" x=\"788\" y=\"-22.8\" font-family=\"Helvetica,sans-Serif\" font-size=\"14.00\" fill=\"#000000\">value = [0, 1]</text>\n<text text-anchor=\"start\" x=\"800.5\" y=\"-7.8\" font-family=\"Helvetica,sans-Serif\" font-size=\"14.00\" fill=\"#000000\">class = 1</text>\n</g>\n<!-- 16&#45;&gt;17 -->\n<g id=\"edge17\" class=\"edge\">\n<title>16&#45;&gt;17</title>\n<path fill=\"none\" stroke=\"#000000\" d=\"M901.0506,-103.9815C891.4659,-94.607 881.293,-84.6572 871.7179,-75.2921\"/>\n<polygon fill=\"#000000\" stroke=\"#000000\" points=\"874.1283,-72.7538 864.5319,-68.2637 869.2337,-77.7581 874.1283,-72.7538\"/>\n</g>\n<!-- 18 -->\n<g id=\"node19\" class=\"node\">\n<title>18</title>\n<path fill=\"#e58139\" stroke=\"#000000\" d=\"M984,-68C984,-68 909,-68 909,-68 903,-68 897,-62 897,-56 897,-56 897,-12 897,-12 897,-6 903,0 909,0 909,0 984,0 984,0 990,0 996,-6 996,-12 996,-12 996,-56 996,-56 996,-62 990,-68 984,-68\"/>\n<text text-anchor=\"start\" x=\"917\" y=\"-52.8\" font-family=\"Helvetica,sans-Serif\" font-size=\"14.00\" fill=\"#000000\">gini = 0.0</text>\n<text text-anchor=\"start\" x=\"907\" y=\"-37.8\" font-family=\"Helvetica,sans-Serif\" font-size=\"14.00\" fill=\"#000000\">samples = 1</text>\n<text text-anchor=\"start\" x=\"905\" y=\"-22.8\" font-family=\"Helvetica,sans-Serif\" font-size=\"14.00\" fill=\"#000000\">value = [1, 0]</text>\n<text text-anchor=\"start\" x=\"917.5\" y=\"-7.8\" font-family=\"Helvetica,sans-Serif\" font-size=\"14.00\" fill=\"#000000\">class = 0</text>\n</g>\n<!-- 16&#45;&gt;18 -->\n<g id=\"edge18\" class=\"edge\">\n<title>16&#45;&gt;18</title>\n<path fill=\"none\" stroke=\"#000000\" d=\"M944.6171,-103.9815C944.8421,-95.618 945.0795,-86.7965 945.307,-78.3409\"/>\n<polygon fill=\"#000000\" stroke=\"#000000\" points=\"948.8078,-78.3542 945.5781,-68.2637 941.8103,-78.1659 948.8078,-78.3542\"/>\n</g>\n<!-- 20 -->\n<g id=\"node21\" class=\"node\">\n<title>20</title>\n<path fill=\"#4ea7e8\" stroke=\"#000000\" d=\"M1109,-68C1109,-68 1026,-68 1026,-68 1020,-68 1014,-62 1014,-56 1014,-56 1014,-12 1014,-12 1014,-6 1020,0 1026,0 1026,0 1109,0 1109,0 1115,0 1121,-6 1121,-12 1121,-12 1121,-56 1121,-56 1121,-62 1115,-68 1109,-68\"/>\n<text text-anchor=\"start\" x=\"1029.5\" y=\"-52.8\" font-family=\"Helvetica,sans-Serif\" font-size=\"14.00\" fill=\"#000000\">gini = 0.171</text>\n<text text-anchor=\"start\" x=\"1023.5\" y=\"-37.8\" font-family=\"Helvetica,sans-Serif\" font-size=\"14.00\" fill=\"#000000\">samples = 74</text>\n<text text-anchor=\"start\" x=\"1022\" y=\"-22.8\" font-family=\"Helvetica,sans-Serif\" font-size=\"14.00\" fill=\"#000000\">value = [7, 67]</text>\n<text text-anchor=\"start\" x=\"1038.5\" y=\"-7.8\" font-family=\"Helvetica,sans-Serif\" font-size=\"14.00\" fill=\"#000000\">class = 1</text>\n</g>\n<!-- 19&#45;&gt;20 -->\n<g id=\"edge20\" class=\"edge\">\n<title>19&#45;&gt;20</title>\n<path fill=\"none\" stroke=\"#000000\" d=\"M1068.7553,-103.9815C1068.6053,-95.618 1068.447,-86.7965 1068.2954,-78.3409\"/>\n<polygon fill=\"#000000\" stroke=\"#000000\" points=\"1071.7935,-78.1993 1068.1146,-68.2637 1064.7946,-78.3249 1071.7935,-78.1993\"/>\n</g>\n<!-- 21 -->\n<g id=\"node22\" class=\"node\">\n<title>21</title>\n<path fill=\"#3b9ee5\" stroke=\"#000000\" d=\"M1234,-68C1234,-68 1151,-68 1151,-68 1145,-68 1139,-62 1139,-56 1139,-56 1139,-12 1139,-12 1139,-6 1145,0 1151,0 1151,0 1234,0 1234,0 1240,0 1246,-6 1246,-12 1246,-12 1246,-56 1246,-56 1246,-62 1240,-68 1234,-68\"/>\n<text text-anchor=\"start\" x=\"1154.5\" y=\"-52.8\" font-family=\"Helvetica,sans-Serif\" font-size=\"14.00\" fill=\"#000000\">gini = 0.021</text>\n<text text-anchor=\"start\" x=\"1148.5\" y=\"-37.8\" font-family=\"Helvetica,sans-Serif\" font-size=\"14.00\" fill=\"#000000\">samples = 94</text>\n<text text-anchor=\"start\" x=\"1147\" y=\"-22.8\" font-family=\"Helvetica,sans-Serif\" font-size=\"14.00\" fill=\"#000000\">value = [1, 93]</text>\n<text text-anchor=\"start\" x=\"1163.5\" y=\"-7.8\" font-family=\"Helvetica,sans-Serif\" font-size=\"14.00\" fill=\"#000000\">class = 1</text>\n</g>\n<!-- 19&#45;&gt;21 -->\n<g id=\"edge21\" class=\"edge\">\n<title>19&#45;&gt;21</title>\n<path fill=\"none\" stroke=\"#000000\" d=\"M1115.3007,-103.9815C1125.7434,-94.5151 1136.8333,-84.462 1147.2528,-75.0168\"/>\n<polygon fill=\"#000000\" stroke=\"#000000\" points=\"1149.6441,-77.5731 1154.7024,-68.2637 1144.9428,-72.3868 1149.6441,-77.5731\"/>\n</g>\n<!-- 23 -->\n<g id=\"node24\" class=\"node\">\n<title>23</title>\n<path fill=\"#ddeefb\" stroke=\"#000000\" d=\"M1424.5,-187C1424.5,-187 1332.5,-187 1332.5,-187 1326.5,-187 1320.5,-181 1320.5,-175 1320.5,-175 1320.5,-116 1320.5,-116 1320.5,-110 1326.5,-104 1332.5,-104 1332.5,-104 1424.5,-104 1424.5,-104 1430.5,-104 1436.5,-110 1436.5,-116 1436.5,-116 1436.5,-175 1436.5,-175 1436.5,-181 1430.5,-187 1424.5,-187\"/>\n<text text-anchor=\"start\" x=\"1343.5\" y=\"-171.8\" font-family=\"Helvetica,sans-Serif\" font-size=\"14.00\" fill=\"#000000\">Age ≤ 36.5</text>\n<text text-anchor=\"start\" x=\"1340.5\" y=\"-156.8\" font-family=\"Helvetica,sans-Serif\" font-size=\"14.00\" fill=\"#000000\">gini = 0.496</text>\n<text text-anchor=\"start\" x=\"1330.5\" y=\"-141.8\" font-family=\"Helvetica,sans-Serif\" font-size=\"14.00\" fill=\"#000000\">samples = 128</text>\n<text text-anchor=\"start\" x=\"1328.5\" y=\"-126.8\" font-family=\"Helvetica,sans-Serif\" font-size=\"14.00\" fill=\"#000000\">value = [58, 70]</text>\n<text text-anchor=\"start\" x=\"1349.5\" y=\"-111.8\" font-family=\"Helvetica,sans-Serif\" font-size=\"14.00\" fill=\"#000000\">class = 1</text>\n</g>\n<!-- 22&#45;&gt;23 -->\n<g id=\"edge23\" class=\"edge\">\n<title>22&#45;&gt;23</title>\n<path fill=\"none\" stroke=\"#000000\" d=\"M1378.5,-222.8796C1378.5,-214.6838 1378.5,-205.9891 1378.5,-197.5013\"/>\n<polygon fill=\"#000000\" stroke=\"#000000\" points=\"1382.0001,-197.298 1378.5,-187.2981 1375.0001,-197.2981 1382.0001,-197.298\"/>\n</g>\n<!-- 26 -->\n<g id=\"node27\" class=\"node\">\n<title>26</title>\n<path fill=\"#e99355\" stroke=\"#000000\" d=\"M1607,-187C1607,-187 1524,-187 1524,-187 1518,-187 1512,-181 1512,-175 1512,-175 1512,-116 1512,-116 1512,-110 1518,-104 1524,-104 1524,-104 1607,-104 1607,-104 1613,-104 1619,-110 1619,-116 1619,-116 1619,-175 1619,-175 1619,-181 1613,-187 1607,-187\"/>\n<text text-anchor=\"start\" x=\"1534.5\" y=\"-171.8\" font-family=\"Helvetica,sans-Serif\" font-size=\"14.00\" fill=\"#000000\">Age ≤ 5.5</text>\n<text text-anchor=\"start\" x=\"1527.5\" y=\"-156.8\" font-family=\"Helvetica,sans-Serif\" font-size=\"14.00\" fill=\"#000000\">gini = 0.219</text>\n<text text-anchor=\"start\" x=\"1521.5\" y=\"-141.8\" font-family=\"Helvetica,sans-Serif\" font-size=\"14.00\" fill=\"#000000\">samples = 16</text>\n<text text-anchor=\"start\" x=\"1520\" y=\"-126.8\" font-family=\"Helvetica,sans-Serif\" font-size=\"14.00\" fill=\"#000000\">value = [14, 2]</text>\n<text text-anchor=\"start\" x=\"1536.5\" y=\"-111.8\" font-family=\"Helvetica,sans-Serif\" font-size=\"14.00\" fill=\"#000000\">class = 0</text>\n</g>\n<!-- 22&#45;&gt;26 -->\n<g id=\"edge26\" class=\"edge\">\n<title>22&#45;&gt;26</title>\n<path fill=\"none\" stroke=\"#000000\" d=\"M1436.6429,-227.5C1457.7509,-214.0676 1481.6784,-198.841 1503.136,-185.1862\"/>\n<polygon fill=\"#000000\" stroke=\"#000000\" points=\"1505.2931,-187.9621 1511.8507,-179.6405 1501.535,-182.0564 1505.2931,-187.9621\"/>\n</g>\n<!-- 24 -->\n<g id=\"node25\" class=\"node\">\n<title>24</title>\n<path fill=\"#c8e4f8\" stroke=\"#000000\" d=\"M1368.5,-68C1368.5,-68 1276.5,-68 1276.5,-68 1270.5,-68 1264.5,-62 1264.5,-56 1264.5,-56 1264.5,-12 1264.5,-12 1264.5,-6 1270.5,0 1276.5,0 1276.5,0 1368.5,0 1368.5,0 1374.5,0 1380.5,-6 1380.5,-12 1380.5,-12 1380.5,-56 1380.5,-56 1380.5,-62 1374.5,-68 1368.5,-68\"/>\n<text text-anchor=\"start\" x=\"1284.5\" y=\"-52.8\" font-family=\"Helvetica,sans-Serif\" font-size=\"14.00\" fill=\"#000000\">gini = 0.487</text>\n<text text-anchor=\"start\" x=\"1274.5\" y=\"-37.8\" font-family=\"Helvetica,sans-Serif\" font-size=\"14.00\" fill=\"#000000\">samples = 119</text>\n<text text-anchor=\"start\" x=\"1272.5\" y=\"-22.8\" font-family=\"Helvetica,sans-Serif\" font-size=\"14.00\" fill=\"#000000\">value = [50, 69]</text>\n<text text-anchor=\"start\" x=\"1293.5\" y=\"-7.8\" font-family=\"Helvetica,sans-Serif\" font-size=\"14.00\" fill=\"#000000\">class = 1</text>\n</g>\n<!-- 23&#45;&gt;24 -->\n<g id=\"edge24\" class=\"edge\">\n<title>23&#45;&gt;24</title>\n<path fill=\"none\" stroke=\"#000000\" d=\"M1357.6477,-103.9815C1353.2625,-95.2504 1348.6267,-86.0202 1344.211,-77.2281\"/>\n<polygon fill=\"#000000\" stroke=\"#000000\" points=\"1347.3246,-75.6291 1339.7087,-68.2637 1341.0692,-78.7708 1347.3246,-75.6291\"/>\n</g>\n<!-- 25 -->\n<g id=\"node26\" class=\"node\">\n<title>25</title>\n<path fill=\"#e89152\" stroke=\"#000000\" d=\"M1486,-68C1486,-68 1411,-68 1411,-68 1405,-68 1399,-62 1399,-56 1399,-56 1399,-12 1399,-12 1399,-6 1405,0 1411,0 1411,0 1486,0 1486,0 1492,0 1498,-6 1498,-12 1498,-12 1498,-56 1498,-56 1498,-62 1492,-68 1486,-68\"/>\n<text text-anchor=\"start\" x=\"1410.5\" y=\"-52.8\" font-family=\"Helvetica,sans-Serif\" font-size=\"14.00\" fill=\"#000000\">gini = 0.198</text>\n<text text-anchor=\"start\" x=\"1409\" y=\"-37.8\" font-family=\"Helvetica,sans-Serif\" font-size=\"14.00\" fill=\"#000000\">samples = 9</text>\n<text text-anchor=\"start\" x=\"1407\" y=\"-22.8\" font-family=\"Helvetica,sans-Serif\" font-size=\"14.00\" fill=\"#000000\">value = [8, 1]</text>\n<text text-anchor=\"start\" x=\"1419.5\" y=\"-7.8\" font-family=\"Helvetica,sans-Serif\" font-size=\"14.00\" fill=\"#000000\">class = 0</text>\n</g>\n<!-- 23&#45;&gt;25 -->\n<g id=\"edge25\" class=\"edge\">\n<title>23&#45;&gt;25</title>\n<path fill=\"none\" stroke=\"#000000\" d=\"M1404.5654,-103.9815C1410.1045,-95.1585 1415.9636,-85.8258 1421.5355,-76.9506\"/>\n<polygon fill=\"#000000\" stroke=\"#000000\" points=\"1424.6363,-78.594 1426.9892,-68.2637 1418.7078,-74.872 1424.6363,-78.594\"/>\n</g>\n<!-- 27 -->\n<g id=\"node28\" class=\"node\">\n<title>27</title>\n<path fill=\"#ffffff\" stroke=\"#000000\" d=\"M1603,-68C1603,-68 1528,-68 1528,-68 1522,-68 1516,-62 1516,-56 1516,-56 1516,-12 1516,-12 1516,-6 1522,0 1528,0 1528,0 1603,0 1603,0 1609,0 1615,-6 1615,-12 1615,-12 1615,-56 1615,-56 1615,-62 1609,-68 1603,-68\"/>\n<text text-anchor=\"start\" x=\"1536\" y=\"-52.8\" font-family=\"Helvetica,sans-Serif\" font-size=\"14.00\" fill=\"#000000\">gini = 0.5</text>\n<text text-anchor=\"start\" x=\"1526\" y=\"-37.8\" font-family=\"Helvetica,sans-Serif\" font-size=\"14.00\" fill=\"#000000\">samples = 2</text>\n<text text-anchor=\"start\" x=\"1524\" y=\"-22.8\" font-family=\"Helvetica,sans-Serif\" font-size=\"14.00\" fill=\"#000000\">value = [1, 1]</text>\n<text text-anchor=\"start\" x=\"1536.5\" y=\"-7.8\" font-family=\"Helvetica,sans-Serif\" font-size=\"14.00\" fill=\"#000000\">class = 0</text>\n</g>\n<!-- 26&#45;&gt;27 -->\n<g id=\"edge27\" class=\"edge\">\n<title>26&#45;&gt;27</title>\n<path fill=\"none\" stroke=\"#000000\" d=\"M1565.5,-103.9815C1565.5,-95.618 1565.5,-86.7965 1565.5,-78.3409\"/>\n<polygon fill=\"#000000\" stroke=\"#000000\" points=\"1569.0001,-78.2636 1565.5,-68.2637 1562.0001,-78.2637 1569.0001,-78.2636\"/>\n</g>\n<!-- 28 -->\n<g id=\"node29\" class=\"node\">\n<title>28</title>\n<path fill=\"#e78b48\" stroke=\"#000000\" d=\"M1728,-68C1728,-68 1645,-68 1645,-68 1639,-68 1633,-62 1633,-56 1633,-56 1633,-12 1633,-12 1633,-6 1639,0 1645,0 1645,0 1728,0 1728,0 1734,0 1740,-6 1740,-12 1740,-12 1740,-56 1740,-56 1740,-62 1734,-68 1728,-68\"/>\n<text text-anchor=\"start\" x=\"1648.5\" y=\"-52.8\" font-family=\"Helvetica,sans-Serif\" font-size=\"14.00\" fill=\"#000000\">gini = 0.133</text>\n<text text-anchor=\"start\" x=\"1642.5\" y=\"-37.8\" font-family=\"Helvetica,sans-Serif\" font-size=\"14.00\" fill=\"#000000\">samples = 14</text>\n<text text-anchor=\"start\" x=\"1641\" y=\"-22.8\" font-family=\"Helvetica,sans-Serif\" font-size=\"14.00\" fill=\"#000000\">value = [13, 1]</text>\n<text text-anchor=\"start\" x=\"1657.5\" y=\"-7.8\" font-family=\"Helvetica,sans-Serif\" font-size=\"14.00\" fill=\"#000000\">class = 0</text>\n</g>\n<!-- 26&#45;&gt;28 -->\n<g id=\"edge28\" class=\"edge\">\n<title>26&#45;&gt;28</title>\n<path fill=\"none\" stroke=\"#000000\" d=\"M1610.5559,-103.9815C1620.7291,-94.607 1631.5267,-84.6572 1641.6898,-75.2921\"/>\n<polygon fill=\"#000000\" stroke=\"#000000\" points=\"1644.3349,-77.6141 1649.317,-68.2637 1639.5913,-72.4663 1644.3349,-77.6141\"/>\n</g>\n</g>\n</svg>\n"
          },
          "metadata": {
            "tags": []
          },
          "execution_count": 9
        }
      ]
    },
    {
      "cell_type": "markdown",
      "metadata": {
        "id": "sCPwhYnzQNkY",
        "colab_type": "text"
      },
      "source": [
        "### 4) Apply the five-fold cross validation of the decision tree learning algorithm to the Titanic training data to extract average classification accuracy."
      ]
    },
    {
      "cell_type": "code",
      "metadata": {
        "id": "bKh6hgRtnxDn",
        "colab_type": "code",
        "colab": {
          "base_uri": "https://localhost:8080/",
          "height": 35
        },
        "outputId": "53f362c3-28a3-4662-d5b0-068a58e55509"
      },
      "source": [
        "decision_tree = DecisionTreeClassifier()\n",
        "acc_scores = cross_val_score(decision_tree, X_train, y=Y_train, cv=5)\n",
        "acc_scores.mean()"
      ],
      "execution_count": 10,
      "outputs": [
        {
          "output_type": "execute_result",
          "data": {
            "text/plain": [
              "0.7913062582386543"
            ]
          },
          "metadata": {
            "tags": []
          },
          "execution_count": 10
        }
      ]
    },
    {
      "cell_type": "markdown",
      "metadata": {
        "id": "75YTrdRGQNnA",
        "colab_type": "text"
      },
      "source": [
        "### 5) Apply the five-fold cross validation of the random forest learning algorithm to the Titanic training data to extract average classification accuracy."
      ]
    },
    {
      "cell_type": "code",
      "metadata": {
        "id": "5swZs7Pu2BQ5",
        "colab_type": "code",
        "colab": {
          "base_uri": "https://localhost:8080/",
          "height": 35
        },
        "outputId": "5dc260a6-0fe8-4139-8b94-560ac2642cf6"
      },
      "source": [
        "random_forest = RandomForestClassifier()\n",
        "acc_scores = cross_val_score(random_forest, X_train, y=Y_train, cv=5)\n",
        "acc_scores.mean()"
      ],
      "execution_count": 11,
      "outputs": [
        {
          "output_type": "execute_result",
          "data": {
            "text/plain": [
              "0.7946582135459168"
            ]
          },
          "metadata": {
            "tags": []
          },
          "execution_count": 11
        }
      ]
    },
    {
      "cell_type": "markdown",
      "metadata": {
        "id": "KCK_tOZV3gJv",
        "colab_type": "text"
      },
      "source": [
        "### 6) Which algorithm is better, Decision Tree or Random Forest?\n",
        "\n",
        "We see that the random forest learning algorithm had a higher average classification accuracy than the decision tree learning algorithm (0.795>0.791). However, comparing average classification accuracies of various algorithms is not always a robust determiner of learning performance. We would also need to analyze F1 scores and AUC scores for both models to be sure.\n",
        "\n",
        "From our readings, we know that the random forest algorithm is better than the decision tree algorithm, especially when it comes to overfitting. Our results in this run confirm this conclusion."
      ]
    },
    {
      "cell_type": "markdown",
      "metadata": {
        "id": "Hy_VBxcC3l7j",
        "colab_type": "text"
      },
      "source": [
        "### 7) What can you learn from the algorithm comparison and analysis?\n",
        "\n",
        "Generally, random forests are known to perform better than decision trees. They operate by creating multiple decision trees, thus decreasing variance and the risk of overfitting the training data. For time complexity, decision trees are better than random forests when training time needs to be reduced as the latter takes more time due to the need of training each tree inside of it."
      ]
    }
  ]
}