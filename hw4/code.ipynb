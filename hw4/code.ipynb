{
  "nbformat": 4,
  "nbformat_minor": 0,
  "metadata": {
    "colab": {
      "name": "code.ipynb",
      "provenance": [],
      "collapsed_sections": [],
      "authorship_tag": "ABX9TyNqpZy6FRbteOic5WRsTOGq",
      "include_colab_link": true
    },
    "kernelspec": {
      "name": "python3",
      "display_name": "Python 3"
    }
  },
  "cells": [
    {
      "cell_type": "markdown",
      "metadata": {
        "id": "view-in-github",
        "colab_type": "text"
      },
      "source": [
        "<a href=\"https://colab.research.google.com/github/ayberkcorp/cap5610-machine_learning/blob/master/hw4/code.ipynb\" target=\"_parent\"><img src=\"https://colab.research.google.com/assets/colab-badge.svg\" alt=\"Open In Colab\"/></a>"
      ]
    },
    {
      "cell_type": "markdown",
      "metadata": {
        "id": "OlNw4IE0mAzZ"
      },
      "source": [
        "# Task 2\n"
      ]
    },
    {
      "cell_type": "code",
      "metadata": {
        "id": "u-d1GxnqcCtj",
        "outputId": "e012771d-ae65-4b5e-bd46-d8243e1a6b56",
        "colab": {
          "base_uri": "https://localhost:8080/",
          "height": 295
        }
      },
      "source": [
        "import numpy as np\n",
        "import matplotlib.pyplot as plt\n",
        "from sklearn import svm\n",
        "\n",
        "X = np.array([[-1, -1], [-1, 1], [1, -1], [1, 1]])\n",
        "Y = np.array([-1, 1, 1, -1])\n",
        "\n",
        "map = np.zeros([4, 2])\n",
        "map[:, 0] = X[:, 0]\n",
        "map[:, 1] = X[:, 0] * X[:, 1]\n",
        "\n",
        "clf = svm.SVC(kernel='linear')\n",
        "clf.fit(map, Y)\n",
        "\n",
        "plt.scatter(map[:, 0], map[:, 1], c=Y, cmap=plt.cm.Paired)\n",
        "\n",
        "ax = plt.gca()\n",
        "plt.title('x1x2 vs x1')\n",
        "ax.set_xlabel('x1')\n",
        "ax.set_ylabel('x1x2')\n",
        "\n",
        "xlim = ax.get_xlim()\n",
        "ylim = ax.get_ylim()\n",
        "\n",
        "x = np.linspace(xlim[0], xlim[1], 50)\n",
        "y = np.linspace(ylim[0], ylim[1], 50)\n",
        "\n",
        "x_data, y_data = np.meshgrid(x, y)\n",
        "\n",
        "z = clf.decision_function(np.vstack([x_data.ravel(), y_data.ravel()]).T).reshape(x_data.shape)\n",
        "\n",
        "ax.contour(x_data, y_data, z, colors='k', levels=[-1, 0, 1], alpha=0.7, linestyles=['--', '-', '--'])\n",
        "ax.scatter(clf.support_vectors_[:, 0], clf.support_vectors_[:, 1], facecolors='none')\n",
        "\n",
        "plt.show()"
      ],
      "execution_count": 1,
      "outputs": [
        {
          "output_type": "display_data",
          "data": {
            "image/png": "[encoded data removed]",
            "text/plain": [
              "<Figure size 432x288 with 1 Axes>"
            ]
          },
          "metadata": {
            "tags": [],
            "needs_background": "light"
          }
        }
      ]
    },
    {
      "cell_type": "markdown",
      "metadata": {
        "id": "HCImGR-CmEIf"
      },
      "source": [
        "Positives are below the hyperplane (colored in red) and negatives are above it (colored in light blue).\n",
        "\n",
        "The positive data points have $x_1y_1=-1$ while the negative ones have $x_1y_1=+1$. The maximum margin hyperplane is the line $x_1x_2=0$, with a margin of 1.\n",
        "\n",
        "# Task 5\n",
        "\n",
        "### a)"
      ]
    },
    {
      "cell_type": "code",
      "metadata": {
        "id": "QCLNwhq_HVnp",
        "outputId": "bb387d8a-2a3a-4098-d6e7-d5d6bd190a73",
        "colab": {
          "base_uri": "https://localhost:8080/",
          "height": 295
        }
      },
      "source": [
        "X = np.array([[1, 1], [2, 2], [2, 0], [0, 0], [1, 0], [0, 1]])\n",
        "Y = np.array([1, 1, 1, -1, -1, -1])\n",
        "\n",
        "ax = plt.gca()\n",
        "plt.title('Training Datapoints')\n",
        "ax.set_xlabel('x1')\n",
        "ax.set_ylabel('x2')\n",
        "plt.scatter(X[:, 0], X[:, 1], c=Y, cmap=plt.cm.Paired);"
      ],
      "execution_count": 2,
      "outputs": [
        {
          "output_type": "display_data",
          "data": {
            "image/png": "[encoded data removed]",
            "text/plain": [
              "<Figure size 432x288 with 1 Axes>"
            ]
          },
          "metadata": {
            "tags": [],
            "needs_background": "light"
          }
        }
      ]
    },
    {
      "cell_type": "markdown",
      "metadata": {
        "id": "E0oVGbsdIk7i"
      },
      "source": [
        "From the plot above, we can see that the two classes are linearly separable.\n",
        "\n",
        "### b)\n",
        "\n",
        "By inspection, we see that the maximum margin hyperplane has a slope of -1 and x and y-intercept of 1.5. Thus, the equation for it is $x_1+x_2-1.5=0$, and so its weight vector is $(1, 1)^T$.\n",
        "\n",
        "# Task 7"
      ]
    },
    {
      "cell_type": "code",
      "metadata": {
        "id": "rhdULvHWue7l",
        "outputId": "e07124ef-9835-481a-c1f8-08ca0281d607",
        "colab": {
          "base_uri": "https://localhost:8080/",
          "height": 70
        }
      },
      "source": [
        "import pandas as pd\n",
        "import random as rnd\n",
        "from sklearn.model_selection import train_test_split, cross_val_score\n",
        "\n",
        "# This is reused code from hw2 (kept test_df/combine even though it\n",
        "# is not needed since we will be splitting the training set\n",
        "# so that I did not have to rewrite this code)\n",
        "\n",
        "train_df = pd.read_csv('https://raw.githubusercontent.com/ayberkcorp/cap5610-machine_learning/master/Titanic/train.csv')\n",
        "test_df = pd.read_csv('https://raw.githubusercontent.com/ayberkcorp/cap5610-machine_learning/master/Titanic/test.csv')\n",
        "combine = [train_df, test_df]\n",
        "\n",
        "train_df = train_df.drop(['PassengerId', 'Name', 'Ticket', 'Cabin'], axis=1)\n",
        "test_df = test_df.drop(['Name', 'Ticket', 'Cabin'], axis=1)\n",
        "combine = [train_df, test_df]\n",
        "\n",
        "for dataset in combine:\n",
        "    dataset['Sex'] = dataset['Sex'].map( {'female': 1, 'male': 0} ).astype(int)\n",
        "\n",
        "guess_ages = np.zeros((2,3))\n",
        "guess_ages\n",
        "\n",
        "for dataset in combine:\n",
        "    for i in range(0, 2):\n",
        "        for j in range(0, 3):\n",
        "            guess_df = dataset[(dataset['Sex'] == i) & \\\n",
        "                                  (dataset['Pclass'] == j+1)]['Age'].dropna()\n",
        "\n",
        "            age_mean = guess_df.mean()\n",
        "            age_std = guess_df.std()\n",
        "            age_guess = rnd.uniform(age_mean - age_std, age_mean + age_std)\n",
        "\n",
        "            # Convert random age float to nearest .5 age\n",
        "            guess_ages[i,j] = int( age_guess/0.5 + 0.5 ) * 0.5\n",
        "            \n",
        "    for i in range(0, 2):\n",
        "        for j in range(0, 3):\n",
        "            dataset.loc[ (dataset.Age.isnull()) & (dataset.Sex == i) & (dataset.Pclass == j+1),\\\n",
        "                    'Age'] = guess_ages[i,j]\n",
        "\n",
        "    dataset['Age'] = dataset['Age'].astype(int)\n",
        "\n",
        "freq_port = train_df.Embarked.dropna().mode()[0]\n",
        "train_df = train_df.fillna(freq_port)\n",
        "\n",
        "test_df['Fare'].fillna(test_df['Fare'].dropna().median(), inplace=True)\n",
        "\n",
        "combine = [train_df, test_df]\n",
        "\n",
        "for dataset in combine:\n",
        "    dataset.loc[ dataset['Fare'] <= 7.91, 'Fare'] = 0\n",
        "    dataset.loc[(dataset['Fare'] > 7.91) & (dataset['Fare'] <= 14.454), 'Fare'] = 1\n",
        "    dataset.loc[(dataset['Fare'] > 14.454) & (dataset['Fare'] <= 31), 'Fare']   = 2\n",
        "    dataset.loc[ dataset['Fare'] > 31, 'Fare'] = 3\n",
        "    dataset['Fare'] = dataset['Fare'].astype(int)\n",
        "\n",
        "for dataset in combine:\n",
        "    dataset['Embarked'] = dataset['Embarked'].map( {'S': 0, 'C': 1, 'Q': 2} ).astype(int)\n",
        "\n",
        "# New code starts here (dropped unimportant features based on information from hw2)\n",
        "\n",
        "X_train = train_df.drop(['Survived', 'SibSp', 'Parch', 'Embarked'], axis=1)\n",
        "Y_train = train_df['Survived']\n",
        "\n",
        "X_train, X_test, Y_train, Y_test = train_test_split(X_train, Y_train, test_size=0.2, random_state=42)\n",
        "\n",
        "# Linear kernel\n",
        "clf = svm.SVC(kernel='linear')\n",
        "clf.fit(X_train, Y_train)\n",
        "acc_scores = cross_val_score(clf, X_train, y=Y_train, scoring='accuracy', cv=5)\n",
        "print('Accuracy for linear kernel: ', acc_scores.mean())\n",
        "\n",
        "# Quadratic kernel\n",
        "clf = svm.SVC(kernel='poly', degree=2)\n",
        "clf.fit(X_train, Y_train)\n",
        "acc_scores = cross_val_score(clf, X_train, y=Y_train, scoring='accuracy', cv=5)\n",
        "print('Accuracy for quadratic kernel: ', acc_scores.mean()) \n",
        "\n",
        "# RBF kernel\n",
        "clf = svm.SVC(kernel='rbf')\n",
        "clf.fit(X_train, Y_train)\n",
        "acc_scores = cross_val_score(clf, X_train, y=Y_train, scoring='accuracy', cv=5)\n",
        "print('Accuracy for RBF kernel: ', acc_scores.mean())"
      ],
      "execution_count": 3,
      "outputs": [
        {
          "output_type": "stream",
          "text": [
            "Accuracy for linear kernel:  0.7878755047769133\n",
            "Accuracy for quadratic kernel:  0.636245444696149\n",
            "Accuracy for RBF kernel:  0.6432286023835321\n"
          ],
          "name": "stdout"
        }
      ]
    },
    {
      "cell_type": "markdown",
      "metadata": {
        "id": "aBTpnEqnxAxP"
      },
      "source": [
        "Based on the average classification accuracy scores above, we can see that the linear kernel is the best (in my case)."
      ]
    }
  ]
}