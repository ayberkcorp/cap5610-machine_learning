{
  "nbformat": 4,
  "nbformat_minor": 0,
  "metadata": {
    "colab": {
      "name": "code.ipynb",
      "provenance": [],
      "collapsed_sections": [],
      "authorship_tag": "ABX9TyPrLtZRgVCu/u01Jtc/linz",
      "include_colab_link": true
    },
    "kernelspec": {
      "name": "python3",
      "display_name": "Python 3"
    }
  },
  "cells": [
    {
      "cell_type": "markdown",
      "metadata": {
        "id": "view-in-github",
        "colab_type": "text"
      },
      "source": [
        "<a href=\"https://colab.research.google.com/github/ayberkcorp/cap5610-machine_learning/blob/master/hw3/code.ipynb\" target=\"_parent\"><img src=\"https://colab.research.google.com/assets/colab-badge.svg\" alt=\"Open In Colab\"/></a>"
      ]
    },
    {
      "cell_type": "markdown",
      "metadata": {
        "id": "O8iWxY7dEuBc"
      },
      "source": [
        "# Task 1\n",
        "\n",
        "### Q1:"
      ]
    },
    {
      "cell_type": "code",
      "metadata": {
        "id": "Kym-lwSBlkoK",
        "outputId": "19a80044-8052-4a7d-a334-1fccaaaad202",
        "colab": {
          "base_uri": "https://localhost:8080/",
          "height": 317
        }
      },
      "source": [
        "# data analysis and wrangling\n",
        "import pandas as pd\n",
        "import numpy as np\n",
        "import random as rnd\n",
        "\n",
        "# visualization\n",
        "import seaborn as sns\n",
        "import graphviz\n",
        "import matplotlib.pyplot as plt\n",
        "%matplotlib inline\n",
        "\n",
        "# machine learning\n",
        "from sklearn.naive_bayes import GaussianNB\n",
        "from sklearn.neighbors import KNeighborsClassifier\n",
        "from sklearn import metrics\n",
        "from sklearn.model_selection import train_test_split, cross_validate\n",
        "\n",
        "train_df = pd.read_csv('https://raw.githubusercontent.com/ayberkcorp/cap5610-machine_learning/master/hw3/Football/train.csv')\n",
        "test_df = pd.read_csv('https://raw.githubusercontent.com/ayberkcorp/cap5610-machine_learning/master/hw3/Football/test.csv')\n",
        "\n",
        "train_df = train_df.drop(['ID', 'Date'], axis=1)\n",
        "test_df = test_df.drop(['ID', 'Date'], axis=1)\n",
        "\n",
        "for col in train_df.columns:\n",
        "  train_df[col] = train_df[col].astype('category').cat.codes\n",
        "  test_df[col] = test_df[col].astype('category').cat.codes\n",
        "\n",
        "X_train = train_df.drop('Label', axis=1)\n",
        "Y_train = train_df['Label']\n",
        "X_test = test_df.drop('Label', axis=1)\n",
        "Y_test = test_df['Label']\n",
        "\n",
        "classifier = GaussianNB()\n",
        "classifier.fit(X_train, Y_train)\n",
        "Y_pred = classifier.predict(X_test)\n",
        "\n",
        "print('Naive Bayes:')\n",
        "print('Accuracy:', metrics.accuracy_score(Y_test, Y_pred))\n",
        "print('Precision:', metrics.precision_score(Y_test, Y_pred))\n",
        "print('Recall:', metrics.recall_score(Y_test, Y_pred))\n",
        "print('F1 Score:', metrics.f1_score(Y_test, Y_pred))\n",
        "print('\\nPredictions (1=Win and 0=Lose):')\n",
        "print(Y_pred)\n",
        "\n",
        "classifier = KNeighborsClassifier()\n",
        "classifier.fit(X_train, Y_train)\n",
        "Y_pred = classifier.predict(X_test)\n",
        "\n",
        "print('\\n\\nKNN:')\n",
        "print('Accuracy:', metrics.accuracy_score(Y_test, Y_pred))\n",
        "print('Precision:', metrics.precision_score(Y_test, Y_pred))\n",
        "print('Recall:', metrics.recall_score(Y_test, Y_pred))\n",
        "print('F1 Score:', metrics.f1_score(Y_test, Y_pred))\n",
        "print('\\nPredictions (1=Win and 0=Lose):')\n",
        "print(Y_pred)"
      ],
      "execution_count": 1,
      "outputs": [
        {
          "output_type": "stream",
          "text": [
            "Naive Bayes:\n",
            "Accuracy: 0.8333333333333334\n",
            "Precision: 1.0\n",
            "Recall: 0.7777777777777778\n",
            "F1 Score: 0.8750000000000001\n",
            "\n",
            "Predictions (1=Win and 0=Lose):\n",
            "[1 0 1 1 1 0 0 1 1 0 1 0]\n",
            "\n",
            "\n",
            "KNN:\n",
            "Accuracy: 0.5833333333333334\n",
            "Precision: 0.75\n",
            "Recall: 0.6666666666666666\n",
            "F1 Score: 0.7058823529411765\n",
            "\n",
            "Predictions (1=Win and 0=Lose):\n",
            "[0 1 1 0 1 0 1 1 1 1 1 0]\n"
          ],
          "name": "stdout"
        }
      ]
    },
    {
      "cell_type": "markdown",
      "metadata": {
        "id": "uI_9z7J-H1et"
      },
      "source": [
        "# Task 2\n",
        "\n",
        "### Q1:"
      ]
    },
    {
      "cell_type": "code",
      "metadata": {
        "id": "U9SrWwqPH0_W",
        "outputId": "54960fdc-4277-4943-8332-1de4be3f6e10",
        "colab": {
          "base_uri": "https://localhost:8080/",
          "height": 133
        }
      },
      "source": [
        "# This is reused code from hw2 (kept test_df/combine even though it\n",
        "# is not needed since we will be splitting the training set\n",
        "# so that I did not have to rewrite this code)\n",
        "\n",
        "train_df = pd.read_csv('https://raw.githubusercontent.com/ayberkcorp/cap5610-machine_learning/master/Titanic/train.csv')\n",
        "test_df = pd.read_csv('https://raw.githubusercontent.com/ayberkcorp/cap5610-machine_learning/master/Titanic/test.csv')\n",
        "combine = [train_df, test_df]\n",
        "\n",
        "train_df = train_df.drop(['PassengerId', 'Name', 'Ticket', 'Cabin'], axis=1)\n",
        "test_df = test_df.drop(['Name', 'Ticket', 'Cabin'], axis=1)\n",
        "combine = [train_df, test_df]\n",
        "\n",
        "for dataset in combine:\n",
        "    dataset['Sex'] = dataset['Sex'].map( {'female': 1, 'male': 0} ).astype(int)\n",
        "\n",
        "guess_ages = np.zeros((2,3))\n",
        "guess_ages\n",
        "\n",
        "for dataset in combine:\n",
        "    for i in range(0, 2):\n",
        "        for j in range(0, 3):\n",
        "            guess_df = dataset[(dataset['Sex'] == i) & \\\n",
        "                                  (dataset['Pclass'] == j+1)]['Age'].dropna()\n",
        "\n",
        "            age_mean = guess_df.mean()\n",
        "            age_std = guess_df.std()\n",
        "            age_guess = rnd.uniform(age_mean - age_std, age_mean + age_std)\n",
        "\n",
        "            # Convert random age float to nearest .5 age\n",
        "            guess_ages[i,j] = int( age_guess/0.5 + 0.5 ) * 0.5\n",
        "            \n",
        "    for i in range(0, 2):\n",
        "        for j in range(0, 3):\n",
        "            dataset.loc[ (dataset.Age.isnull()) & (dataset.Sex == i) & (dataset.Pclass == j+1),\\\n",
        "                    'Age'] = guess_ages[i,j]\n",
        "\n",
        "    dataset['Age'] = dataset['Age'].astype(int)\n",
        "\n",
        "freq_port = train_df.Embarked.dropna().mode()[0]\n",
        "train_df = train_df.fillna(freq_port)\n",
        "\n",
        "test_df['Fare'].fillna(test_df['Fare'].dropna().median(), inplace=True)\n",
        "\n",
        "combine = [train_df, test_df]\n",
        "\n",
        "for dataset in combine:\n",
        "    dataset.loc[ dataset['Fare'] <= 7.91, 'Fare'] = 0\n",
        "    dataset.loc[(dataset['Fare'] > 7.91) & (dataset['Fare'] <= 14.454), 'Fare'] = 1\n",
        "    dataset.loc[(dataset['Fare'] > 14.454) & (dataset['Fare'] <= 31), 'Fare']   = 2\n",
        "    dataset.loc[ dataset['Fare'] > 31, 'Fare'] = 3\n",
        "    dataset['Fare'] = dataset['Fare'].astype(int)\n",
        "\n",
        "for dataset in combine:\n",
        "    dataset['Embarked'] = dataset['Embarked'].map( {'S': 0, 'C': 1, 'Q': 2} ).astype(int)\n",
        "\n",
        "# New code starts here (dropped unimportant features based on information from hw2)\n",
        "\n",
        "X_train = train_df.drop(['Survived', 'SibSp', 'Parch', 'Embarked'], axis=1)\n",
        "Y_train = train_df['Survived']\n",
        "\n",
        "X_train, X_test, Y_train, Y_test = train_test_split(X_train, Y_train, test_size=0.2, random_state=42)\n",
        "\n",
        "classifier = GaussianNB()\n",
        "classifier.fit(X_train, Y_train)\n",
        "Y_pred = classifier.predict(X_test)\n",
        "\n",
        "scores = cross_validate(classifier, X_train, y=Y_train, cv=5, scoring=['accuracy', 'precision', 'recall', 'f1'])\n",
        "scores_df = pd.DataFrame(scores)\n",
        "scores_df.mean(axis=0)"
      ],
      "execution_count": 2,
      "outputs": [
        {
          "output_type": "execute_result",
          "data": {
            "text/plain": [
              "fit_time          0.001482\n",
              "score_time        0.003108\n",
              "test_accuracy     0.752733\n",
              "test_precision    0.648486\n",
              "test_recall       0.749546\n",
              "test_f1           0.694675\n",
              "dtype: float64"
            ]
          },
          "metadata": {
            "tags": []
          },
          "execution_count": 2
        }
      ]
    },
    {
      "cell_type": "markdown",
      "metadata": {
        "id": "lJE2uNcXPvZj"
      },
      "source": [
        "### Q2:"
      ]
    },
    {
      "cell_type": "code",
      "metadata": {
        "id": "ZAPesZ5lMw-0",
        "outputId": "40f1d903-4665-49bc-9960-495c0c92207c",
        "colab": {
          "base_uri": "https://localhost:8080/",
          "height": 421
        }
      },
      "source": [
        "accuracies = []\n",
        "k_range = range(1, 100)\n",
        "\n",
        "for i in k_range:\n",
        "    classifier = KNeighborsClassifier(n_neighbors = i)\n",
        "    neighbor = classifier.fit(X_train, Y_train)\n",
        "    y_hat = neighbor.predict(X_test)\n",
        "    accuracies.append(metrics.accuracy_score(Y_test, y_hat))\n",
        "\n",
        "plt.figure(figsize=(10, 6))\n",
        "plt.plot(k_range, accuracies, marker='o')\n",
        "plt.title('Accuracies of kNN over k')\n",
        "plt.xlabel('k')\n",
        "plt.ylabel('Accuracy')\n",
        "\n",
        "best_accuracy = max(accuracies)\n",
        "best_k = accuracies.index(best_accuracy) + 1\n",
        "\n",
        "print('Best k value and its associated accuracy: k =', best_k, '\\b,', best_accuracy)"
      ],
      "execution_count": 23,
      "outputs": [
        {
          "output_type": "stream",
          "text": [
            "Best k value and its associated accuracy: k = 16 \b, 0.8044692737430168\n"
          ],
          "name": "stdout"
        },
        {
          "output_type": "display_data",
          "data": {
            "image/png": "[encoded data removed]",
            "text/plain": [
              "<Figure size 720x432 with 1 Axes>"
            ]
          },
          "metadata": {
            "tags": [],
            "needs_background": "light"
          }
        }
      ]
    }
  ]
}